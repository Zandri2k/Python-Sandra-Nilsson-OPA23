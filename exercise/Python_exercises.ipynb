{
 "cells": [
  {
   "cell_type": "markdown",
   "metadata": {},
   "source": [
    "# Exercise 0\n",
    "## 0. Pythagorean theorem (*)\n",
    "  a)   A right angled triangle has the catheti: a = 3 and b = 4 length units. Compute the hypothenuse of the triangle. (*)\n",
    "\n",
    "  b)   A right angled triangle has hypothenuse c = 7.0 and a cathetus a = 5.0 length units. Compute the other cathetus and round to one decimal. (*)\n",
    "\n"
   ]
  },
  {
   "cell_type": "markdown",
   "metadata": {},
   "source": [
    "A"
   ]
  },
  {
   "cell_type": "code",
   "execution_count": 3,
   "metadata": {},
   "outputs": [
    {
     "name": "stdout",
     "output_type": "stream",
     "text": [
      "the lenght of the hypothenues is 5.0\n"
     ]
    }
   ],
   "source": [
    "import math\n",
    "\n",
    "a = 3\n",
    "b = 4\n",
    "c = math.sqrt(a**2 + b**2)\n",
    "print(f\"the lenght of the hypothenues is {c}\")"
   ]
  },
  {
   "cell_type": "markdown",
   "metadata": {},
   "source": [
    "B"
   ]
  },
  {
   "cell_type": "code",
   "execution_count": 24,
   "metadata": {},
   "outputs": [
    {
     "name": "stdout",
     "output_type": "stream",
     "text": [
      "The lenght on the b cathesus is 4.9\n"
     ]
    }
   ],
   "source": [
    "import math\n",
    "\n",
    "c= 7.0\n",
    "a = 5.0\n",
    "b = math.sqrt(c**2 - a**2)\n",
    "# round avrundar till en decimal\n",
    "print(f\"The lenght on the b cathesus is {round(b,1)}\")\n"
   ]
  },
  {
   "cell_type": "markdown",
   "metadata": {},
   "source": [
    "# Exercise 1\n",
    "## 2. Classification accuracy\n",
    "A machine learning algorithm has been trained to predict whether or not it would rain the next day. Out of 365 predictions, it got 300 correct, compute the accuracy of this model."
   ]
  },
  {
   "cell_type": "code",
   "execution_count": 35,
   "metadata": {},
   "outputs": [
    {
     "name": "stdout",
     "output_type": "stream",
     "text": [
      " the machine learning algorith had accuracy of 82.2 %\n"
     ]
    }
   ],
   "source": [
    "import math\n",
    "\n",
    "# guesses\n",
    "predictions = 365\n",
    "\n",
    "# corect guess\n",
    "correct_guess = 300\n",
    "# delen genom hela (%)\n",
    "accuracy = (correct_guess /predictions ) * 100 # * 100 to get it as a procentage\n",
    "\n",
    "print(f\" the machine learning algorith had accuracy of {round(accuracy,1)} %\")\n"
   ]
  },
  {
   "cell_type": "markdown",
   "metadata": {},
   "source": [
    "# 3. Classification accuracy\n",
    "## A machine learning model has been trained to detect fire. Here is the result of its predictions:\n",
    "True Positive (TP)\n",
    "Reality: fire\n",
    "Predicted: fire\n",
    "Number of TP: 2\n",
    "\n",
    "False Positive (FP)\n",
    "Reality: no fire\n",
    "Predicted: fire\n",
    "Number of FP: 2\n",
    "\n",
    "False Negative (FN)\n",
    "Reality: fire\n",
    "Predicted: no fire\n",
    "Number of FN: 11\n",
    "\n",
    "True Negative (TN)\n",
    "Reality: no fire\n",
    "Predicted: no fire\n",
    "Number of TN: 985\n",
    "\n",
    "\n",
    "\n",
    "\n",
    "\n"
   ]
  },
  {
   "cell_type": "code",
   "execution_count": 41,
   "metadata": {},
   "outputs": [
    {
     "data": {
      "text/plain": [
       "98.7"
      ]
     },
     "execution_count": 41,
     "metadata": {},
     "output_type": "execute_result"
    }
   ],
   "source": [
    "import math \n",
    "\n",
    "TP = 2\n",
    "FP = 2\n",
    "FN = 11\n",
    "TN =  985\n",
    "\n",
    "accuracy = ((TP + TN) / (TP+TN+FP+FN)) * 100\n",
    "\n",
    "accuracy"
   ]
  },
  {
   "cell_type": "markdown",
   "metadata": {},
   "source": [
    "# 4. Line\n",
    "## Compute the slope \"k\" and the constant term \"m\" of this line using the points and.\n",
    "## A: (4,4) and B: (0,1)\n",
    "## version 1\n",
    "\n"
   ]
  },
  {
   "cell_type": "code",
   "execution_count": 51,
   "metadata": {},
   "outputs": [
    {
     "name": "stdout",
     "output_type": "stream",
     "text": [
      "m värdet: 1 K-värdet: 0.75\n"
     ]
    }
   ],
   "source": [
    "import math\n",
    "\n",
    "point_A = 4,4\n",
    "Point_B = 0,1\n",
    "Slope_K = ((1-4)/(0-4))\n",
    "slope_M = (4-3)\n",
    "\n",
    "\n",
    "\n",
    "print(f\"m värdet: {slope_M} K-värdet: {Slope_K}\")"
   ]
  },
  {
   "cell_type": "markdown",
   "metadata": {},
   "source": []
  },
  {
   "cell_type": "markdown",
   "metadata": {},
   "source": [
    "## Version 2"
   ]
  },
  {
   "cell_type": "code",
   "execution_count": 63,
   "metadata": {},
   "outputs": [
    {
     "name": "stdout",
     "output_type": "stream",
     "text": [
      "lutningskonstanten (k):  0.75\n",
      "lutningstermen (m):  1.0\n"
     ]
    }
   ],
   "source": [
    "x1, y1 = 4, 4\n",
    "x2, y2 = 0, 1\n",
    "\n",
    "delta_y = y2 - y1\n",
    "delta_x = x2 - x1\n",
    "\n",
    "k = delta_y / delta_x \n",
    "\n",
    "m = y1 - k * x1\n",
    "\n",
    "print(\"lutningskonstanten (k): \", k)\n",
    "print(\"lutningstermen (m): \", m)"
   ]
  },
  {
   "cell_type": "markdown",
   "metadata": {},
   "source": [
    "##Version 3 (nya punkter)"
   ]
  },
  {
   "cell_type": "code",
   "execution_count": 64,
   "metadata": {},
   "outputs": [
    {
     "name": "stdout",
     "output_type": "stream",
     "text": [
      "lutningskonstanten (k):  -0.5\n",
      "lutningstermen (m):  9.5\n"
     ]
    }
   ],
   "source": [
    "import math\n",
    "\n",
    "x1, y1 = 3, 8\n",
    "x2, y2 = 7,6\n",
    "delta_y = y2 - y1\n",
    "delta_x = x2 - x1\n",
    "\n",
    "k = delta_y / delta_x\n",
    "\n",
    "m = y1 - k * x1\n",
    "\n",
    "print(\"lutningskonstanten (k): \", k)\n",
    "print(\"lutningstermen (m): \", m)"
   ]
  },
  {
   "cell_type": "markdown",
   "metadata": {},
   "source": [
    "# If statments\n"
   ]
  },
  {
   "cell_type": "markdown",
   "metadata": {},
   "source": []
  }
 ],
 "metadata": {
  "kernelspec": {
   "display_name": "venv",
   "language": "python",
   "name": "python3"
  },
  "language_info": {
   "codemirror_mode": {
    "name": "ipython",
    "version": 3
   },
   "file_extension": ".py",
   "mimetype": "text/x-python",
   "name": "python",
   "nbconvert_exporter": "python",
   "pygments_lexer": "ipython3",
   "version": "3.11.7"
  }
 },
 "nbformat": 4,
 "nbformat_minor": 2
}
