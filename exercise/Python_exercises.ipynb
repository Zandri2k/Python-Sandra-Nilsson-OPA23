{
 "cells": [
  {
   "cell_type": "markdown",
   "metadata": {},
   "source": [
    "# Exercise 0\n",
    "## 0. Pythagorean theorem (*)\n",
    "  a)   A right angled triangle has the catheti: a = 3 and b = 4 length units. Compute the hypothenuse of the triangle. (*)\n",
    "\n",
    "  b)   A right angled triangle has hypothenuse c = 7.0 and a cathetus a = 5.0 length units. Compute the other cathetus and round to one decimal. (*)\n",
    "\n"
   ]
  },
  {
   "cell_type": "markdown",
   "metadata": {},
   "source": [
    "A"
   ]
  },
  {
   "cell_type": "code",
   "execution_count": 79,
   "metadata": {},
   "outputs": [
    {
     "name": "stdout",
     "output_type": "stream",
     "text": [
      "the lenght of the hypothenues is 5.0\n"
     ]
    }
   ],
   "source": [
    "import math\n",
    "\n",
    "a = 3\n",
    "b = 4\n",
    "c = math.sqrt(a**2 + b**2)\n",
    "print(f\"the lenght of the hypothenues is {c}\")"
   ]
  },
  {
   "cell_type": "markdown",
   "metadata": {},
   "source": [
    "B"
   ]
  },
  {
   "cell_type": "code",
   "execution_count": 80,
   "metadata": {},
   "outputs": [
    {
     "name": "stdout",
     "output_type": "stream",
     "text": [
      "The lenght on the b cathesus is 4.9\n"
     ]
    }
   ],
   "source": [
    "import math\n",
    "\n",
    "c= 7.0\n",
    "a = 5.0\n",
    "b = math.sqrt(c**2 - a**2)\n",
    "# round avrundar till en decimal\n",
    "print(f\"The lenght on the b cathesus is {round(b,1)}\")\n"
   ]
  },
  {
   "cell_type": "markdown",
   "metadata": {},
   "source": [
    "# Exercise 1\n",
    "## 2. Classification accuracy\n",
    "A machine learning algorithm has been trained to predict whether or not it would rain the next day. Out of 365 predictions, it got 300 correct, compute the accuracy of this model."
   ]
  },
  {
   "cell_type": "code",
   "execution_count": 81,
   "metadata": {},
   "outputs": [
    {
     "name": "stdout",
     "output_type": "stream",
     "text": [
      " the machine learning algorith had accuracy of 82.2 %\n"
     ]
    }
   ],
   "source": [
    "import math\n",
    "\n",
    "# guesses\n",
    "predictions = 365\n",
    "\n",
    "# corect guess\n",
    "correct_guess = 300\n",
    "# delen genom hela (%)\n",
    "accuracy = (correct_guess /predictions ) * 100 # * 100 to get it as a procentage\n",
    "\n",
    "print(f\" the machine learning algorith had accuracy of {round(accuracy,1)} %\")\n"
   ]
  },
  {
   "cell_type": "markdown",
   "metadata": {},
   "source": [
    "# 3. Classification accuracy\n",
    "## A machine learning model has been trained to detect fire. Here is the result of its predictions:\n",
    "True Positive (TP)\n",
    "Reality: fire\n",
    "Predicted: fire\n",
    "Number of TP: 2\n",
    "\n",
    "False Positive (FP)\n",
    "Reality: no fire\n",
    "Predicted: fire\n",
    "Number of FP: 2\n",
    "\n",
    "False Negative (FN)\n",
    "Reality: fire\n",
    "Predicted: no fire\n",
    "Number of FN: 11\n",
    "\n",
    "True Negative (TN)\n",
    "Reality: no fire\n",
    "Predicted: no fire\n",
    "Number of TN: 985\n",
    "\n",
    "\n",
    "\n",
    "\n",
    "\n"
   ]
  },
  {
   "cell_type": "code",
   "execution_count": 82,
   "metadata": {},
   "outputs": [
    {
     "data": {
      "text/plain": [
       "98.7"
      ]
     },
     "execution_count": 82,
     "metadata": {},
     "output_type": "execute_result"
    }
   ],
   "source": [
    "import math \n",
    "\n",
    "TP = 2\n",
    "FP = 2\n",
    "FN = 11\n",
    "TN =  985\n",
    "\n",
    "accuracy = ((TP + TN) / (TP+TN+FP+FN)) * 100\n",
    "\n",
    "accuracy"
   ]
  },
  {
   "cell_type": "markdown",
   "metadata": {},
   "source": [
    "# 4. Line\n",
    "## Compute the slope \"k\" and the constant term \"m\" of this line using the points and.\n",
    "## A: (4,4) and B: (0,1)\n",
    "## version 1\n",
    "\n"
   ]
  },
  {
   "cell_type": "code",
   "execution_count": 83,
   "metadata": {},
   "outputs": [
    {
     "name": "stdout",
     "output_type": "stream",
     "text": [
      "m värdet: 1 K-värdet: 0.75\n"
     ]
    }
   ],
   "source": [
    "import math\n",
    "\n",
    "point_A = 4,4\n",
    "Point_B = 0,1\n",
    "Slope_K = ((1-4)/(0-4))\n",
    "slope_M = (4-3)\n",
    "\n",
    "\n",
    "\n",
    "print(f\"m värdet: {slope_M} K-värdet: {Slope_K}\")"
   ]
  },
  {
   "cell_type": "markdown",
   "metadata": {},
   "source": []
  },
  {
   "cell_type": "markdown",
   "metadata": {},
   "source": [
    "## Version 2"
   ]
  },
  {
   "cell_type": "code",
   "execution_count": 84,
   "metadata": {},
   "outputs": [
    {
     "name": "stdout",
     "output_type": "stream",
     "text": [
      "lutningskonstanten (k):  0.75\n",
      "lutningstermen (m):  1.0\n"
     ]
    }
   ],
   "source": [
    "x1, y1 = 4, 4\n",
    "x2, y2 = 0, 1\n",
    "\n",
    "delta_y = y2 - y1\n",
    "delta_x = x2 - x1\n",
    "\n",
    "k = delta_y / delta_x \n",
    "\n",
    "m = y1 - k * x1\n",
    "\n",
    "print(\"lutningskonstanten (k): \", k)\n",
    "print(\"lutningstermen (m): \", m)"
   ]
  },
  {
   "cell_type": "markdown",
   "metadata": {},
   "source": [
    "##Version 3 (nya punkter)"
   ]
  },
  {
   "cell_type": "code",
   "execution_count": 85,
   "metadata": {},
   "outputs": [
    {
     "name": "stdout",
     "output_type": "stream",
     "text": [
      "lutningskonstanten (k):  -0.5\n",
      "lutningstermen (m):  9.5\n"
     ]
    }
   ],
   "source": [
    "import math\n",
    "\n",
    "x1, y1 = 3, 8\n",
    "x2, y2 = 7,6\n",
    "delta_y = y2 - y1\n",
    "delta_x = x2 - x1\n",
    "\n",
    "k = delta_y / delta_x\n",
    "\n",
    "m = y1 - k * x1\n",
    "\n",
    "print(\"lutningskonstanten (k): \", k)\n",
    "print(\"lutningstermen (m): \", m)"
   ]
  },
  {
   "cell_type": "markdown",
   "metadata": {},
   "source": [
    "# If statments\n"
   ]
  },
  {
   "cell_type": "markdown",
   "metadata": {},
   "source": [
    "# Check in\n",
    "\n",
    "\n",
    "\n"
   ]
  },
  {
   "cell_type": "markdown",
   "metadata": {},
   "source": [
    "Ask the user to input a number and check if this number is positive, negative or zero and print it out.\n",
    "\n"
   ]
  },
  {
   "cell_type": "code",
   "execution_count": 86,
   "metadata": {},
   "outputs": [
    {
     "name": "stdout",
     "output_type": "stream",
     "text": [
      "thats a positive number\n"
     ]
    }
   ],
   "source": [
    "number = int(input(\"Enter a number: \"))\n",
    "if number == 0:\n",
    "    print(\"Thats a neutral number\")\n",
    "if number >=1:\n",
    "    print(\"thats a positive number\")\n",
    "else:\n",
    "    print(\"thats a negative number\")\n",
    "\n",
    "    \n"
   ]
  },
  {
   "cell_type": "markdown",
   "metadata": {},
   "source": []
  },
  {
   "cell_type": "markdown",
   "metadata": {},
   "source": [
    "# smallest\n",
    "Ask the user to input two numbers and check which one is the smallest and print it out."
   ]
  },
  {
   "cell_type": "code",
   "execution_count": 87,
   "metadata": {},
   "outputs": [
    {
     "name": "stdout",
     "output_type": "stream",
     "text": [
      "your numbers are eaqual\n"
     ]
    }
   ],
   "source": [
    "a = input(\"enter a number\")\n",
    "b = input(\"enter a number\")\n",
    "if a > b: \n",
    "    print(f\"{a} is greater than {b}\")\n",
    "if b > a:\n",
    "    print(f\"{b} is greater than {a}\")\n",
    "else:\n",
    "    print(\"your numbers are eaqual\")\n"
   ]
  },
  {
   "cell_type": "markdown",
   "metadata": {},
   "source": [
    "# Right angle\n",
    "Ask the user to input three angles and check if the triangle has a right angle. Your code should make sure that all three angles are valid and make up a triangle.\n"
   ]
  },
  {
   "cell_type": "code",
   "execution_count": 88,
   "metadata": {},
   "outputs": [
    {
     "name": "stdout",
     "output_type": "stream",
     "text": [
      "this does not form a valid triangle\n"
     ]
    }
   ],
   "source": [
    "def valid_triangle(angle1, angle2, angle3):\n",
    "    if angle1 <= 0 or angle2 <= 0 or angle3 <= 0:\n",
    "        return False\n",
    "    if angle1 + angle2 + angle3 != 180:  # kollar om vinkelsumman blir 180 grader\n",
    "        return False\n",
    "    return True\n",
    "\n",
    "def got_right_angle(angle1, angle2, angle3):\n",
    "    return angle1 == 90 or angle2 == 90 or angle3 == 90 # kollar om det finns rätvinkel på vinklarna\n",
    "\n",
    "def main():        \n",
    "    angle1 = float(input(\"enter a number of an angle\"))\n",
    "    angle2 = float(input(\"enter a number of an angle\"))\n",
    "    angle3 = float(input(\"enter a number of an angle\"))\n",
    "\n",
    "    if valid_triangle(angle1, angle2, angle3):\n",
    "        print(\"this is a valid triangle\")\n",
    "\n",
    "        if got_right_angle(angle1, angle2, angle3):\n",
    "            print(\"the triangle has a right angle\")\n",
    "        else:\n",
    "            print(\"triangle does not have a right angle\")\n",
    "    else:\n",
    "        print(\"this does not form a valid triangle\")\n",
    "\n",
    "\n",
    "if __name__ == \"__main__\":\n",
    "    main()"
   ]
  },
  {
   "cell_type": "markdown",
   "metadata": {},
   "source": [
    "# Medicine\n",
    "The information in the following table is stated in a medicine package. Also it is stated that for children weight is more important than age.\n",
    "- Adults & adolescent\n",
    "over 40 kg\tover 12 years\t1-2 pills\n",
    "\n",
    "- Children 26-40 kg\t7-12 years\t1/2-1 pills\n",
    "- Children 15-25 kg\t3-7 years\t1/2 pills\n",
    "\n",
    "Let the user input an age and a weight, the program should recommend the number of pills for the user.   "
   ]
  },
  {
   "cell_type": "markdown",
   "metadata": {},
   "source": []
  },
  {
   "cell_type": "code",
   "execution_count": 89,
   "metadata": {},
   "outputs": [
    {
     "name": "stdout",
     "output_type": "stream",
     "text": [
      "1/2 pill is recommended\n"
     ]
    }
   ],
   "source": [
    "Age = int(input(\"Enter your age\"))\n",
    "Weight = int(input(\"Eter your weight\"))\n",
    "\n",
    "if Age >= 12 and Weight >= 40:\n",
    "    print(\"your considered an adult, we recommend 1-2 pills\")\n",
    "if Age <= 3 and Weight <=26:\n",
    "    print(\"your young, we recommend 1/2 - 1 pill\")\n",
    "else:\n",
    "    print(\"1/2 pill is recommended\")"
   ]
  },
  {
   "cell_type": "markdown",
   "metadata": {},
   "source": [
    "# divisible\n",
    "Let the user input a number. Check if the number is\n",
    "\n",
    "- even or odd\n",
    "- is divisible by 5\n",
    "- is divisble by 5 and odd\n"
   ]
  },
  {
   "cell_type": "markdown",
   "metadata": {},
   "source": []
  },
  {
   "cell_type": "code",
   "execution_count": 90,
   "metadata": {},
   "outputs": [
    {
     "name": "stdout",
     "output_type": "stream",
     "text": [
      "23 is odd\n",
      "23 is not divisible by 5\n"
     ]
    }
   ],
   "source": [
    "def odd_number(number):\n",
    "    return number % 2 == 1\n",
    "\n",
    "def divisble_5 (number):\n",
    "    return number % 5 == 0\n",
    "\n",
    "def odd_divisible_5(number):\n",
    "    return number % 2 == 1 and number % 5 == 0\n",
    "\n",
    "number = int(input(\"enter a number\"))\n",
    "if odd_number(number):\n",
    "    print(f\"{number} is odd\")\n",
    "if divisble_5(number):\n",
    "    print(f\"{number} is divisible by 5\")\n",
    "else:\n",
    "    print(number, \"is not divisible by 5\")\n",
    "\n",
    "if odd_divisible_5(number):\n",
    "    print(number, \"is both odd and divisible by 5\")\n",
    "\n"
   ]
  },
  {
   "cell_type": "markdown",
   "metadata": {},
   "source": [
    "1\n"
   ]
  },
  {
   "cell_type": "markdown",
   "metadata": {},
   "source": [
    "# Luggage size\n",
    "The maximum allowed luggage size for boarding an airplane is:\n",
    "\n",
    "- weight: 8kg\n",
    "- dimensions: 55x40x23cm (length x width x height)\n",
    "\n",
    "Let the user input weight, length, width and height of the luggage. The program should check if the luggage is allowed or not.\n",
    "\n"
   ]
  },
  {
   "cell_type": "code",
   "execution_count": 91,
   "metadata": {},
   "outputs": [
    {
     "name": "stdout",
     "output_type": "stream",
     "text": [
      "your bag is in good shape\n"
     ]
    }
   ],
   "source": [
    "weight = int(input(\"Enter the weight of your bag\"))\n",
    "lenght = int(input(\"enter the lenght of the bag\"))\n",
    "width = int(input(\"enter the width of the bag\"))\n",
    "height = int(input (\"enter the height of the bag\"))\n",
    "\n",
    "if (weight >= 8 and lenght >= 55) or (width >= 40 and height >=23):\n",
    "    print(\"your bag is too big\")\n",
    "else:\n",
    "    print(\"your bag is in good shape\")"
   ]
  },
  {
   "cell_type": "markdown",
   "metadata": {},
   "source": [
    "# Count numbers\n",
    "- Use a while statement to count from -10 to 10 with one increment.\n",
    "\n"
   ]
  },
  {
   "cell_type": "code",
   "execution_count": 92,
   "metadata": {},
   "outputs": [
    {
     "name": "stdout",
     "output_type": "stream",
     "text": [
      "-10\n",
      "-9\n",
      "-8\n",
      "-7\n",
      "-6\n",
      "-5\n",
      "-4\n",
      "-3\n",
      "-2\n",
      "-1\n",
      "0\n",
      "1\n",
      "2\n",
      "3\n",
      "4\n",
      "5\n",
      "6\n",
      "7\n",
      "8\n",
      "9\n",
      "10\n"
     ]
    }
   ],
   "source": [
    "i = -10\n",
    "while i < 11:\n",
    "  print(i)\n",
    "  if (i == 10):\n",
    "    break\n",
    "  i += 1"
   ]
  },
  {
   "cell_type": "markdown",
   "metadata": {},
   "source": [
    "# arithmetic sum\n",
    "- Use a while statement to compute the following sums:\n",
    "\n",
    "  a)   sum = 1 + 2 +...+ 99 + 100\n",
    "\n",
    "  b)   sum = 1 + 3 + 5...+ 97 + 99"
   ]
  },
  {
   "cell_type": "code",
   "execution_count": 93,
   "metadata": {},
   "outputs": [
    {
     "name": "stdout",
     "output_type": "stream",
     "text": [
      "the sum of the numbers 1 - 100 is:  5050\n"
     ]
    }
   ],
   "source": [
    "sum = 0\n",
    "i = 1\n",
    "\n",
    "while i <= 100:\n",
    "    sum += i\n",
    "    i += 1\n",
    "print(\"the sum of the numbers 1 - 100 is: \", sum )\n"
   ]
  },
  {
   "cell_type": "code",
   "execution_count": 94,
   "metadata": {},
   "outputs": [
    {
     "name": "stdout",
     "output_type": "stream",
     "text": [
      "the sum is:  2500\n"
     ]
    }
   ],
   "source": [
    "sum = 0 \n",
    "i = 1\n",
    "\n",
    "while i <= 99: \n",
    "    sum += i \n",
    "    i += 2\n",
    "print(\"the sum is: \", sum)"
   ]
  },
  {
   "cell_type": "markdown",
   "metadata": {},
   "source": [
    "# guess the number"
   ]
  },
  {
   "cell_type": "markdown",
   "metadata": {},
   "source": [
    "-   a)   Create a guessing number game following this flow chart:\n",
    "-  b)   Make an algorithm to automatically guess the correct number. Can you optimize to get as few guesses as possible? (**)"
   ]
  },
  {
   "cell_type": "markdown",
   "metadata": {},
   "source": []
  },
  {
   "cell_type": "markdown",
   "metadata": {},
   "source": [
    "# Data-Processing\n",
    "## 0. Creat this data frame from scratch \n",
    "\n",
    "Kolla pandas basics!\n",
    "\n",
    "Kommun\tPopulation\n",
    "- 0\tMalmö\t347949\n",
    "- 1\tStockholm\t975551\n",
    "- 2\tUppsala\t233839\n",
    "- 3\tGöteborg\t583056\n",
    "\n",
    "a) Use your DataFrame to print out all the cities. (*)\n",
    "\n",
    "  b) Select only the row which contains Göteborg. Do this by using the name Göteborg. (*)\n",
    "\n",
    "  c) Sort the cities by population from largest to smallest. (*)\n",
    "\n",
    "  d) Filter out the three largest cities. (*)\n",
    "\n",
    "  e) The whole population in Sweden 2020 is 10379295. Use this number to create a new column in your sorted DataFrame named: Population (%). This column should be filled with percentage of the Swedish population for each city."
   ]
  },
  {
   "cell_type": "code",
   "execution_count": 95,
   "metadata": {},
   "outputs": [
    {
     "data": {
      "text/html": [
       "<div>\n",
       "<style scoped>\n",
       "    .dataframe tbody tr th:only-of-type {\n",
       "        vertical-align: middle;\n",
       "    }\n",
       "\n",
       "    .dataframe tbody tr th {\n",
       "        vertical-align: top;\n",
       "    }\n",
       "\n",
       "    .dataframe thead th {\n",
       "        text-align: right;\n",
       "    }\n",
       "</style>\n",
       "<table border=\"1\" class=\"dataframe\">\n",
       "  <thead>\n",
       "    <tr style=\"text-align: right;\">\n",
       "      <th></th>\n",
       "      <th>Kommun</th>\n",
       "      <th>Population</th>\n",
       "    </tr>\n",
       "  </thead>\n",
       "  <tbody>\n",
       "    <tr>\n",
       "      <th>0</th>\n",
       "      <td>Malmö</td>\n",
       "      <td>347939</td>\n",
       "    </tr>\n",
       "    <tr>\n",
       "      <th>1</th>\n",
       "      <td>Stockholm</td>\n",
       "      <td>97551</td>\n",
       "    </tr>\n",
       "    <tr>\n",
       "      <th>2</th>\n",
       "      <td>Uppsala</td>\n",
       "      <td>233839</td>\n",
       "    </tr>\n",
       "    <tr>\n",
       "      <th>3</th>\n",
       "      <td>Göteborg</td>\n",
       "      <td>583056</td>\n",
       "    </tr>\n",
       "  </tbody>\n",
       "</table>\n",
       "</div>"
      ],
      "text/plain": [
       "      Kommun  Population\n",
       "0      Malmö      347939\n",
       "1  Stockholm       97551\n",
       "2    Uppsala      233839\n",
       "3   Göteborg      583056"
      ]
     },
     "execution_count": 95,
     "metadata": {},
     "output_type": "execute_result"
    }
   ],
   "source": [
    "import numpy as np\n",
    "import pandas as pd\n",
    "\n",
    "df1 = pd.DataFrame(\n",
    "    {\"Kommun\": [\"Malmö\", \"Stockholm\", \"Uppsala\", \"Göteborg\"], \"Population\": [347939, 97551, 233839, 583056]\n",
    "\n",
    "    }\n",
    ")\n",
    "\n",
    "df1"
   ]
  },
  {
   "cell_type": "markdown",
   "metadata": {},
   "source": [
    "###  b) Select only the row which contains Göteborg. Do this by using the name Göteborg. (*)"
   ]
  },
  {
   "cell_type": "code",
   "execution_count": 96,
   "metadata": {},
   "outputs": [
    {
     "data": {
      "text/html": [
       "<div>\n",
       "<style scoped>\n",
       "    .dataframe tbody tr th:only-of-type {\n",
       "        vertical-align: middle;\n",
       "    }\n",
       "\n",
       "    .dataframe tbody tr th {\n",
       "        vertical-align: top;\n",
       "    }\n",
       "\n",
       "    .dataframe thead th {\n",
       "        text-align: right;\n",
       "    }\n",
       "</style>\n",
       "<table border=\"1\" class=\"dataframe\">\n",
       "  <thead>\n",
       "    <tr style=\"text-align: right;\">\n",
       "      <th></th>\n",
       "      <th>Kommun</th>\n",
       "      <th>Population</th>\n",
       "    </tr>\n",
       "  </thead>\n",
       "  <tbody>\n",
       "    <tr>\n",
       "      <th>3</th>\n",
       "      <td>Göteborg</td>\n",
       "      <td>583056</td>\n",
       "    </tr>\n",
       "  </tbody>\n",
       "</table>\n",
       "</div>"
      ],
      "text/plain": [
       "     Kommun  Population\n",
       "3  Göteborg      583056"
      ]
     },
     "execution_count": 96,
     "metadata": {},
     "output_type": "execute_result"
    }
   ],
   "source": [
    "df1[df1[\"Kommun\"] == \"Göteborg\"] "
   ]
  },
  {
   "cell_type": "markdown",
   "metadata": {},
   "source": [
    "### c) sort the cities, largest to smallest"
   ]
  },
  {
   "cell_type": "code",
   "execution_count": 97,
   "metadata": {},
   "outputs": [
    {
     "data": {
      "text/plain": [
       "3    583056\n",
       "0    347939\n",
       "2    233839\n",
       "1     97551\n",
       "Name: Population, dtype: int64"
      ]
     },
     "execution_count": 97,
     "metadata": {},
     "output_type": "execute_result"
    }
   ],
   "source": [
    "df1[\"Population\"].sort_values(ascending=False)"
   ]
  },
  {
   "cell_type": "markdown",
   "metadata": {},
   "source": [
    "### d) three largest cities"
   ]
  },
  {
   "cell_type": "code",
   "execution_count": 98,
   "metadata": {},
   "outputs": [
    {
     "data": {
      "text/plain": [
       "3    583056\n",
       "0    347939\n",
       "2    233839\n",
       "Name: Population, dtype: int64"
      ]
     },
     "execution_count": 98,
     "metadata": {},
     "output_type": "execute_result"
    }
   ],
   "source": [
    "top3_cities = df1[\"Population\"].sort_values(ascending=False).iloc[:3] #iloc to lock the limit by 3\n",
    "top3_cities.head()"
   ]
  },
  {
   "cell_type": "markdown",
   "metadata": {},
   "source": [
    "### e) The whole population in Sweden 2020 is 10379295. Use this number to create a new column in your sorted DataFrame named: Population (%). This column should be filled with percentage of the Swedish population for each city."
   ]
  },
  {
   "cell_type": "code",
   "execution_count": 99,
   "metadata": {},
   "outputs": [
    {
     "data": {
      "text/html": [
       "<div>\n",
       "<style scoped>\n",
       "    .dataframe tbody tr th:only-of-type {\n",
       "        vertical-align: middle;\n",
       "    }\n",
       "\n",
       "    .dataframe tbody tr th {\n",
       "        vertical-align: top;\n",
       "    }\n",
       "\n",
       "    .dataframe thead th {\n",
       "        text-align: right;\n",
       "    }\n",
       "</style>\n",
       "<table border=\"1\" class=\"dataframe\">\n",
       "  <thead>\n",
       "    <tr style=\"text-align: right;\">\n",
       "      <th></th>\n",
       "      <th>Kommun</th>\n",
       "      <th>Population</th>\n",
       "      <th>Population %</th>\n",
       "    </tr>\n",
       "  </thead>\n",
       "  <tbody>\n",
       "    <tr>\n",
       "      <th>0</th>\n",
       "      <td>Malmö</td>\n",
       "      <td>347939</td>\n",
       "      <td>3.48</td>\n",
       "    </tr>\n",
       "    <tr>\n",
       "      <th>1</th>\n",
       "      <td>Stockholm</td>\n",
       "      <td>97551</td>\n",
       "      <td>0.98</td>\n",
       "    </tr>\n",
       "    <tr>\n",
       "      <th>2</th>\n",
       "      <td>Uppsala</td>\n",
       "      <td>233839</td>\n",
       "      <td>2.34</td>\n",
       "    </tr>\n",
       "    <tr>\n",
       "      <th>3</th>\n",
       "      <td>Göteborg</td>\n",
       "      <td>583056</td>\n",
       "      <td>5.83</td>\n",
       "    </tr>\n",
       "  </tbody>\n",
       "</table>\n",
       "</div>"
      ],
      "text/plain": [
       "      Kommun  Population  Population %\n",
       "0      Malmö      347939          3.48\n",
       "1  Stockholm       97551          0.98\n",
       "2    Uppsala      233839          2.34\n",
       "3   Göteborg      583056          5.83"
      ]
     },
     "execution_count": 99,
     "metadata": {},
     "output_type": "execute_result"
    }
   ],
   "source": [
    "df2 = pd.DataFrame(\n",
    "    {\"Kommun\": [\"Malmö\", \"Stockholm\", \"Uppsala\", \"Göteborg\"], \n",
    "     \"Population\": [347939, 97551, 233839, 583056]\n",
    "    }\n",
    ")\n",
    "\n",
    "sweden_population = 10000000\n",
    "df2 [\"Population %\"] = round((df2[\"Population\"] / sweden_population) * 100, 2) #räknar ut procenten av populationen/ kommun\n",
    "\n",
    "df2\n",
    "\n"
   ]
  },
  {
   "cell_type": "markdown",
   "metadata": {},
   "source": [
    "# 1. Cities in Sweden - real dataset (*)\n",
    "### Download the file komtopp50_2020.xlsx from the course github repo. The data is taken from SCB.\n",
    "\n",
    "  a) Read in the tab \"Totalt\" into a DataFrame and start exploring the data with some simple explorations such as\n",
    "\n",
    "- df.head()\n",
    "- df.info()\n",
    "- df.describe()\n",
    "Feel free to do more explorations. (*)"
   ]
  },
  {
   "cell_type": "markdown",
   "metadata": {},
   "source": [
    "  b) Clean your data so that the head looks like this: (*)\n",
    "\n"
   ]
  },
  {
   "cell_type": "code",
   "execution_count": 125,
   "metadata": {},
   "outputs": [
    {
     "data": {
      "text/html": [
       "<div>\n",
       "<style scoped>\n",
       "    .dataframe tbody tr th:only-of-type {\n",
       "        vertical-align: middle;\n",
       "    }\n",
       "\n",
       "    .dataframe tbody tr th {\n",
       "        vertical-align: top;\n",
       "    }\n",
       "\n",
       "    .dataframe thead th {\n",
       "        text-align: right;\n",
       "    }\n",
       "</style>\n",
       "<table border=\"1\" class=\"dataframe\">\n",
       "  <thead>\n",
       "    <tr style=\"text-align: right;\">\n",
       "      <th></th>\n",
       "      <th>2020</th>\n",
       "      <th>2019</th>\n",
       "      <th>Unnamed: 2</th>\n",
       "      <th>2020.1</th>\n",
       "      <th>2019.1</th>\n",
       "      <th>Unnamed: 5</th>\n",
       "    </tr>\n",
       "  </thead>\n",
       "  <tbody>\n",
       "    <tr>\n",
       "      <th>0</th>\n",
       "      <td>1</td>\n",
       "      <td>1</td>\n",
       "      <td>Stockholm</td>\n",
       "      <td>975551</td>\n",
       "      <td>974073</td>\n",
       "      <td>1478</td>\n",
       "    </tr>\n",
       "    <tr>\n",
       "      <th>1</th>\n",
       "      <td>2</td>\n",
       "      <td>2</td>\n",
       "      <td>Göteborg</td>\n",
       "      <td>583056</td>\n",
       "      <td>579281</td>\n",
       "      <td>3775</td>\n",
       "    </tr>\n",
       "    <tr>\n",
       "      <th>2</th>\n",
       "      <td>3</td>\n",
       "      <td>3</td>\n",
       "      <td>Malmö</td>\n",
       "      <td>347949</td>\n",
       "      <td>344166</td>\n",
       "      <td>3783</td>\n",
       "    </tr>\n",
       "    <tr>\n",
       "      <th>3</th>\n",
       "      <td>4</td>\n",
       "      <td>4</td>\n",
       "      <td>Uppsala</td>\n",
       "      <td>233839</td>\n",
       "      <td>230767</td>\n",
       "      <td>3072</td>\n",
       "    </tr>\n",
       "    <tr>\n",
       "      <th>4</th>\n",
       "      <td>5</td>\n",
       "      <td>5</td>\n",
       "      <td>Linköping</td>\n",
       "      <td>164616</td>\n",
       "      <td>163051</td>\n",
       "      <td>1565</td>\n",
       "    </tr>\n",
       "    <tr>\n",
       "      <th>5</th>\n",
       "      <td>6</td>\n",
       "      <td>6</td>\n",
       "      <td>Örebro</td>\n",
       "      <td>156381</td>\n",
       "      <td>155696</td>\n",
       "      <td>685</td>\n",
       "    </tr>\n",
       "    <tr>\n",
       "      <th>6</th>\n",
       "      <td>7</td>\n",
       "      <td>7</td>\n",
       "      <td>Västerås</td>\n",
       "      <td>155551</td>\n",
       "      <td>154049</td>\n",
       "      <td>1502</td>\n",
       "    </tr>\n",
       "    <tr>\n",
       "      <th>7</th>\n",
       "      <td>8</td>\n",
       "      <td>8</td>\n",
       "      <td>Helsingborg</td>\n",
       "      <td>149280</td>\n",
       "      <td>147734</td>\n",
       "      <td>1546</td>\n",
       "    </tr>\n",
       "    <tr>\n",
       "      <th>8</th>\n",
       "      <td>9</td>\n",
       "      <td>9</td>\n",
       "      <td>Norrköping</td>\n",
       "      <td>143478</td>\n",
       "      <td>143171</td>\n",
       "      <td>307</td>\n",
       "    </tr>\n",
       "    <tr>\n",
       "      <th>9</th>\n",
       "      <td>10</td>\n",
       "      <td>10</td>\n",
       "      <td>Jönköping</td>\n",
       "      <td>142427</td>\n",
       "      <td>141081</td>\n",
       "      <td>1346</td>\n",
       "    </tr>\n",
       "    <tr>\n",
       "      <th>10</th>\n",
       "      <td>11</td>\n",
       "      <td>11</td>\n",
       "      <td>Umeå</td>\n",
       "      <td>130224</td>\n",
       "      <td>128901</td>\n",
       "      <td>1323</td>\n",
       "    </tr>\n",
       "    <tr>\n",
       "      <th>11</th>\n",
       "      <td>12</td>\n",
       "      <td>12</td>\n",
       "      <td>Lund</td>\n",
       "      <td>125941</td>\n",
       "      <td>124935</td>\n",
       "      <td>1006</td>\n",
       "    </tr>\n",
       "    <tr>\n",
       "      <th>12</th>\n",
       "      <td>13</td>\n",
       "      <td>13</td>\n",
       "      <td>Borås</td>\n",
       "      <td>113714</td>\n",
       "      <td>113179</td>\n",
       "      <td>535</td>\n",
       "    </tr>\n",
       "    <tr>\n",
       "      <th>13</th>\n",
       "      <td>14</td>\n",
       "      <td>14</td>\n",
       "      <td>Huddinge</td>\n",
       "      <td>113234</td>\n",
       "      <td>112848</td>\n",
       "      <td>386</td>\n",
       "    </tr>\n",
       "    <tr>\n",
       "      <th>14</th>\n",
       "      <td>15</td>\n",
       "      <td>15</td>\n",
       "      <td>Eskilstuna</td>\n",
       "      <td>106975</td>\n",
       "      <td>106859</td>\n",
       "      <td>116</td>\n",
       "    </tr>\n",
       "    <tr>\n",
       "      <th>15</th>\n",
       "      <td>16</td>\n",
       "      <td>16</td>\n",
       "      <td>Nacka</td>\n",
       "      <td>106505</td>\n",
       "      <td>105189</td>\n",
       "      <td>1316</td>\n",
       "    </tr>\n",
       "    <tr>\n",
       "      <th>16</th>\n",
       "      <td>17</td>\n",
       "      <td>17</td>\n",
       "      <td>Halmstad</td>\n",
       "      <td>103754</td>\n",
       "      <td>102767</td>\n",
       "      <td>987</td>\n",
       "    </tr>\n",
       "    <tr>\n",
       "      <th>17</th>\n",
       "      <td>18</td>\n",
       "      <td>18</td>\n",
       "      <td>Gävle</td>\n",
       "      <td>102904</td>\n",
       "      <td>102418</td>\n",
       "      <td>486</td>\n",
       "    </tr>\n",
       "    <tr>\n",
       "      <th>18</th>\n",
       "      <td>19</td>\n",
       "      <td>20</td>\n",
       "      <td>Södertälje</td>\n",
       "      <td>100111</td>\n",
       "      <td>98979</td>\n",
       "      <td>1132</td>\n",
       "    </tr>\n",
       "    <tr>\n",
       "      <th>19</th>\n",
       "      <td>20</td>\n",
       "      <td>19</td>\n",
       "      <td>Sundsvall</td>\n",
       "      <td>99439</td>\n",
       "      <td>99449</td>\n",
       "      <td>-10</td>\n",
       "    </tr>\n",
       "    <tr>\n",
       "      <th>20</th>\n",
       "      <td>21</td>\n",
       "      <td>22</td>\n",
       "      <td>Växjö</td>\n",
       "      <td>94859</td>\n",
       "      <td>94129</td>\n",
       "      <td>730</td>\n",
       "    </tr>\n",
       "    <tr>\n",
       "      <th>21</th>\n",
       "      <td>22</td>\n",
       "      <td>21</td>\n",
       "      <td>Botkyrka</td>\n",
       "      <td>94847</td>\n",
       "      <td>94606</td>\n",
       "      <td>241</td>\n",
       "    </tr>\n",
       "    <tr>\n",
       "      <th>22</th>\n",
       "      <td>23</td>\n",
       "      <td>23</td>\n",
       "      <td>Karlstad</td>\n",
       "      <td>94828</td>\n",
       "      <td>93898</td>\n",
       "      <td>930</td>\n",
       "    </tr>\n",
       "    <tr>\n",
       "      <th>23</th>\n",
       "      <td>24</td>\n",
       "      <td>24</td>\n",
       "      <td>Haninge</td>\n",
       "      <td>93690</td>\n",
       "      <td>92095</td>\n",
       "      <td>1595</td>\n",
       "    </tr>\n",
       "    <tr>\n",
       "      <th>24</th>\n",
       "      <td>25</td>\n",
       "      <td>25</td>\n",
       "      <td>Kristianstad</td>\n",
       "      <td>86217</td>\n",
       "      <td>85747</td>\n",
       "      <td>470</td>\n",
       "    </tr>\n",
       "    <tr>\n",
       "      <th>25</th>\n",
       "      <td>26</td>\n",
       "      <td>26</td>\n",
       "      <td>Kungsbacka</td>\n",
       "      <td>84930</td>\n",
       "      <td>84395</td>\n",
       "      <td>535</td>\n",
       "    </tr>\n",
       "    <tr>\n",
       "      <th>26</th>\n",
       "      <td>27</td>\n",
       "      <td>27</td>\n",
       "      <td>Solna</td>\n",
       "      <td>83162</td>\n",
       "      <td>82429</td>\n",
       "      <td>733</td>\n",
       "    </tr>\n",
       "    <tr>\n",
       "      <th>27</th>\n",
       "      <td>28</td>\n",
       "      <td>28</td>\n",
       "      <td>Järfälla</td>\n",
       "      <td>81274</td>\n",
       "      <td>79990</td>\n",
       "      <td>1284</td>\n",
       "    </tr>\n",
       "    <tr>\n",
       "      <th>28</th>\n",
       "      <td>29</td>\n",
       "      <td>29</td>\n",
       "      <td>Luleå</td>\n",
       "      <td>78549</td>\n",
       "      <td>78105</td>\n",
       "      <td>444</td>\n",
       "    </tr>\n",
       "    <tr>\n",
       "      <th>29</th>\n",
       "      <td>30</td>\n",
       "      <td>30</td>\n",
       "      <td>Sollentuna</td>\n",
       "      <td>73990</td>\n",
       "      <td>73857</td>\n",
       "      <td>133</td>\n",
       "    </tr>\n",
       "    <tr>\n",
       "      <th>30</th>\n",
       "      <td>31</td>\n",
       "      <td>31</td>\n",
       "      <td>Skellefteå</td>\n",
       "      <td>72840</td>\n",
       "      <td>72589</td>\n",
       "      <td>251</td>\n",
       "    </tr>\n",
       "    <tr>\n",
       "      <th>31</th>\n",
       "      <td>32</td>\n",
       "      <td>32</td>\n",
       "      <td>Täby</td>\n",
       "      <td>72755</td>\n",
       "      <td>71874</td>\n",
       "      <td>881</td>\n",
       "    </tr>\n",
       "    <tr>\n",
       "      <th>32</th>\n",
       "      <td>33</td>\n",
       "      <td>33</td>\n",
       "      <td>Kalmar</td>\n",
       "      <td>70329</td>\n",
       "      <td>69467</td>\n",
       "      <td>862</td>\n",
       "    </tr>\n",
       "    <tr>\n",
       "      <th>33</th>\n",
       "      <td>34</td>\n",
       "      <td>34</td>\n",
       "      <td>Mölndal</td>\n",
       "      <td>69901</td>\n",
       "      <td>69364</td>\n",
       "      <td>537</td>\n",
       "    </tr>\n",
       "    <tr>\n",
       "      <th>34</th>\n",
       "      <td>35</td>\n",
       "      <td>35</td>\n",
       "      <td>Karlskrona</td>\n",
       "      <td>66515</td>\n",
       "      <td>66622</td>\n",
       "      <td>-107</td>\n",
       "    </tr>\n",
       "    <tr>\n",
       "      <th>35</th>\n",
       "      <td>36</td>\n",
       "      <td>36</td>\n",
       "      <td>Varberg</td>\n",
       "      <td>65397</td>\n",
       "      <td>64601</td>\n",
       "      <td>796</td>\n",
       "    </tr>\n",
       "    <tr>\n",
       "      <th>36</th>\n",
       "      <td>37</td>\n",
       "      <td>37</td>\n",
       "      <td>Östersund</td>\n",
       "      <td>63985</td>\n",
       "      <td>63779</td>\n",
       "      <td>206</td>\n",
       "    </tr>\n",
       "    <tr>\n",
       "      <th>37</th>\n",
       "      <td>38</td>\n",
       "      <td>38</td>\n",
       "      <td>Norrtälje</td>\n",
       "      <td>63673</td>\n",
       "      <td>62622</td>\n",
       "      <td>1051</td>\n",
       "    </tr>\n",
       "    <tr>\n",
       "      <th>38</th>\n",
       "      <td>39</td>\n",
       "      <td>39</td>\n",
       "      <td>Gotland</td>\n",
       "      <td>60124</td>\n",
       "      <td>59686</td>\n",
       "      <td>438</td>\n",
       "    </tr>\n",
       "    <tr>\n",
       "      <th>39</th>\n",
       "      <td>40</td>\n",
       "      <td>40</td>\n",
       "      <td>Falun</td>\n",
       "      <td>59528</td>\n",
       "      <td>59406</td>\n",
       "      <td>122</td>\n",
       "    </tr>\n",
       "    <tr>\n",
       "      <th>40</th>\n",
       "      <td>41</td>\n",
       "      <td>41</td>\n",
       "      <td>Trollhättan</td>\n",
       "      <td>59249</td>\n",
       "      <td>59058</td>\n",
       "      <td>191</td>\n",
       "    </tr>\n",
       "    <tr>\n",
       "      <th>41</th>\n",
       "      <td>42</td>\n",
       "      <td>43</td>\n",
       "      <td>Nyköping</td>\n",
       "      <td>57071</td>\n",
       "      <td>56591</td>\n",
       "      <td>480</td>\n",
       "    </tr>\n",
       "    <tr>\n",
       "      <th>42</th>\n",
       "      <td>43</td>\n",
       "      <td>44</td>\n",
       "      <td>Skövde</td>\n",
       "      <td>56791</td>\n",
       "      <td>56366</td>\n",
       "      <td>425</td>\n",
       "    </tr>\n",
       "    <tr>\n",
       "      <th>43</th>\n",
       "      <td>44</td>\n",
       "      <td>42</td>\n",
       "      <td>Uddevalla</td>\n",
       "      <td>56787</td>\n",
       "      <td>56703</td>\n",
       "      <td>84</td>\n",
       "    </tr>\n",
       "    <tr>\n",
       "      <th>44</th>\n",
       "      <td>45</td>\n",
       "      <td>45</td>\n",
       "      <td>Örnsköldsvik</td>\n",
       "      <td>55807</td>\n",
       "      <td>55998</td>\n",
       "      <td>-191</td>\n",
       "    </tr>\n",
       "    <tr>\n",
       "      <th>45</th>\n",
       "      <td>46</td>\n",
       "      <td>47</td>\n",
       "      <td>Sundbyberg</td>\n",
       "      <td>52801</td>\n",
       "      <td>52414</td>\n",
       "      <td>387</td>\n",
       "    </tr>\n",
       "    <tr>\n",
       "      <th>46</th>\n",
       "      <td>47</td>\n",
       "      <td>46</td>\n",
       "      <td>Borlänge</td>\n",
       "      <td>52394</td>\n",
       "      <td>52590</td>\n",
       "      <td>-196</td>\n",
       "    </tr>\n",
       "    <tr>\n",
       "      <th>47</th>\n",
       "      <td>48</td>\n",
       "      <td>48</td>\n",
       "      <td>Hässleholm</td>\n",
       "      <td>52010</td>\n",
       "      <td>52145</td>\n",
       "      <td>-135</td>\n",
       "    </tr>\n",
       "    <tr>\n",
       "      <th>48</th>\n",
       "      <td>49</td>\n",
       "      <td>49</td>\n",
       "      <td>Sigtuna</td>\n",
       "      <td>49537</td>\n",
       "      <td>48964</td>\n",
       "      <td>573</td>\n",
       "    </tr>\n",
       "    <tr>\n",
       "      <th>49</th>\n",
       "      <td>50</td>\n",
       "      <td>50</td>\n",
       "      <td>Tyresö</td>\n",
       "      <td>48678</td>\n",
       "      <td>48333</td>\n",
       "      <td>345</td>\n",
       "    </tr>\n",
       "  </tbody>\n",
       "</table>\n",
       "</div>"
      ],
      "text/plain": [
       "    2020  2019    Unnamed: 2  2020.1  2019.1  Unnamed: 5\n",
       "0      1     1     Stockholm  975551  974073        1478\n",
       "1      2     2      Göteborg  583056  579281        3775\n",
       "2      3     3         Malmö  347949  344166        3783\n",
       "3      4     4       Uppsala  233839  230767        3072\n",
       "4      5     5     Linköping  164616  163051        1565\n",
       "5      6     6        Örebro  156381  155696         685\n",
       "6      7     7      Västerås  155551  154049        1502\n",
       "7      8     8   Helsingborg  149280  147734        1546\n",
       "8      9     9    Norrköping  143478  143171         307\n",
       "9     10    10     Jönköping  142427  141081        1346\n",
       "10    11    11          Umeå  130224  128901        1323\n",
       "11    12    12          Lund  125941  124935        1006\n",
       "12    13    13         Borås  113714  113179         535\n",
       "13    14    14      Huddinge  113234  112848         386\n",
       "14    15    15    Eskilstuna  106975  106859         116\n",
       "15    16    16         Nacka  106505  105189        1316\n",
       "16    17    17      Halmstad  103754  102767         987\n",
       "17    18    18         Gävle  102904  102418         486\n",
       "18    19    20    Södertälje  100111   98979        1132\n",
       "19    20    19     Sundsvall   99439   99449         -10\n",
       "20    21    22         Växjö   94859   94129         730\n",
       "21    22    21      Botkyrka   94847   94606         241\n",
       "22    23    23      Karlstad   94828   93898         930\n",
       "23    24    24       Haninge   93690   92095        1595\n",
       "24    25    25  Kristianstad   86217   85747         470\n",
       "25    26    26    Kungsbacka   84930   84395         535\n",
       "26    27    27         Solna   83162   82429         733\n",
       "27    28    28      Järfälla   81274   79990        1284\n",
       "28    29    29         Luleå   78549   78105         444\n",
       "29    30    30    Sollentuna   73990   73857         133\n",
       "30    31    31    Skellefteå   72840   72589         251\n",
       "31    32    32          Täby   72755   71874         881\n",
       "32    33    33        Kalmar   70329   69467         862\n",
       "33    34    34       Mölndal   69901   69364         537\n",
       "34    35    35    Karlskrona   66515   66622        -107\n",
       "35    36    36       Varberg   65397   64601         796\n",
       "36    37    37     Östersund   63985   63779         206\n",
       "37    38    38     Norrtälje   63673   62622        1051\n",
       "38    39    39       Gotland   60124   59686         438\n",
       "39    40    40         Falun   59528   59406         122\n",
       "40    41    41   Trollhättan   59249   59058         191\n",
       "41    42    43      Nyköping   57071   56591         480\n",
       "42    43    44        Skövde   56791   56366         425\n",
       "43    44    42     Uddevalla   56787   56703          84\n",
       "44    45    45  Örnsköldsvik   55807   55998        -191\n",
       "45    46    47    Sundbyberg   52801   52414         387\n",
       "46    47    46      Borlänge   52394   52590        -196\n",
       "47    48    48    Hässleholm   52010   52145        -135\n",
       "48    49    49       Sigtuna   49537   48964         573\n",
       "49    50    50        Tyresö   48678   48333         345"
      ]
     },
     "execution_count": 125,
     "metadata": {},
     "output_type": "execute_result"
    }
   ],
   "source": [
    "import pandas as pd\n",
    "df_1 = pd.read_excel(\"../data/komtopp50_2020.xlsx\", skiprows= 6)\n",
    "\n",
    "\n",
    "df_1"
   ]
  },
  {
   "cell_type": "code",
   "execution_count": 126,
   "metadata": {},
   "outputs": [
    {
     "name": "stdout",
     "output_type": "stream",
     "text": [
      "<class 'pandas.core.frame.DataFrame'>\n",
      "RangeIndex: 50 entries, 0 to 49\n",
      "Data columns (total 6 columns):\n",
      " #   Column      Non-Null Count  Dtype \n",
      "---  ------      --------------  ----- \n",
      " 0   2020        50 non-null     int64 \n",
      " 1   2019        50 non-null     int64 \n",
      " 2   Unnamed: 2  50 non-null     object\n",
      " 3   2020.1      50 non-null     int64 \n",
      " 4   2019.1      50 non-null     int64 \n",
      " 5   Unnamed: 5  50 non-null     int64 \n",
      "dtypes: int64(5), object(1)\n",
      "memory usage: 2.5+ KB\n"
     ]
    }
   ],
   "source": [
    "df_1.info() #need to convert from object to float or int. cant count with object  USE RENAME\n"
   ]
  },
  {
   "cell_type": "code",
   "execution_count": 127,
   "metadata": {},
   "outputs": [
    {
     "data": {
      "text/html": [
       "<div>\n",
       "<style scoped>\n",
       "    .dataframe tbody tr th:only-of-type {\n",
       "        vertical-align: middle;\n",
       "    }\n",
       "\n",
       "    .dataframe tbody tr th {\n",
       "        vertical-align: top;\n",
       "    }\n",
       "\n",
       "    .dataframe thead th {\n",
       "        text-align: right;\n",
       "    }\n",
       "</style>\n",
       "<table border=\"1\" class=\"dataframe\">\n",
       "  <thead>\n",
       "    <tr style=\"text-align: right;\">\n",
       "      <th></th>\n",
       "      <th>Rang 2020</th>\n",
       "      <th>Rang 2019</th>\n",
       "      <th>Kommun</th>\n",
       "      <th>Folkmängd 2020</th>\n",
       "      <th>Folkmängd 2019</th>\n",
       "      <th>Förändring</th>\n",
       "    </tr>\n",
       "  </thead>\n",
       "  <tbody>\n",
       "    <tr>\n",
       "      <th>0</th>\n",
       "      <td>1</td>\n",
       "      <td>1</td>\n",
       "      <td>Stockholm</td>\n",
       "      <td>975551</td>\n",
       "      <td>974073</td>\n",
       "      <td>1478</td>\n",
       "    </tr>\n",
       "    <tr>\n",
       "      <th>1</th>\n",
       "      <td>2</td>\n",
       "      <td>2</td>\n",
       "      <td>Göteborg</td>\n",
       "      <td>583056</td>\n",
       "      <td>579281</td>\n",
       "      <td>3775</td>\n",
       "    </tr>\n",
       "    <tr>\n",
       "      <th>2</th>\n",
       "      <td>3</td>\n",
       "      <td>3</td>\n",
       "      <td>Malmö</td>\n",
       "      <td>347949</td>\n",
       "      <td>344166</td>\n",
       "      <td>3783</td>\n",
       "    </tr>\n",
       "    <tr>\n",
       "      <th>3</th>\n",
       "      <td>4</td>\n",
       "      <td>4</td>\n",
       "      <td>Uppsala</td>\n",
       "      <td>233839</td>\n",
       "      <td>230767</td>\n",
       "      <td>3072</td>\n",
       "    </tr>\n",
       "    <tr>\n",
       "      <th>4</th>\n",
       "      <td>5</td>\n",
       "      <td>5</td>\n",
       "      <td>Linköping</td>\n",
       "      <td>164616</td>\n",
       "      <td>163051</td>\n",
       "      <td>1565</td>\n",
       "    </tr>\n",
       "  </tbody>\n",
       "</table>\n",
       "</div>"
      ],
      "text/plain": [
       "   Rang 2020  Rang 2019     Kommun  Folkmängd 2020  Folkmängd 2019  Förändring\n",
       "0          1          1  Stockholm          975551          974073        1478\n",
       "1          2          2   Göteborg          583056          579281        3775\n",
       "2          3          3      Malmö          347949          344166        3783\n",
       "3          4          4    Uppsala          233839          230767        3072\n",
       "4          5          5  Linköping          164616          163051        1565"
      ]
     },
     "execution_count": 127,
     "metadata": {},
     "output_type": "execute_result"
    }
   ],
   "source": [
    "df_1 = df_1.rename({2020: \"Rang 2020\", 2019: \"Rang 2019\", \"Unnamed: 2\": \"Kommun\", \"2020.1\": \"Folkmängd 2020\", \"2019.1\": \"Folkmängd 2019\", \"Unnamed: 5\": \"Förändring\"}, axis=\"columns\")\n",
    "\n",
    "df_1.head()"
   ]
  },
  {
   "cell_type": "markdown",
   "metadata": {},
   "source": [
    "  c) Sort the cities by population from largest to smallest. (*)\n",
    "\n"
   ]
  },
  {
   "cell_type": "code",
   "execution_count": 155,
   "metadata": {},
   "outputs": [
    {
     "data": {
      "text/html": [
       "<div>\n",
       "<style scoped>\n",
       "    .dataframe tbody tr th:only-of-type {\n",
       "        vertical-align: middle;\n",
       "    }\n",
       "\n",
       "    .dataframe tbody tr th {\n",
       "        vertical-align: top;\n",
       "    }\n",
       "\n",
       "    .dataframe thead th {\n",
       "        text-align: right;\n",
       "    }\n",
       "</style>\n",
       "<table border=\"1\" class=\"dataframe\">\n",
       "  <thead>\n",
       "    <tr style=\"text-align: right;\">\n",
       "      <th></th>\n",
       "      <th>Kommun</th>\n",
       "      <th>Folkmängd 2020</th>\n",
       "    </tr>\n",
       "  </thead>\n",
       "  <tbody>\n",
       "    <tr>\n",
       "      <th>0</th>\n",
       "      <td>Stockholm</td>\n",
       "      <td>975551</td>\n",
       "    </tr>\n",
       "    <tr>\n",
       "      <th>1</th>\n",
       "      <td>Göteborg</td>\n",
       "      <td>583056</td>\n",
       "    </tr>\n",
       "    <tr>\n",
       "      <th>2</th>\n",
       "      <td>Malmö</td>\n",
       "      <td>347949</td>\n",
       "    </tr>\n",
       "    <tr>\n",
       "      <th>3</th>\n",
       "      <td>Uppsala</td>\n",
       "      <td>233839</td>\n",
       "    </tr>\n",
       "    <tr>\n",
       "      <th>4</th>\n",
       "      <td>Linköping</td>\n",
       "      <td>164616</td>\n",
       "    </tr>\n",
       "  </tbody>\n",
       "</table>\n",
       "</div>"
      ],
      "text/plain": [
       "      Kommun  Folkmängd 2020\n",
       "0  Stockholm          975551\n",
       "1   Göteborg          583056\n",
       "2      Malmö          347949\n",
       "3    Uppsala          233839\n",
       "4  Linköping          164616"
      ]
     },
     "execution_count": 155,
     "metadata": {},
     "output_type": "execute_result"
    }
   ],
   "source": [
    "df_1_large_To_Small = df_1[[\"Kommun\", \"Folkmängd 2020\"]].sort_values(by= \"Folkmängd 2020\", ascending=False).head()\n",
    "df_1_large_To_Small\n",
    "\n",
    "\n",
    "\n",
    "\n"
   ]
  },
  {
   "cell_type": "markdown",
   "metadata": {},
   "source": [
    "  d) Filter out the five smallest cities. (*)\n",
    "\n"
   ]
  },
  {
   "cell_type": "code",
   "execution_count": 145,
   "metadata": {},
   "outputs": [
    {
     "data": {
      "text/html": [
       "<div>\n",
       "<style scoped>\n",
       "    .dataframe tbody tr th:only-of-type {\n",
       "        vertical-align: middle;\n",
       "    }\n",
       "\n",
       "    .dataframe tbody tr th {\n",
       "        vertical-align: top;\n",
       "    }\n",
       "\n",
       "    .dataframe thead th {\n",
       "        text-align: right;\n",
       "    }\n",
       "</style>\n",
       "<table border=\"1\" class=\"dataframe\">\n",
       "  <thead>\n",
       "    <tr style=\"text-align: right;\">\n",
       "      <th></th>\n",
       "      <th>Kommun</th>\n",
       "      <th>Folkmängd 2020</th>\n",
       "    </tr>\n",
       "  </thead>\n",
       "  <tbody>\n",
       "    <tr>\n",
       "      <th>49</th>\n",
       "      <td>Tyresö</td>\n",
       "      <td>48678</td>\n",
       "    </tr>\n",
       "    <tr>\n",
       "      <th>48</th>\n",
       "      <td>Sigtuna</td>\n",
       "      <td>49537</td>\n",
       "    </tr>\n",
       "    <tr>\n",
       "      <th>47</th>\n",
       "      <td>Hässleholm</td>\n",
       "      <td>52010</td>\n",
       "    </tr>\n",
       "    <tr>\n",
       "      <th>46</th>\n",
       "      <td>Borlänge</td>\n",
       "      <td>52394</td>\n",
       "    </tr>\n",
       "    <tr>\n",
       "      <th>45</th>\n",
       "      <td>Sundbyberg</td>\n",
       "      <td>52801</td>\n",
       "    </tr>\n",
       "  </tbody>\n",
       "</table>\n",
       "</div>"
      ],
      "text/plain": [
       "        Kommun  Folkmängd 2020\n",
       "49      Tyresö           48678\n",
       "48     Sigtuna           49537\n",
       "47  Hässleholm           52010\n",
       "46    Borlänge           52394\n",
       "45  Sundbyberg           52801"
      ]
     },
     "execution_count": 145,
     "metadata": {},
     "output_type": "execute_result"
    }
   ],
   "source": [
    "\n",
    "df_5_smallest = df_1[[\"Kommun\", \"Folkmängd 2020\"]].sort_values(by=\"Folkmängd 2020\", ascending=True).iloc[:5]\n",
    "df_5_smallest\n"
   ]
  },
  {
   "cell_type": "markdown",
   "metadata": {},
   "source": [
    "  e) Use the DataFrame to calculate Sweden's population in 2019 and 2020. (*)\n",
    "\n"
   ]
  },
  {
   "cell_type": "code",
   "execution_count": 166,
   "metadata": {},
   "outputs": [
    {
     "name": "stdout",
     "output_type": "stream",
     "text": [
      "Sweden populatio in 2019 <bound method Series.sum of 0     974073\n",
      "1     579281\n",
      "2     344166\n",
      "3     230767\n",
      "4     163051\n",
      "5     155696\n",
      "6     154049\n",
      "7     147734\n",
      "8     143171\n",
      "9     141081\n",
      "10    128901\n",
      "11    124935\n",
      "12    113179\n",
      "13    112848\n",
      "14    106859\n",
      "15    105189\n",
      "16    102767\n",
      "17    102418\n",
      "18     98979\n",
      "19     99449\n",
      "20     94129\n",
      "21     94606\n",
      "22     93898\n",
      "23     92095\n",
      "24     85747\n",
      "25     84395\n",
      "26     82429\n",
      "27     79990\n",
      "28     78105\n",
      "29     73857\n",
      "30     72589\n",
      "31     71874\n",
      "32     69467\n",
      "33     69364\n",
      "34     66622\n",
      "35     64601\n",
      "36     63779\n",
      "37     62622\n",
      "38     59686\n",
      "39     59406\n",
      "40     59058\n",
      "41     56591\n",
      "42     56366\n",
      "43     56703\n",
      "44     55998\n",
      "45     52414\n",
      "46     52590\n",
      "47     52145\n",
      "48     48964\n",
      "49     48333\n",
      "Name: Folkmängd 2019, dtype: int64>\n"
     ]
    }
   ],
   "source": [
    "sweden_pop_2019 = df_1[\"Folkmängd 2019\"].sum\n",
    "sweden_pop_2020 = df_1[\"Folkmängd 2020\"].sum\n",
    "\n",
    "print(f\"Sweden populatio in 2019 {sweden_pop_2019}\")\n"
   ]
  },
  {
   "cell_type": "code",
   "execution_count": 174,
   "metadata": {},
   "outputs": [
    {
     "name": "stdout",
     "output_type": "stream",
     "text": [
      "Sweden populatio in 2020 <bound method Series.sum of 0     975551\n",
      "1     583056\n",
      "2     347949\n",
      "3     233839\n",
      "4     164616\n",
      "5     156381\n",
      "6     155551\n",
      "7     149280\n",
      "8     143478\n",
      "9     142427\n",
      "10    130224\n",
      "11    125941\n",
      "12    113714\n",
      "13    113234\n",
      "14    106975\n",
      "15    106505\n",
      "16    103754\n",
      "17    102904\n",
      "18    100111\n",
      "19     99439\n",
      "20     94859\n",
      "21     94847\n",
      "22     94828\n",
      "23     93690\n",
      "24     86217\n",
      "25     84930\n",
      "26     83162\n",
      "27     81274\n",
      "28     78549\n",
      "29     73990\n",
      "30     72840\n",
      "31     72755\n",
      "32     70329\n",
      "33     69901\n",
      "34     66515\n",
      "35     65397\n",
      "36     63985\n",
      "37     63673\n",
      "38     60124\n",
      "39     59528\n",
      "40     59249\n",
      "41     57071\n",
      "42     56791\n",
      "43     56787\n",
      "44     55807\n",
      "45     52801\n",
      "46     52394\n",
      "47     52010\n",
      "48     49537\n",
      "49     48678\n",
      "Name: Folkmängd 2020, dtype: int64>\n"
     ]
    }
   ],
   "source": [
    "print(f\"Sweden populatio in 2020 {sweden_pop_2020}\")"
   ]
  },
  {
   "cell_type": "markdown",
   "metadata": {},
   "source": [
    "f) Plot a bar chart for the five largest cities and the five smallest cities. (*)"
   ]
  },
  {
   "cell_type": "code",
   "execution_count": 169,
   "metadata": {},
   "outputs": [
    {
     "data": {
      "text/plain": [
       "<Axes: xlabel='Kommun'>"
      ]
     },
     "execution_count": 169,
     "metadata": {},
     "output_type": "execute_result"
    },
    {
     "data": {
      "image/png": "[encoded data removed]",
      "text/plain": [
       "<Figure size 640x480 with 1 Axes>"
      ]
     },
     "metadata": {},
     "output_type": "display_data"
    }
   ],
   "source": [
    "df_1_large_To_Small.head(10).plot(kind=\"bar\", x = \"Kommun\", y = \"Folkmängd 2020\") # visar de 10 störta utsläpparna"
   ]
  },
  {
   "cell_type": "code",
   "execution_count": 173,
   "metadata": {},
   "outputs": [
    {
     "data": {
      "text/plain": [
       "<Axes: xlabel='Kommun'>"
      ]
     },
     "execution_count": 173,
     "metadata": {},
     "output_type": "execute_result"
    },
    {
     "data": {
      "image/png": "[encoded data removed]",
      "text/plain": [
       "<Figure size 640x480 with 1 Axes>"
      ]
     },
     "metadata": {},
     "output_type": "display_data"
    }
   ],
   "source": [
    "df_5_smallest.head(10).plot(kind=\"bar\", x = \"Kommun\", y = \"Folkmängd 2020\") # visar de 10 störta utsläpparna"
   ]
  }
 ],
 "metadata": {
  "kernelspec": {
   "display_name": "venv",
   "language": "python",
   "name": "python3"
  },
  "language_info": {
   "codemirror_mode": {
    "name": "ipython",
    "version": 3
   },
   "file_extension": ".py",
   "mimetype": "text/x-python",
   "name": "python",
   "nbconvert_exporter": "python",
   "pygments_lexer": "ipython3",
   "version": "3.11.7"
  }
 },
 "nbformat": 4,
 "nbformat_minor": 2
}
