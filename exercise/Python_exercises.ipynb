{
 "cells": [
  {
   "cell_type": "markdown",
   "metadata": {},
   "source": [
    "# Exercise 0\n",
    "## 0. Pythagorean theorem (*)\n",
    "  a)   A right angled triangle has the catheti: a = 3 and b = 4 length units. Compute the hypothenuse of the triangle. (*)\n",
    "\n",
    "  b)   A right angled triangle has hypothenuse c = 7.0 and a cathetus a = 5.0 length units. Compute the other cathetus and round to one decimal. (*)\n",
    "\n"
   ]
  },
  {
   "cell_type": "markdown",
   "metadata": {},
   "source": [
    "A"
   ]
  },
  {
   "cell_type": "code",
   "execution_count": 3,
   "metadata": {},
   "outputs": [
    {
     "name": "stdout",
     "output_type": "stream",
     "text": [
      "the lenght of the hypothenues is 5.0\n"
     ]
    }
   ],
   "source": [
    "import math\n",
    "\n",
    "a = 3\n",
    "b = 4\n",
    "c = math.sqrt(a**2 + b**2)\n",
    "print(f\"the lenght of the hypothenues is {c}\")"
   ]
  },
  {
   "cell_type": "markdown",
   "metadata": {},
   "source": [
    "B"
   ]
  },
  {
   "cell_type": "code",
   "execution_count": 24,
   "metadata": {},
   "outputs": [
    {
     "name": "stdout",
     "output_type": "stream",
     "text": [
      "The lenght on the b cathesus is 4.9\n"
     ]
    }
   ],
   "source": [
    "import math\n",
    "\n",
    "c= 7.0\n",
    "a = 5.0\n",
    "b = math.sqrt(c**2 - a**2)\n",
    "# round avrundar till en decimal\n",
    "print(f\"The lenght on the b cathesus is {round(b,1)}\")\n"
   ]
  },
  {
   "cell_type": "markdown",
   "metadata": {},
   "source": [
    "# Exercise 1\n",
    "## 2. Classification accuracy\n",
    "A machine learning algorithm has been trained to predict whether or not it would rain the next day. Out of 365 predictions, it got 300 correct, compute the accuracy of this model."
   ]
  },
  {
   "cell_type": "code",
   "execution_count": 35,
   "metadata": {},
   "outputs": [
    {
     "name": "stdout",
     "output_type": "stream",
     "text": [
      " the machine learning algorith had accuracy of 82.2 %\n"
     ]
    }
   ],
   "source": [
    "import math\n",
    "\n",
    "# guesses\n",
    "predictions = 365\n",
    "\n",
    "# corect guess\n",
    "correct_guess = 300\n",
    "# delen genom hela (%)\n",
    "accuracy = (correct_guess /predictions ) * 100 # * 100 to get it as a procentage\n",
    "\n",
    "print(f\" the machine learning algorith had accuracy of {round(accuracy,1)} %\")\n"
   ]
  },
  {
   "cell_type": "markdown",
   "metadata": {},
   "source": [
    "# 3. Classification accuracy\n",
    "## A machine learning model has been trained to detect fire. Here is the result of its predictions:\n",
    "True Positive (TP)\n",
    "Reality: fire\n",
    "Predicted: fire\n",
    "Number of TP: 2\n",
    "\n",
    "False Positive (FP)\n",
    "Reality: no fire\n",
    "Predicted: fire\n",
    "Number of FP: 2\n",
    "\n",
    "False Negative (FN)\n",
    "Reality: fire\n",
    "Predicted: no fire\n",
    "Number of FN: 11\n",
    "\n",
    "True Negative (TN)\n",
    "Reality: no fire\n",
    "Predicted: no fire\n",
    "Number of TN: 985\n",
    "\n",
    "\n",
    "\n",
    "\n",
    "\n"
   ]
  },
  {
   "cell_type": "code",
   "execution_count": 41,
   "metadata": {},
   "outputs": [
    {
     "data": {
      "text/plain": [
       "98.7"
      ]
     },
     "execution_count": 41,
     "metadata": {},
     "output_type": "execute_result"
    }
   ],
   "source": [
    "import math \n",
    "\n",
    "TP = 2\n",
    "FP = 2\n",
    "FN = 11\n",
    "TN =  985\n",
    "\n",
    "accuracy = ((TP + TN) / (TP+TN+FP+FN)) * 100\n",
    "\n",
    "accuracy"
   ]
  },
  {
   "cell_type": "markdown",
   "metadata": {},
   "source": [
    "# 4. Line\n",
    "## Compute the slope \"k\" and the constant term \"m\" of this line using the points and.\n",
    "## A: (4,4) and B: (0,1)\n",
    "## version 1\n",
    "\n"
   ]
  },
  {
   "cell_type": "code",
   "execution_count": 51,
   "metadata": {},
   "outputs": [
    {
     "name": "stdout",
     "output_type": "stream",
     "text": [
      "m värdet: 1 K-värdet: 0.75\n"
     ]
    }
   ],
   "source": [
    "import math\n",
    "\n",
    "point_A = 4,4\n",
    "Point_B = 0,1\n",
    "Slope_K = ((1-4)/(0-4))\n",
    "slope_M = (4-3)\n",
    "\n",
    "\n",
    "\n",
    "print(f\"m värdet: {slope_M} K-värdet: {Slope_K}\")"
   ]
  },
  {
   "cell_type": "markdown",
   "metadata": {},
   "source": []
  },
  {
   "cell_type": "markdown",
   "metadata": {},
   "source": [
    "## Version 2"
   ]
  },
  {
   "cell_type": "code",
   "execution_count": 63,
   "metadata": {},
   "outputs": [
    {
     "name": "stdout",
     "output_type": "stream",
     "text": [
      "lutningskonstanten (k):  0.75\n",
      "lutningstermen (m):  1.0\n"
     ]
    }
   ],
   "source": [
    "x1, y1 = 4, 4\n",
    "x2, y2 = 0, 1\n",
    "\n",
    "delta_y = y2 - y1\n",
    "delta_x = x2 - x1\n",
    "\n",
    "k = delta_y / delta_x \n",
    "\n",
    "m = y1 - k * x1\n",
    "\n",
    "print(\"lutningskonstanten (k): \", k)\n",
    "print(\"lutningstermen (m): \", m)"
   ]
  },
  {
   "cell_type": "markdown",
   "metadata": {},
   "source": [
    "##Version 3 (nya punkter)"
   ]
  },
  {
   "cell_type": "code",
   "execution_count": 64,
   "metadata": {},
   "outputs": [
    {
     "name": "stdout",
     "output_type": "stream",
     "text": [
      "lutningskonstanten (k):  -0.5\n",
      "lutningstermen (m):  9.5\n"
     ]
    }
   ],
   "source": [
    "import math\n",
    "\n",
    "x1, y1 = 3, 8\n",
    "x2, y2 = 7,6\n",
    "delta_y = y2 - y1\n",
    "delta_x = x2 - x1\n",
    "\n",
    "k = delta_y / delta_x\n",
    "\n",
    "m = y1 - k * x1\n",
    "\n",
    "print(\"lutningskonstanten (k): \", k)\n",
    "print(\"lutningstermen (m): \", m)"
   ]
  },
  {
   "cell_type": "markdown",
   "metadata": {},
   "source": [
    "# If statments\n"
   ]
  },
  {
   "cell_type": "markdown",
   "metadata": {},
   "source": [
    "# Check in\n",
    "\n",
    "\n",
    "\n"
   ]
  },
  {
   "cell_type": "markdown",
   "metadata": {},
   "source": [
    "Ask the user to input a number and check if this number is positive, negative or zero and print it out.\n",
    "\n"
   ]
  },
  {
   "cell_type": "code",
   "execution_count": 1,
   "metadata": {},
   "outputs": [
    {
     "name": "stdout",
     "output_type": "stream",
     "text": [
      "thats a positive number\n"
     ]
    }
   ],
   "source": [
    "number = int(input(\"Enter a number: \"))\n",
    "if number == 0:\n",
    "    print(\"Thats a neutral number\")\n",
    "if number >=1:\n",
    "    print(\"thats a positive number\")\n",
    "else:\n",
    "    print(\"thats a negative number\")\n",
    "\n",
    "    \n"
   ]
  },
  {
   "cell_type": "markdown",
   "metadata": {},
   "source": []
  },
  {
   "cell_type": "markdown",
   "metadata": {},
   "source": [
    "# smallest\n",
    "Ask the user to input two numbers and check which one is the smallest and print it out."
   ]
  },
  {
   "cell_type": "code",
   "execution_count": 2,
   "metadata": {},
   "outputs": [
    {
     "name": "stdout",
     "output_type": "stream",
     "text": [
      "4 is greater than 2\n",
      "your numbers are eaqual\n"
     ]
    }
   ],
   "source": [
    "a = input(\"enter a number\")\n",
    "b = input(\"enter a number\")\n",
    "if a > b: \n",
    "    print(f\"{a} is greater than {b}\")\n",
    "if b > a:\n",
    "    print(f\"{b} is greater than {a}\")\n",
    "else:\n",
    "    print(\"your numbers are eaqual\")\n"
   ]
  },
  {
   "cell_type": "markdown",
   "metadata": {},
   "source": [
    "# Right angle\n",
    "Ask the user to input three angles and check if the triangle has a right angle. Your code should make sure that all three angles are valid and make up a triangle.\n"
   ]
  },
  {
   "cell_type": "code",
   "execution_count": 20,
   "metadata": {},
   "outputs": [
    {
     "name": "stdout",
     "output_type": "stream",
     "text": [
      "this does not form a valid triangle\n"
     ]
    }
   ],
   "source": [
    "def valid_triangle(angle1, angle2, angle3):\n",
    "    if angle1 <= 0 or angle2 <= 0 or angle3 <= 0:\n",
    "        return False\n",
    "    if angle1 + angle2 + angle3 != 180:  # kollar om vinkelsumman blir 180 grader\n",
    "        return False\n",
    "    return True\n",
    "\n",
    "def got_right_angle(angle1, angle2, angle3):\n",
    "    return angle1 == 90 or angle2 == 90 or angle3 == 90 # kollar om det finns rätvinkel på vinklarna\n",
    "\n",
    "def main():        \n",
    "    angle1 = float(input(\"enter a number of an angle\"))\n",
    "    angle2 = float(input(\"enter a number of an angle\"))\n",
    "    angle3 = float(input(\"enter a number of an angle\"))\n",
    "\n",
    "    if valid_triangle(angle1, angle2, angle3):\n",
    "        print(\"this is a valid triangle\")\n",
    "\n",
    "        if got_right_angle(angle1, angle2, angle3):\n",
    "            print(\"the triangle has a right angle\")\n",
    "        else:\n",
    "            print(\"triangle does not have a right angle\")\n",
    "    else:\n",
    "        print(\"this does not form a valid triangle\")\n",
    "\n",
    "\n",
    "if __name__ == \"__main__\":\n",
    "    main()"
   ]
  },
  {
   "cell_type": "markdown",
   "metadata": {},
   "source": [
    "# Medicine\n",
    "The information in the following table is stated in a medicine package. Also it is stated that for children weight is more important than age.\n",
    "- Adults & adolescent\n",
    "over 40 kg\tover 12 years\t1-2 pills\n",
    "\n",
    "- Children 26-40 kg\t7-12 years\t1/2-1 pills\n",
    "- Children 15-25 kg\t3-7 years\t1/2 pills\n",
    "\n",
    "Let the user input an age and a weight, the program should recommend the number of pills for the user.   "
   ]
  },
  {
   "cell_type": "markdown",
   "metadata": {},
   "source": []
  },
  {
   "cell_type": "code",
   "execution_count": 27,
   "metadata": {},
   "outputs": [
    {
     "name": "stdout",
     "output_type": "stream",
     "text": [
      "your young, we recommend 1/2 - 1 pill\n"
     ]
    }
   ],
   "source": [
    "Age = int(input(\"Enter your age\"))\n",
    "Weight = int(input(\"Eter your weight\"))\n",
    "\n",
    "if Age >= 12 and Weight >= 40:\n",
    "    print(\"your considered an adult, we recommend 1-2 pills\")\n",
    "if Age <= 3 and Weight <=26:\n",
    "    print(\"your young, we recommend 1/2 - 1 pill\")\n",
    "else:\n",
    "    print(\"1/2 pill is recommended\")"
   ]
  },
  {
   "cell_type": "markdown",
   "metadata": {},
   "source": [
    "# divisible\n",
    "Let the user input a number. Check if the number is\n",
    "\n",
    "- even or odd\n",
    "- is divisible by 5\n",
    "- is divisble by 5 and odd\n"
   ]
  },
  {
   "cell_type": "markdown",
   "metadata": {},
   "source": []
  },
  {
   "cell_type": "code",
   "execution_count": 33,
   "metadata": {},
   "outputs": [
    {
     "name": "stdout",
     "output_type": "stream",
     "text": [
      "12 is not divisible by 5\n"
     ]
    }
   ],
   "source": [
    "def odd_number(number):\n",
    "    return number % 2 == 1\n",
    "\n",
    "def divisble_5 (number):\n",
    "    return number % 5 == 0\n",
    "\n",
    "def odd_divisible_5(number):\n",
    "    return number % 2 == 1 and number % 5 == 0\n",
    "\n",
    "number = int(input(\"enter a number\"))\n",
    "if odd_number(number):\n",
    "    print(f\"{number} is odd\")\n",
    "if divisble_5(number):\n",
    "    print(f\"{number} is divisible by 5\")\n",
    "else:\n",
    "    print(number, \"is not divisible by 5\")\n",
    "\n",
    "if odd_divisible_5(number):\n",
    "    print(number, \"is both odd and divisible by 5\")\n",
    "\n"
   ]
  },
  {
   "cell_type": "markdown",
   "metadata": {},
   "source": [
    "1\n"
   ]
  },
  {
   "cell_type": "markdown",
   "metadata": {},
   "source": [
    "# Luggage size\n",
    "The maximum allowed luggage size for boarding an airplane is:\n",
    "\n",
    "- weight: 8kg\n",
    "- dimensions: 55x40x23cm (length x width x height)\n",
    "\n",
    "Let the user input weight, length, width and height of the luggage. The program should check if the luggage is allowed or not.\n",
    "\n"
   ]
  },
  {
   "cell_type": "code",
   "execution_count": 9,
   "metadata": {},
   "outputs": [
    {
     "name": "stdout",
     "output_type": "stream",
     "text": [
      "your bag is too big\n"
     ]
    }
   ],
   "source": [
    "weight = int(input(\"Enter the weight of your bag\"))\n",
    "lenght = int(input(\"enter the lenght of the bag\"))\n",
    "width = int(input(\"enter the width of the bag\"))\n",
    "height = int(input (\"enter the height of the bag\"))\n",
    "\n",
    "if (weight >= 8 and lenght >= 55) or (width >= 40 and height >=23):\n",
    "    print(\"your bag is too big\")\n",
    "else:\n",
    "    print(\"your bag is in good shape\")"
   ]
  },
  {
   "cell_type": "markdown",
   "metadata": {},
   "source": [
    "# Count numbers\n",
    "- Use a while statement to count from -10 to 10 with one increment.\n",
    "\n"
   ]
  },
  {
   "cell_type": "code",
   "execution_count": 13,
   "metadata": {},
   "outputs": [
    {
     "name": "stdout",
     "output_type": "stream",
     "text": [
      "-10\n",
      "-9\n",
      "-8\n",
      "-7\n",
      "-6\n",
      "-5\n",
      "-4\n",
      "-3\n",
      "-2\n",
      "-1\n",
      "0\n",
      "1\n",
      "2\n",
      "3\n",
      "4\n",
      "5\n",
      "6\n",
      "7\n",
      "8\n",
      "9\n",
      "10\n"
     ]
    }
   ],
   "source": [
    "i = -10\n",
    "while i < 11:\n",
    "  print(i)\n",
    "  if (i == 10):\n",
    "    break\n",
    "  i += 1"
   ]
  },
  {
   "cell_type": "markdown",
   "metadata": {},
   "source": [
    "# arithmetic sum\n",
    "- Use a while statement to compute the following sums:\n",
    "\n",
    "  a)   sum = 1 + 2 +...+ 99 + 100\n",
    "\n",
    "  b)   sum = 1 + 3 + 5...+ 97 + 99"
   ]
  },
  {
   "cell_type": "code",
   "execution_count": 23,
   "metadata": {},
   "outputs": [
    {
     "name": "stdout",
     "output_type": "stream",
     "text": [
      "the sum of the numbers 1 - 100 is:  5050\n"
     ]
    }
   ],
   "source": [
    "sum = 0\n",
    "i = 1\n",
    "\n",
    "while i <= 100:\n",
    "    sum += i\n",
    "    i += 1\n",
    "print(\"the sum of the numbers 1 - 100 is: \", sum )\n"
   ]
  },
  {
   "cell_type": "code",
   "execution_count": 24,
   "metadata": {},
   "outputs": [
    {
     "name": "stdout",
     "output_type": "stream",
     "text": [
      "the sum is:  2500\n"
     ]
    }
   ],
   "source": [
    "sum = 0 \n",
    "i = 1\n",
    "\n",
    "while i <= 99: \n",
    "    sum += i \n",
    "    i += 2\n",
    "print(\"the sum is: \", sum)"
   ]
  },
  {
   "cell_type": "markdown",
   "metadata": {},
   "source": [
    "# guess the number"
   ]
  },
  {
   "cell_type": "markdown",
   "metadata": {},
   "source": [
    "-   a)   Create a guessing number game following this flow chart:\n",
    "-  b)   Make an algorithm to automatically guess the correct number. Can you optimize to get as few guesses as possible? (**)"
   ]
  },
  {
   "cell_type": "markdown",
   "metadata": {},
   "source": []
  }
 ],
 "metadata": {
  "kernelspec": {
   "display_name": "venv",
   "language": "python",
   "name": "python3"
  },
  "language_info": {
   "codemirror_mode": {
    "name": "ipython",
    "version": 3
   },
   "file_extension": ".py",
   "mimetype": "text/x-python",
   "name": "python",
   "nbconvert_exporter": "python",
   "pygments_lexer": "ipython3",
   "version": "3.11.7"
  }
 },
 "nbformat": 4,
 "nbformat_minor": 2
}
