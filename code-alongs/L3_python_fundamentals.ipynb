{
 "cells": [
  {
   "cell_type": "markdown",
   "metadata": {},
   "source": [
    "# string and file handling"
   ]
  },
  {
   "cell_type": "code",
   "execution_count": 4,
   "metadata": {},
   "outputs": [
    {
     "data": {
      "text/plain": [
       "'s'"
      ]
     },
     "execution_count": 4,
     "metadata": {},
     "output_type": "execute_result"
    }
   ],
   "source": [
    "text = \"supervised learning\"\n",
    "text[0]"
   ]
  },
  {
   "cell_type": "code",
   "execution_count": 5,
   "metadata": {},
   "outputs": [
    {
     "data": {
      "text/plain": [
       "19"
      ]
     },
     "execution_count": 5,
     "metadata": {},
     "output_type": "execute_result"
    }
   ],
   "source": [
    "len(text)"
   ]
  },
  {
   "cell_type": "code",
   "execution_count": 6,
   "metadata": {},
   "outputs": [
    {
     "data": {
      "text/plain": [
       "['supervised', 'learning']"
      ]
     },
     "execution_count": 6,
     "metadata": {},
     "output_type": "execute_result"
    }
   ],
   "source": [
    "text.split()"
   ]
  },
  {
   "cell_type": "code",
   "execution_count": 8,
   "metadata": {},
   "outputs": [
    {
     "data": {
      "text/plain": [
       "2"
      ]
     },
     "execution_count": 8,
     "metadata": {},
     "output_type": "execute_result"
    }
   ],
   "source": [
    "word = text.split()\n",
    "len(word)"
   ]
  },
  {
   "cell_type": "code",
   "execution_count": 9,
   "metadata": {},
   "outputs": [
    {
     "data": {
      "text/plain": [
       "True"
      ]
     },
     "execution_count": 9,
     "metadata": {},
     "output_type": "execute_result"
    }
   ],
   "source": [
    "cool_name = \"Anna\"\n",
    "cool_name[: :-1].lower() == cool_name.lower()"
   ]
  },
  {
   "cell_type": "code",
   "execution_count": 10,
   "metadata": {},
   "outputs": [
    {
     "data": {
      "text/plain": [
       "'AnnaAndersson'"
      ]
     },
     "execution_count": 10,
     "metadata": {},
     "output_type": "execute_result"
    }
   ],
   "source": [
    "cool_name + \"Andersson\""
   ]
  },
  {
   "cell_type": "code",
   "execution_count": 12,
   "metadata": {},
   "outputs": [
    {
     "data": {
      "text/plain": [
       "'AnnaAnnaAnnaAnnaAnna'"
      ]
     },
     "execution_count": 12,
     "metadata": {},
     "output_type": "execute_result"
    }
   ],
   "source": [
    "cool_name * 5"
   ]
  },
  {
   "cell_type": "markdown",
   "metadata": {},
   "source": [
    "# File handling"
   ]
  },
  {
   "cell_type": "code",
   "execution_count": 15,
   "metadata": {},
   "outputs": [
    {
     "name": "stdout",
     "output_type": "stream",
     "text": [
      "SUperViseD    LEARNinG IS a    PaRt    oF MaCHinE    LEARniNG,   wheRE aLgORithms    LEARn FRom a tRAINIng    DaTa Set. THese   aLgORithms   TRY   TO    MaKE   SeNSe   Of    ThE    DaTa   BY    MaTChiNG    INpUtS   TO    CoRResPonDInG   OutpUTs. In    suPERviseD    LEARNing,    EACH    DaTa   PoINt in    ThE   tRAINIng    Set    IS    LaBELEd WiTH    ThE    CoRReCT    OutpUT,    WHich   aLLOWS   thE ALgORithM    To    LEARn   FRom ThE    ExAMPles. THis   alLOWS   thE    ALgORithM    To    MaKe    PREDIcTions    On    UnSEEN    DaTa, BaSED On    ITs    TRaiNIng. iT    IS    USEd FoR    taSKS SuCH    AS CLaSSIFICaTion, WheRE ThE    GoAL    IS    To    aSSIGn    a LaBEL To    InpUt DaTa,    anD REGrESsIoN, WheRE ThE    GoAL    IS    To    PREDIcT    a CoNtINuoUS    OutpUT VaRIabLE. SuPERviseD    LEARNing    HaS    MaNY    APPLIcatIoNS In    ArEas LIke    Image ReCOGNitiON, NatuRaL    LaNGuaGE PRoCESSINg,    anD FiNaNCiaL FoRECasting.\n"
     ]
    }
   ],
   "source": [
    "text_path = \"../data/ml_text_raw.txt\"  #hämtar ut filer utanför sin egen map\n",
    "\n",
    "with open(text_path, \"r\") as file:\n",
    "    raw_text = file.read()\n",
    "\n",
    "print(raw_text)"
   ]
  },
  {
   "cell_type": "code",
   "execution_count": 16,
   "metadata": {},
   "outputs": [
    {
     "data": {
      "text/plain": [
       "'SUperViseD    LEARNinG IS a    PaRt    oF MaCHinE    LEARniNG,   wheRE aLgORithms    LEARn FRom a tRAINIng    DaTa Set. THese   aLgORithms   TRY   TO    MaKE   SeNSe   Of    ThE    DaTa   BY    MaTChiNG    INpUtS   TO    CoRResPonDInG   OutpUTs. In    suPERviseD    LEARNing,    EACH    DaTa   PoINt in    ThE   tRAINIng    Set    IS    LaBELEd WiTH    ThE    CoRReCT    OutpUT,    WHich   aLLOWS   thE ALgORithM    To    LEARn   FRom ThE    ExAMPles. THis   alLOWS   thE    ALgORithM    To    MaKe    PREDIcTions    On    UnSEEN    DaTa, BaSED On    ITs    TRaiNIng. iT    IS    USEd FoR    taSKS SuCH    AS CLaSSIFICaTion, WheRE ThE    GoAL    IS    To    aSSIGn    a LaBEL To    InpUt DaTa,    anD REGrESsIoN, WheRE ThE    GoAL    IS    To    PREDIcT    a CoNtINuoUS    OutpUT VaRIabLE. SuPERviseD    LEARNing    HaS    MaNY    APPLIcatIoNS In    ArEas LIke    Image ReCOGNitiON, NatuRaL    LaNGuaGE PRoCESSINg,    anD FiNaNCiaL FoRECasting.'"
      ]
     },
     "execution_count": 16,
     "metadata": {},
     "output_type": "execute_result"
    }
   ],
   "source": [
    "raw_text"
   ]
  },
  {
   "cell_type": "markdown",
   "metadata": {},
   "source": []
  },
  {
   "cell_type": "code",
   "execution_count": 20,
   "metadata": {},
   "outputs": [
    {
     "data": {
      "text/plain": [
       "'SUperViseD LEARNinG IS a PaRt oF MaCHinE LEARniNG, wheRE aLgORithms LEARn FRom a tRAINIng DaTa Set. THese aLgORithms TRY TO MaKE SeNSe Of ThE DaTa BY MaTChiNG INpUtS TO CoRResPonDInG OutpUTs. In suPERviseD LEARNing, EACH DaTa PoINt in ThE tRAINIng Set IS LaBELEd WiTH ThE CoRReCT OutpUT, WHich aLLOWS thE ALgORithM To LEARn FRom ThE ExAMPles. THis alLOWS thE ALgORithM To MaKe PREDIcTions On UnSEEN DaTa, BaSED On ITs TRaiNIng. iT IS USEd FoR taSKS SuCH AS CLaSSIFICaTion, WheRE ThE GoAL IS To aSSIGn a LaBEL To InpUt DaTa, anD REGrESsIoN, WheRE ThE GoAL IS To PREDIcT a CoNtINuoUS OutpUT VaRIabLE. SuPERviseD LEARNing HaS MaNY APPLIcatIoNS In ArEas LIke Image ReCOGNitiON, NatuRaL LaNGuaGE PRoCESSINg, anD FiNaNCiaL FoRECasting.'"
      ]
     },
     "execution_count": 20,
     "metadata": {},
     "output_type": "execute_result"
    }
   ],
   "source": [
    "# regular expression\n",
    "import re \n",
    "\n",
    "text_fixed_spacing = re.sub(r\"[ ]{2,}\", \" \", raw_text)\n",
    "\n",
    "text_fixed_spacing"
   ]
  },
  {
   "cell_type": "code",
   "execution_count": 22,
   "metadata": {},
   "outputs": [
    {
     "data": {
      "text/plain": [
       "['SUperViseD LEARNinG IS a PaRt oF MaCHinE LEARniNG, wheRE aLgORithms LEARn FRom a tRAINIng DaTa Set',\n",
       " 'THese aLgORithms TRY TO MaKE SeNSe Of ThE DaTa BY MaTChiNG INpUtS TO CoRResPonDInG OutpUTs',\n",
       " 'In suPERviseD LEARNing, EACH DaTa PoINt in ThE tRAINIng Set IS LaBELEd WiTH ThE CoRReCT OutpUT, WHich aLLOWS thE ALgORithM To LEARn FRom ThE ExAMPles',\n",
       " 'THis alLOWS thE ALgORithM To MaKe PREDIcTions On UnSEEN DaTa, BaSED On ITs TRaiNIng',\n",
       " 'iT IS USEd FoR taSKS SuCH AS CLaSSIFICaTion, WheRE ThE GoAL IS To aSSIGn a LaBEL To InpUt DaTa, anD REGrESsIoN, WheRE ThE GoAL IS To PREDIcT a CoNtINuoUS OutpUT VaRIabLE',\n",
       " 'SuPERviseD LEARNing HaS MaNY APPLIcatIoNS In ArEas LIke Image ReCOGNitiON, NatuRaL LaNGuaGE PRoCESSINg, anD FiNaNCiaL FoRECasting.']"
      ]
     },
     "execution_count": 22,
     "metadata": {},
     "output_type": "execute_result"
    }
   ],
   "source": [
    "sentences = [sentence.capitalize() for sentence in text_fixed_spacing.split(\". \")] #varje mening börjar med en stor bokstav\n"
   ]
  },
  {
   "cell_type": "markdown",
   "metadata": {},
   "source": []
  }
 ],
 "metadata": {
  "kernelspec": {
   "display_name": "venv",
   "language": "python",
   "name": "python3"
  },
  "language_info": {
   "codemirror_mode": {
    "name": "ipython",
    "version": 3
   },
   "file_extension": ".py",
   "mimetype": "text/x-python",
   "name": "python",
   "nbconvert_exporter": "python",
   "pygments_lexer": "ipython3",
   "version": "3.11.7"
  }
 },
 "nbformat": 4,
 "nbformat_minor": 2
}
