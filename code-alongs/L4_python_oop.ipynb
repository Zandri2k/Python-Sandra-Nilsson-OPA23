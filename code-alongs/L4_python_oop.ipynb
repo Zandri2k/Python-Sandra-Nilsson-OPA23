{
 "cells": [
  {
   "cell_type": "markdown",
   "metadata": {},
   "source": [
    "# OOP fundamentals\n",
    "- object = container of state & behaviour (data, method)\n"
   ]
  },
  {
   "cell_type": "code",
   "execution_count": 3,
   "metadata": {},
   "outputs": [
    {
     "name": "stdout",
     "output_type": "stream",
     "text": [
      "dunder init running\n"
     ]
    },
    {
     "data": {
      "text/plain": [
       "<__main__.Antagning at 0x2c2c060c510>"
      ]
     },
     "execution_count": 3,
     "metadata": {},
     "output_type": "execute_result"
    }
   ],
   "source": [
    "class Antagning:\n",
    "    #dunder init (special method) marked by dubble underscore\n",
    "    def __init__(self, school, program, name, accept):\n",
    "        print(\"dunder init running\")\n",
    "        self.school = school\n",
    "        self.program = program\n",
    "        self.name = name\n",
    "        self.accept = accept\n",
    "student1 = Antagning(\"handelsakademin\", \"AI\",\"Olivia\", True )\n",
    "student1"
   ]
  },
  {
   "cell_type": "code",
   "execution_count": 5,
   "metadata": {},
   "outputs": [
    {
     "data": {
      "text/plain": [
       "('Olivia', True)"
      ]
     },
     "execution_count": 5,
     "metadata": {},
     "output_type": "execute_result"
    }
   ],
   "source": [
    "student1.name, student1.accept"
   ]
  },
  {
   "cell_type": "code",
   "execution_count": 7,
   "metadata": {},
   "outputs": [
    {
     "data": {
      "text/plain": [
       "'marknadsföring'"
      ]
     },
     "execution_count": 7,
     "metadata": {},
     "output_type": "execute_result"
    }
   ],
   "source": [
    "# changed state\n",
    "student1.program = \"marknadsföring\"\n",
    "student1.program"
   ]
  },
  {
   "cell_type": "code",
   "execution_count": 9,
   "metadata": {},
   "outputs": [
    {
     "name": "stdout",
     "output_type": "stream",
     "text": [
      "dunder init running\n"
     ]
    },
    {
     "data": {
      "text/plain": [
       "<__main__.Antagning at 0x2c2c0679d10>"
      ]
     },
     "execution_count": 9,
     "metadata": {},
     "output_type": "execute_result"
    }
   ],
   "source": [
    "student2 = Antagning(\"Handelsakademin\", \"inköp\", \"Zoe\", True )\n",
    "student2"
   ]
  },
  {
   "cell_type": "code",
   "execution_count": 10,
   "metadata": {},
   "outputs": [
    {
     "name": "stdout",
     "output_type": "stream",
     "text": [
      "dunder init running\n"
     ]
    },
    {
     "data": {
      "text/plain": [
       "<__main__.Antagning at 0x2c2c06b2090>"
      ]
     },
     "execution_count": 10,
     "metadata": {},
     "output_type": "execute_result"
    }
   ],
   "source": [
    "student3 = Antagning(\"handelsakademin\", \"AI\", 2342, 23454323)\n",
    "student3"
   ]
  },
  {
   "cell_type": "markdown",
   "metadata": {},
   "source": []
  },
  {
   "cell_type": "markdown",
   "metadata": {},
   "source": [
    "## \\_\\_repr\\_\\_\n",
    "- dunder \"repper\" - method for representing an instance"
   ]
  },
  {
   "cell_type": "code",
   "execution_count": 14,
   "metadata": {},
   "outputs": [
    {
     "name": "stdout",
     "output_type": "stream",
     "text": [
      "dunder init running\n"
     ]
    },
    {
     "data": {
      "text/plain": [
       "Antagning(school=' Handelsakademin, program ='inköp'. name='Zoe', accepte=True)"
      ]
     },
     "execution_count": 14,
     "metadata": {},
     "output_type": "execute_result"
    }
   ],
   "source": [
    "class Antagning:\n",
    "    #dunder init (special method) marked by dubble underscore\n",
    "    def __init__(self, school, program, name, accept):\n",
    "        print(\"dunder init running\")\n",
    "        self.school = school\n",
    "        self.program = program\n",
    "        self.name = name\n",
    "        self.accept = accept\n",
    "        #used for other developers and yourself\n",
    "    def __repr__(self) -> str:\n",
    "        return f\"Antagning(school=' {self.school}, program ='{self.program}'. name='{self.name}', accepte={self.accept})\"\n",
    "    \n",
    "Antagning(\"Handelsakademin\", \"inköp\", \"Zoe\", True )\n",
    " \n",
    "        \n",
    "        "
   ]
  },
  {
   "cell_type": "markdown",
   "metadata": {},
   "source": []
  },
  {
   "cell_type": "markdown",
   "metadata": {},
   "source": [
    "# Encapsulation"
   ]
  },
  {
   "cell_type": "code",
   "execution_count": 16,
   "metadata": {},
   "outputs": [
    {
     "data": {
      "text/plain": [
       "patient( 'Zoe', 'Alopecia')"
      ]
     },
     "execution_count": 16,
     "metadata": {},
     "output_type": "execute_result"
    }
   ],
   "source": [
    "class Patient:\n",
    "    def __init__(self, name, diagnosis) -> None:\n",
    "        self._name = name\n",
    "        self.__diagnosis = diagnosis\n",
    "    def __repr__(self):\n",
    "        return f\"patient( '{self._name}', '{self.__diagnosis}')\"\n",
    "\n",
    "Patient1 = Patient(\"Zoe\", \"Alopecia\")\n",
    "Patient1"
   ]
  },
  {
   "cell_type": "code",
   "execution_count": 17,
   "metadata": {},
   "outputs": [
    {
     "data": {
      "text/plain": [
       "'Zoe'"
      ]
     },
     "execution_count": 17,
     "metadata": {},
     "output_type": "execute_result"
    }
   ],
   "source": [
    "# we can access private attrbutes but shouldnt\n",
    "Patient1._name"
   ]
  },
  {
   "cell_type": "code",
   "execution_count": 19,
   "metadata": {},
   "outputs": [
    {
     "ename": "AttributeError",
     "evalue": "'Patient' object has no attribute '__diagnosis'",
     "output_type": "error",
     "traceback": [
      "\u001b[1;31m---------------------------------------------------------------------------\u001b[0m",
      "\u001b[1;31mAttributeError\u001b[0m                            Traceback (most recent call last)",
      "Cell \u001b[1;32mIn[19], line 2\u001b[0m\n\u001b[0;32m      1\u001b[0m \u001b[38;5;66;03m# two underscores gives name mangling, cant find\u001b[39;00m\n\u001b[1;32m----> 2\u001b[0m \u001b[43mPatient1\u001b[49m\u001b[38;5;241;43m.\u001b[39;49m\u001b[43m__diagnosis\u001b[49m\n",
      "\u001b[1;31mAttributeError\u001b[0m: 'Patient' object has no attribute '__diagnosis'"
     ]
    }
   ],
   "source": [
    "# two underscores gives name mangling, cant find\n",
    "Patient1.__diagnosis"
   ]
  },
  {
   "cell_type": "code",
   "execution_count": 20,
   "metadata": {},
   "outputs": [
    {
     "data": {
      "text/plain": [
       "{'_name': 'Zoe', '_Patient__diagnosis': 'Alopecia'}"
      ]
     },
     "execution_count": 20,
     "metadata": {},
     "output_type": "execute_result"
    }
   ],
   "source": [
    "Patient1.__dict__"
   ]
  },
  {
   "cell_type": "code",
   "execution_count": 21,
   "metadata": {},
   "outputs": [
    {
     "data": {
      "text/plain": [
       "'Alopecia'"
      ]
     },
     "execution_count": 21,
     "metadata": {},
     "output_type": "execute_result"
    }
   ],
   "source": [
    "Patient1._Patient__diagnosis # finns inget private i python"
   ]
  },
  {
   "cell_type": "markdown",
   "metadata": {},
   "source": [
    "## large example"
   ]
  },
  {
   "cell_type": "code",
   "execution_count": 26,
   "metadata": {},
   "outputs": [
    {
     "data": {
      "text/plain": [
       "(567, 23)"
      ]
     },
     "execution_count": 26,
     "metadata": {},
     "output_type": "execute_result"
    }
   ],
   "source": [
    "from numbers import Number\n",
    "\n",
    "class OldCoinStash:\n",
    "    def __init__(self, owner) -> None:\n",
    "        self.owner = owner\n",
    "\n",
    "        #private\n",
    "        self._riksdaler = 0\n",
    "        self._skilling = 0\n",
    "\n",
    "    def deposit(self, riksdaler, skilling):\n",
    "        if not isinstance (riksdaler, Number) or not isinstance(skilling, Number):\n",
    "            raise TypeError(f\"riksaler most be a number not\")\n",
    "        \n",
    "        if riksdaler <= 0 or skilling <= 0:\n",
    "            raise ValueError(f\"you tried to deposit{riksdaler} riksdaler and {skilling} skilling\")\n",
    "        \n",
    "        self._riksdaler = riksdaler\n",
    "        self._skilling = skilling\n",
    "\n",
    "stash1 = OldCoinStash(\"Zoe\")\n",
    "stash1.deposit(23, 567)\n",
    "\n",
    "stash1._skilling, stash1._riksdaler"
   ]
  },
  {
   "cell_type": "code",
   "execution_count": 24,
   "metadata": {},
   "outputs": [
    {
     "ename": "TypeError",
     "evalue": "riksaler most be a number not",
     "output_type": "error",
     "traceback": [
      "\u001b[1;31m---------------------------------------------------------------------------\u001b[0m",
      "\u001b[1;31mTypeError\u001b[0m                                 Traceback (most recent call last)",
      "Cell \u001b[1;32mIn[24], line 1\u001b[0m\n\u001b[1;32m----> 1\u001b[0m \u001b[43mstash1\u001b[49m\u001b[38;5;241;43m.\u001b[39;49m\u001b[43mdeposit\u001b[49m\u001b[43m(\u001b[49m\u001b[38;5;124;43m\"\u001b[39;49m\u001b[38;5;124;43m50\u001b[39;49m\u001b[38;5;124;43m\"\u001b[39;49m\u001b[43m,\u001b[49m\u001b[43m \u001b[49m\u001b[38;5;124;43m\"\u001b[39;49m\u001b[38;5;124;43m30\u001b[39;49m\u001b[38;5;124;43m\"\u001b[39;49m\u001b[43m)\u001b[49m\n",
      "Cell \u001b[1;32mIn[23], line 13\u001b[0m, in \u001b[0;36mOldCoinStash.deposit\u001b[1;34m(self, riksdaler, skilling)\u001b[0m\n\u001b[0;32m     11\u001b[0m \u001b[38;5;28;01mdef\u001b[39;00m \u001b[38;5;21mdeposit\u001b[39m(\u001b[38;5;28mself\u001b[39m, riksdaler, skilling):\n\u001b[0;32m     12\u001b[0m     \u001b[38;5;28;01mif\u001b[39;00m \u001b[38;5;129;01mnot\u001b[39;00m \u001b[38;5;28misinstance\u001b[39m (riksdaler, Number) \u001b[38;5;129;01mor\u001b[39;00m \u001b[38;5;129;01mnot\u001b[39;00m \u001b[38;5;28misinstance\u001b[39m(skilling, Number):\n\u001b[1;32m---> 13\u001b[0m         \u001b[38;5;28;01mraise\u001b[39;00m \u001b[38;5;167;01mTypeError\u001b[39;00m(\u001b[38;5;124mf\u001b[39m\u001b[38;5;124m\"\u001b[39m\u001b[38;5;124mriksaler most be a number not\u001b[39m\u001b[38;5;124m\"\u001b[39m)\n\u001b[0;32m     15\u001b[0m     \u001b[38;5;28;01mif\u001b[39;00m riksdaler \u001b[38;5;241m<\u001b[39m\u001b[38;5;241m=\u001b[39m \u001b[38;5;241m0\u001b[39m \u001b[38;5;129;01mor\u001b[39;00m skilling \u001b[38;5;241m<\u001b[39m\u001b[38;5;241m=\u001b[39m \u001b[38;5;241m0\u001b[39m:\n\u001b[0;32m     16\u001b[0m         \u001b[38;5;28;01mraise\u001b[39;00m \u001b[38;5;167;01mValueError\u001b[39;00m(\u001b[38;5;124mf\u001b[39m\u001b[38;5;124m\"\u001b[39m\u001b[38;5;124myou tried to deposit\u001b[39m\u001b[38;5;132;01m{\u001b[39;00mriksdaler\u001b[38;5;132;01m}\u001b[39;00m\u001b[38;5;124m riksdaler and \u001b[39m\u001b[38;5;132;01m{\u001b[39;00mskilling\u001b[38;5;132;01m}\u001b[39;00m\u001b[38;5;124m skilling\u001b[39m\u001b[38;5;124m\"\u001b[39m)\n",
      "\u001b[1;31mTypeError\u001b[0m: riksaler most be a number not"
     ]
    }
   ],
   "source": [
    "stash1.deposit(\"50\", \"30\")"
   ]
  },
  {
   "cell_type": "code",
   "execution_count": 28,
   "metadata": {},
   "outputs": [
    {
     "name": "stdout",
     "output_type": "stream",
     "text": [
      "coins in stash: 100 riksdaler, 60 skilling\n"
     ]
    }
   ],
   "source": [
    "from numbers import Number\n",
    "\n",
    "class OldCoinStash:\n",
    "    def __init__(self, owner) -> None:\n",
    "        self.owner = owner\n",
    "\n",
    "        #private\n",
    "        self._riksdaler = 0\n",
    "        self._skilling = 0\n",
    "\n",
    "    def deposit(self, riksdaler, skilling):\n",
    "        if not isinstance (riksdaler, Number) or not isinstance(skilling, Number):\n",
    "            raise TypeError(f\"riksaler most be a number not\")\n",
    "        \n",
    "        if riksdaler <= 0 or skilling <= 0:\n",
    "            raise ValueError(f\"you tried to deposit{riksdaler} riksdaler and {skilling} skilling\")\n",
    "        \n",
    "        self._riksdaler += riksdaler\n",
    "        self._skilling += skilling\n",
    "    def withdraw(self, riksdaler, skilling):\n",
    "        #left for the reader\n",
    "        # do type checking and value check\n",
    "        self._riksdaler -= riksdaler\n",
    "        self._skilling -= skilling\n",
    "\n",
    "    def check_balance(self):\n",
    "        print(f\"coins in stash: {self._riksdaler} riksdaler, {self._skilling} skilling\")\n",
    "\n",
    "\n",
    "stash1 = OldCoinStash(\"Agnar Lok\")\n",
    "stash1. deposit(50,30)\n",
    "stash1.deposit(50,30)\n",
    "stash1.check_balance()\n",
    "\n"
   ]
  },
  {
   "cell_type": "markdown",
   "metadata": {},
   "source": [
    "# Property\n",
    "- difference between other languages\n",
    "- python has dot-syntax for both getter and setter\n",
    "-e.g student1.name -> getter\n",
    "- student1.name = \"hannah\" ->setter"
   ]
  },
  {
   "cell_type": "code",
   "execution_count": 31,
   "metadata": {},
   "outputs": [
    {
     "ename": "NameError",
     "evalue": "name 'value' is not defined",
     "output_type": "error",
     "traceback": [
      "\u001b[1;31m---------------------------------------------------------------------------\u001b[0m",
      "\u001b[1;31mNameError\u001b[0m                                 Traceback (most recent call last)",
      "Cell \u001b[1;32mIn[31], line 35\u001b[0m\n\u001b[0;32m     30\u001b[0m             \u001b[38;5;28;01mraise\u001b[39;00m \u001b[38;5;167;01mValueError\u001b[39;00m (\u001b[38;5;124mf\u001b[39m\u001b[38;5;124m\"\u001b[39m\u001b[38;5;124mage must be between 0 and 125 not \u001b[39m\u001b[38;5;132;01m{\u001b[39;00mvalue\u001b[38;5;132;01m}\u001b[39;00m\u001b[38;5;124m\"\u001b[39m)\n\u001b[0;32m     32\u001b[0m         \u001b[38;5;28mself\u001b[39m\u001b[38;5;241m.\u001b[39m_age \u001b[38;5;241m=\u001b[39m value\n\u001b[1;32m---> 35\u001b[0m student1 \u001b[38;5;241m=\u001b[39m \u001b[43mStudent\u001b[49m\u001b[43m(\u001b[49m\u001b[38;5;124;43m\"\u001b[39;49m\u001b[38;5;124;43mZoe\u001b[39;49m\u001b[38;5;124;43m\"\u001b[39;49m\u001b[43m,\u001b[49m\u001b[43m \u001b[49m\u001b[38;5;241;43m25\u001b[39;49m\u001b[43m,\u001b[49m\u001b[43m \u001b[49m\u001b[38;5;28;43;01mTrue\u001b[39;49;00m\u001b[43m)\u001b[49m\n\u001b[0;32m     36\u001b[0m \u001b[38;5;28;01mtry\u001b[39;00m: \n\u001b[0;32m     37\u001b[0m     student1\u001b[38;5;241m.\u001b[39mname \u001b[38;5;241m=\u001b[39m \u001b[38;5;124m\"\u001b[39m\u001b[38;5;124mOlivia\u001b[39m\u001b[38;5;124m\"\u001b[39m \n",
      "Cell \u001b[1;32mIn[31], line 26\u001b[0m, in \u001b[0;36mStudent.__init__\u001b[1;34m(self, name, age, active)\u001b[0m\n\u001b[0;32m     23\u001b[0m \u001b[38;5;250m    \u001b[39m\u001b[38;5;124;03m\"\"\"setter for age with error handling\"\"\"\u001b[39;00m\n\u001b[0;32m     24\u001b[0m     value \u001b[38;5;241m=\u001b[39m \u001b[38;5;28mfloat\u001b[39m(value)\n\u001b[1;32m---> 26\u001b[0m \u001b[38;5;28;01mif\u001b[39;00m \u001b[38;5;129;01mnot\u001b[39;00m \u001b[38;5;28misinstance\u001b[39m (\u001b[43mvalue\u001b[49m, Number):\n\u001b[0;32m     27\u001b[0m     \u001b[38;5;28;01mraise\u001b[39;00m \u001b[38;5;167;01mTypeError\u001b[39;00m(\u001b[38;5;124mf\u001b[39m\u001b[38;5;124m\"\u001b[39m\u001b[38;5;124mage must be a number not\u001b[39m\u001b[38;5;132;01m{\u001b[39;00m\u001b[38;5;28mtype\u001b[39m(value)\u001b[38;5;132;01m}\u001b[39;00m\u001b[38;5;124m\"\u001b[39m)\n\u001b[0;32m     29\u001b[0m \u001b[38;5;28;01mif\u001b[39;00m \u001b[38;5;129;01mnot\u001b[39;00m (\u001b[38;5;241m0\u001b[39m\u001b[38;5;241m<\u001b[39m\u001b[38;5;241m=\u001b[39mvalue\u001b[38;5;241m<\u001b[39m\u001b[38;5;241m=\u001b[39m\u001b[38;5;241m125\u001b[39m):\n",
      "\u001b[1;31mNameError\u001b[0m: name 'value' is not defined"
     ]
    }
   ],
   "source": [
    "from numbers import Number\n",
    "\n",
    "class Student:\n",
    "    \"\"\"Student class for representating students with name, age and active\"\"\"\"\"\n",
    "    # type hint\n",
    "\n",
    "    def __init__(self, name: str, age: int, active: bool) -> None:\n",
    "        self._name = name \n",
    "        self._age = age\n",
    "        self._active = active\n",
    "\n",
    "        @property #detta är en decorator. den föränrar funktionen så den får mer funktionallitet\n",
    "        def name(self):\n",
    "            \"\"\"Read-only property, cann't set name\"\"\"\n",
    "            return self._name\n",
    "        \n",
    "        @property\n",
    "        def age(self):\n",
    "            return self._age\n",
    "        \n",
    "        @age.setter\n",
    "        def age(self, value: float):\n",
    "            \"\"\"setter for age with error handling\"\"\"\n",
    "            value = float(value)\n",
    "\n",
    "        if not isinstance (value, Number):\n",
    "            raise TypeError(f\"age must be a number not{type(value)}\")\n",
    "        \n",
    "        if not (0<=value<=125):\n",
    "            raise ValueError (f\"age must be between 0 and 125 not {value}\")\n",
    "        \n",
    "        self._age = value\n",
    "\n",
    "\n",
    "student1 = Student(\"Zoe\", 25, True)\n",
    "try: \n",
    "    student1.name = \"Olivia\" \n",
    "except AttributeError as err:\n",
    "    print(err)\n",
    "print(student1._name)\n",
    "\n",
    "student1.age = 55\n",
    "student1.age\n",
    "    "
   ]
  },
  {
   "cell_type": "code",
   "execution_count": null,
   "metadata": {},
   "outputs": [],
   "source": []
  }
 ],
 "metadata": {
  "kernelspec": {
   "display_name": "venv",
   "language": "python",
   "name": "python3"
  },
  "language_info": {
   "codemirror_mode": {
    "name": "ipython",
    "version": 3
   },
   "file_extension": ".py",
   "mimetype": "text/x-python",
   "name": "python",
   "nbconvert_exporter": "python",
   "pygments_lexer": "ipython3",
   "version": "3.11.7"
  }
 },
 "nbformat": 4,
 "nbformat_minor": 2
}
