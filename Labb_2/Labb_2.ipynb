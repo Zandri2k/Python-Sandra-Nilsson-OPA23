{
 "cells": [
  {
   "cell_type": "code",
   "execution_count": 95,
   "metadata": {},
   "outputs": [],
   "source": [
    "import numpy as np\n",
    "import seaborn as sns\n",
    "import pandas as pd\n",
    "import matplotlib.pyplot as plt \n"
   ]
  },
  {
   "cell_type": "markdown",
   "metadata": {},
   "source": [
    "# Uppgift 0 - uppvärmning med riket\n",
    "### I den här uppgiften ska du visualisera med hjälp av matplotlib och/eller seaborn\n",
    "- a) Börja med att läsa in filen riket2023_åk9_np.xlsx och sheets för de olika ämnena. Ändra kolumnnamnen på\n",
    "respektive dataframe så du får något liknande som nedan"
   ]
  },
  {
   "cell_type": "code",
   "execution_count": 96,
   "metadata": {},
   "outputs": [
    {
     "data": {
      "text/html": [
       "<div>\n",
       "<style scoped>\n",
       "    .dataframe tbody tr th:only-of-type {\n",
       "        vertical-align: middle;\n",
       "    }\n",
       "\n",
       "    .dataframe tbody tr th {\n",
       "        vertical-align: top;\n",
       "    }\n",
       "\n",
       "    .dataframe thead th {\n",
       "        text-align: right;\n",
       "    }\n",
       "</style>\n",
       "<table border=\"1\" class=\"dataframe\">\n",
       "  <thead>\n",
       "    <tr style=\"text-align: right;\">\n",
       "      <th></th>\n",
       "      <th>Riket</th>\n",
       "      <th>Typ av huvudman</th>\n",
       "      <th>Totalt</th>\n",
       "      <th>Flickor</th>\n",
       "      <th>Pojkar</th>\n",
       "      <th>Totalt</th>\n",
       "      <th>Flickor</th>\n",
       "      <th>Pojkar</th>\n",
       "      <th>Totalt</th>\n",
       "      <th>Flickor</th>\n",
       "      <th>Pojkar</th>\n",
       "    </tr>\n",
       "  </thead>\n",
       "  <tbody>\n",
       "    <tr>\n",
       "      <th>0</th>\n",
       "      <td>Riket</td>\n",
       "      <td>Samtliga</td>\n",
       "      <td>106766</td>\n",
       "      <td>51548</td>\n",
       "      <td>55218</td>\n",
       "      <td>89.1</td>\n",
       "      <td>88.7</td>\n",
       "      <td>89.5</td>\n",
       "      <td>11.9</td>\n",
       "      <td>11.8</td>\n",
       "      <td>12.0</td>\n",
       "    </tr>\n",
       "    <tr>\n",
       "      <th>1</th>\n",
       "      <td>Riket</td>\n",
       "      <td>Kommunal</td>\n",
       "      <td>84163</td>\n",
       "      <td>40386</td>\n",
       "      <td>43777</td>\n",
       "      <td>88.1</td>\n",
       "      <td>87.7</td>\n",
       "      <td>88.5</td>\n",
       "      <td>11.6</td>\n",
       "      <td>11.5</td>\n",
       "      <td>11.7</td>\n",
       "    </tr>\n",
       "    <tr>\n",
       "      <th>2</th>\n",
       "      <td>Riket</td>\n",
       "      <td>Enskild</td>\n",
       "      <td>22553</td>\n",
       "      <td>11137</td>\n",
       "      <td>11416</td>\n",
       "      <td>92.9</td>\n",
       "      <td>92.2</td>\n",
       "      <td>93.5</td>\n",
       "      <td>13.0</td>\n",
       "      <td>12.8</td>\n",
       "      <td>13.1</td>\n",
       "    </tr>\n",
       "    <tr>\n",
       "      <th>3</th>\n",
       "      <td>Riket</td>\n",
       "      <td>Skolverket</td>\n",
       "      <td>50</td>\n",
       "      <td>25</td>\n",
       "      <td>25</td>\n",
       "      <td>~100</td>\n",
       "      <td>~100</td>\n",
       "      <td>~100</td>\n",
       "      <td>14.1</td>\n",
       "      <td>13.5</td>\n",
       "      <td>14.7</td>\n",
       "    </tr>\n",
       "  </tbody>\n",
       "</table>\n",
       "</div>"
      ],
      "text/plain": [
       "   Riket Typ av huvudman  Totalt  Flickor  Pojkar Totalt  Flickor  Pojkar   \\\n",
       "0  Riket        Samtliga  106766    51548   55218    89.1     88.7    89.5   \n",
       "1  Riket        Kommunal   84163    40386   43777    88.1     87.7    88.5   \n",
       "2  Riket         Enskild   22553    11137   11416    92.9     92.2    93.5   \n",
       "3  Riket      Skolverket      50       25      25    ~100     ~100    ~100   \n",
       "\n",
       "   Totalt    Flickor    Pojkar    \n",
       "0      11.9       11.8      12.0  \n",
       "1      11.6       11.5      11.7  \n",
       "2      13.0       12.8      13.1  \n",
       "3      14.1       13.5      14.7  "
      ]
     },
     "execution_count": 96,
     "metadata": {},
     "output_type": "execute_result"
    }
   ],
   "source": [
    "df_subjects = pd.read_excel(\"../data/labb_2/riket2023_åk9_np.xlsx\", skiprows=8, sheet_name= [0,1,2,3])\n",
    "\n",
    "df_svenska_andraspråk = pd.read_excel(\"../data/labb_2/riket2023_åk9_np.xlsx\", skiprows=8, sheet_name= 3) # Imports the math sheet excel file  and skips 8 rows\n",
    "\n",
    "\n",
    "df_svenska = pd.read_excel(\"../data/labb_2/riket2023_åk9_np.xlsx\", skiprows=8, sheet_name= 2) # Imports the math sheet excel file  and skips 8 rows\n",
    "\n",
    "\n",
    "df_engelska = pd.read_excel(\"../data/labb_2/riket2023_åk9_np.xlsx\", skiprows=8, sheet_name= 0) # Imports the math sheet excel file  and skips 8 rows\n",
    "\n",
    "\n",
    "df_matematik = pd.read_excel(\"../data/labb_2/riket2023_åk9_np.xlsx\", skiprows=8, sheet_name= 1) # Imports the math sheet excel file  and skips 8 rows\n",
    "df_matematik"
   ]
  },
  {
   "cell_type": "code",
   "execution_count": 97,
   "metadata": {},
   "outputs": [
    {
     "name": "stdout",
     "output_type": "stream",
     "text": [
      "<class 'pandas.core.frame.DataFrame'>\n",
      "RangeIndex: 4 entries, 0 to 3\n",
      "Data columns (total 11 columns):\n",
      " #   Column           Non-Null Count  Dtype  \n",
      "---  ------           --------------  -----  \n",
      " 0   Riket            4 non-null      object \n",
      " 1   Typ av huvudman  4 non-null      object \n",
      " 2   Totalt           4 non-null      int64  \n",
      " 3   Flickor          4 non-null      int64  \n",
      " 4   Pojkar           4 non-null      int64  \n",
      " 5   Totalt           4 non-null      object \n",
      " 6   Flickor          4 non-null      object \n",
      " 7   Pojkar           4 non-null      object \n",
      " 8   Totalt           4 non-null      float64\n",
      " 9   Flickor          4 non-null      float64\n",
      " 10  Pojkar           4 non-null      float64\n",
      "dtypes: float64(3), int64(3), object(5)\n",
      "memory usage: 484.0+ bytes\n"
     ]
    }
   ],
   "source": [
    "df_matematik.info()"
   ]
  },
  {
   "cell_type": "code",
   "execution_count": 98,
   "metadata": {},
   "outputs": [
    {
     "data": {
      "text/html": [
       "<div>\n",
       "<style scoped>\n",
       "    .dataframe tbody tr th:only-of-type {\n",
       "        vertical-align: middle;\n",
       "    }\n",
       "\n",
       "    .dataframe tbody tr th {\n",
       "        vertical-align: top;\n",
       "    }\n",
       "\n",
       "    .dataframe thead th {\n",
       "        text-align: right;\n",
       "    }\n",
       "</style>\n",
       "<table border=\"1\" class=\"dataframe\">\n",
       "  <thead>\n",
       "    <tr style=\"text-align: right;\">\n",
       "      <th></th>\n",
       "      <th>1</th>\n",
       "      <th>2</th>\n",
       "      <th>3</th>\n",
       "      <th>4</th>\n",
       "      <th>5</th>\n",
       "      <th>6</th>\n",
       "      <th>7</th>\n",
       "      <th>8</th>\n",
       "      <th>9</th>\n",
       "      <th>10</th>\n",
       "      <th>11</th>\n",
       "    </tr>\n",
       "  </thead>\n",
       "  <tbody>\n",
       "    <tr>\n",
       "      <th>0</th>\n",
       "      <td>Riket</td>\n",
       "      <td>Samtliga</td>\n",
       "      <td>106766</td>\n",
       "      <td>51548</td>\n",
       "      <td>55218</td>\n",
       "      <td>89.1</td>\n",
       "      <td>88.7</td>\n",
       "      <td>89.5</td>\n",
       "      <td>11.9</td>\n",
       "      <td>11.8</td>\n",
       "      <td>12.0</td>\n",
       "    </tr>\n",
       "    <tr>\n",
       "      <th>1</th>\n",
       "      <td>Riket</td>\n",
       "      <td>Kommunal</td>\n",
       "      <td>84163</td>\n",
       "      <td>40386</td>\n",
       "      <td>43777</td>\n",
       "      <td>88.1</td>\n",
       "      <td>87.7</td>\n",
       "      <td>88.5</td>\n",
       "      <td>11.6</td>\n",
       "      <td>11.5</td>\n",
       "      <td>11.7</td>\n",
       "    </tr>\n",
       "    <tr>\n",
       "      <th>2</th>\n",
       "      <td>Riket</td>\n",
       "      <td>Enskild</td>\n",
       "      <td>22553</td>\n",
       "      <td>11137</td>\n",
       "      <td>11416</td>\n",
       "      <td>92.9</td>\n",
       "      <td>92.2</td>\n",
       "      <td>93.5</td>\n",
       "      <td>13.0</td>\n",
       "      <td>12.8</td>\n",
       "      <td>13.1</td>\n",
       "    </tr>\n",
       "    <tr>\n",
       "      <th>3</th>\n",
       "      <td>Riket</td>\n",
       "      <td>Skolverket</td>\n",
       "      <td>50</td>\n",
       "      <td>25</td>\n",
       "      <td>25</td>\n",
       "      <td>~100</td>\n",
       "      <td>~100</td>\n",
       "      <td>~100</td>\n",
       "      <td>14.1</td>\n",
       "      <td>13.5</td>\n",
       "      <td>14.7</td>\n",
       "    </tr>\n",
       "  </tbody>\n",
       "</table>\n",
       "</div>"
      ],
      "text/plain": [
       "      1           2       3      4      5     6     7     8     9     10    11\n",
       "0  Riket    Samtliga  106766  51548  55218  89.1  88.7  89.5  11.9  11.8  12.0\n",
       "1  Riket    Kommunal   84163  40386  43777  88.1  87.7  88.5  11.6  11.5  11.7\n",
       "2  Riket     Enskild   22553  11137  11416  92.9  92.2  93.5  13.0  12.8  13.1\n",
       "3  Riket  Skolverket      50     25     25  ~100  ~100  ~100  14.1  13.5  14.7"
      ]
     },
     "execution_count": 98,
     "metadata": {},
     "output_type": "execute_result"
    }
   ],
   "source": [
    "df_matematik.columns = [1,2,3,4,5,6,7,8,9,10,11]  # Ändrar kolumnerna till siffror pga multiple titles\n",
    "df_matematik.head()"
   ]
  },
  {
   "cell_type": "code",
   "execution_count": 99,
   "metadata": {},
   "outputs": [
    {
     "data": {
      "text/html": [
       "<div>\n",
       "<style scoped>\n",
       "    .dataframe tbody tr th:only-of-type {\n",
       "        vertical-align: middle;\n",
       "    }\n",
       "\n",
       "    .dataframe tbody tr th {\n",
       "        vertical-align: top;\n",
       "    }\n",
       "\n",
       "    .dataframe thead th {\n",
       "        text-align: right;\n",
       "    }\n",
       "</style>\n",
       "<table border=\"1\" class=\"dataframe\">\n",
       "  <thead>\n",
       "    <tr style=\"text-align: right;\">\n",
       "      <th></th>\n",
       "      <th>Riket</th>\n",
       "      <th>Huvudman</th>\n",
       "      <th>Totalt (A-F)</th>\n",
       "      <th>Flickor (A-F)</th>\n",
       "      <th>Pojkar (A-F)</th>\n",
       "      <th>Totalt (A-E)</th>\n",
       "      <th>Flickor (A-E)</th>\n",
       "      <th>Pojkar (A-E)</th>\n",
       "      <th>Totalt (Poäng)</th>\n",
       "      <th>Flickor (Poäng)</th>\n",
       "      <th>Pojkar (Poäng)</th>\n",
       "    </tr>\n",
       "  </thead>\n",
       "  <tbody>\n",
       "    <tr>\n",
       "      <th>0</th>\n",
       "      <td>Riket</td>\n",
       "      <td>Samtliga</td>\n",
       "      <td>106766</td>\n",
       "      <td>51548</td>\n",
       "      <td>55218</td>\n",
       "      <td>89.1</td>\n",
       "      <td>88.7</td>\n",
       "      <td>89.5</td>\n",
       "      <td>11.9</td>\n",
       "      <td>11.8</td>\n",
       "      <td>12.0</td>\n",
       "    </tr>\n",
       "    <tr>\n",
       "      <th>1</th>\n",
       "      <td>Riket</td>\n",
       "      <td>Kommunal</td>\n",
       "      <td>84163</td>\n",
       "      <td>40386</td>\n",
       "      <td>43777</td>\n",
       "      <td>88.1</td>\n",
       "      <td>87.7</td>\n",
       "      <td>88.5</td>\n",
       "      <td>11.6</td>\n",
       "      <td>11.5</td>\n",
       "      <td>11.7</td>\n",
       "    </tr>\n",
       "    <tr>\n",
       "      <th>2</th>\n",
       "      <td>Riket</td>\n",
       "      <td>Enskild</td>\n",
       "      <td>22553</td>\n",
       "      <td>11137</td>\n",
       "      <td>11416</td>\n",
       "      <td>92.9</td>\n",
       "      <td>92.2</td>\n",
       "      <td>93.5</td>\n",
       "      <td>13.0</td>\n",
       "      <td>12.8</td>\n",
       "      <td>13.1</td>\n",
       "    </tr>\n",
       "    <tr>\n",
       "      <th>3</th>\n",
       "      <td>Riket</td>\n",
       "      <td>Skolverket</td>\n",
       "      <td>50</td>\n",
       "      <td>25</td>\n",
       "      <td>25</td>\n",
       "      <td>~100</td>\n",
       "      <td>~100</td>\n",
       "      <td>~100</td>\n",
       "      <td>14.1</td>\n",
       "      <td>13.5</td>\n",
       "      <td>14.7</td>\n",
       "    </tr>\n",
       "  </tbody>\n",
       "</table>\n",
       "</div>"
      ],
      "text/plain": [
       "   Riket    Huvudman  Totalt (A-F)  Flickor (A-F)  Pojkar (A-F) Totalt (A-E)  \\\n",
       "0  Riket    Samtliga        106766          51548         55218         89.1   \n",
       "1  Riket    Kommunal         84163          40386         43777         88.1   \n",
       "2  Riket     Enskild         22553          11137         11416         92.9   \n",
       "3  Riket  Skolverket            50             25            25         ~100   \n",
       "\n",
       "  Flickor (A-E) Pojkar (A-E)  Totalt (Poäng)  Flickor (Poäng)  Pojkar (Poäng)  \n",
       "0          88.7         89.5            11.9             11.8            12.0  \n",
       "1          87.7         88.5            11.6             11.5            11.7  \n",
       "2          92.2         93.5            13.0             12.8            13.1  \n",
       "3          ~100         ~100            14.1             13.5            14.7  "
      ]
     },
     "execution_count": 99,
     "metadata": {},
     "output_type": "execute_result"
    }
   ],
   "source": [
    "df_matematik.columns = [\"Riket\", \"Huvudman\", \"Totalt (A-F)\", \"Flickor (A-F)\", \"Pojkar (A-F)\", \"Totalt (A-E)\", \"Flickor (A-E)\", \"Pojkar (A-E)\", \"Totalt (Poäng)\", \"Flickor (Poäng)\", \"Pojkar (Poäng)\"]\n",
    "df_matematik"
   ]
  },
  {
   "cell_type": "code",
   "execution_count": 100,
   "metadata": {},
   "outputs": [
    {
     "name": "stdout",
     "output_type": "stream",
     "text": [
      "<class 'pandas.core.frame.DataFrame'>\n",
      "RangeIndex: 4 entries, 0 to 3\n",
      "Data columns (total 11 columns):\n",
      " #   Column           Non-Null Count  Dtype  \n",
      "---  ------           --------------  -----  \n",
      " 0   Riket            4 non-null      object \n",
      " 1   Huvudman         4 non-null      object \n",
      " 2   Totalt (A-F)     4 non-null      int64  \n",
      " 3   Flickor (A-F)    4 non-null      int64  \n",
      " 4   Pojkar (A-F)     4 non-null      int64  \n",
      " 5   Totalt (A-E)     4 non-null      object \n",
      " 6   Flickor (A-E)    4 non-null      object \n",
      " 7   Pojkar (A-E)     4 non-null      object \n",
      " 8   Totalt (Poäng)   4 non-null      float64\n",
      " 9   Flickor (Poäng)  4 non-null      float64\n",
      " 10  Pojkar (Poäng)   4 non-null      float64\n",
      "dtypes: float64(3), int64(3), object(5)\n",
      "memory usage: 484.0+ bytes\n"
     ]
    }
   ],
   "source": [
    "df_matematik.info()"
   ]
  },
  {
   "cell_type": "markdown",
   "metadata": {},
   "source": [
    "### b) Ta reda på antalet som fått F i matematik totalt, pojkar respektive flickor."
   ]
  },
  {
   "cell_type": "code",
   "execution_count": 101,
   "metadata": {},
   "outputs": [
    {
     "name": "stdout",
     "output_type": "stream",
     "text": [
      "Total numbers of boys who recieved an F in mathematics at year 9 is: 5825\n",
      "Total numbers of boys who recieved an F in mathematics at year 9 is: 6350\n"
     ]
    }
   ],
   "source": [
    "total_number_girls = 51548 \n",
    "total_number_boys = 55218\n",
    "\n",
    "\n",
    "percentage_f_grade = 11.3/100\n",
    "boys_percentage_f_grade = 11.5/100  # gör om till decimal\n",
    "\n",
    "girls_with_f_grade = round(total_number_girls*percentage_f_grade) #beräknar mängden tjejer som fick f\n",
    "boys_with_f_grade = round(total_number_boys*boys_percentage_f_grade) #beräknar mängden killar som fick f\n",
    "\n",
    "print(\"Total numbers of boys who recieved an F in mathematics at year 9 is:\", girls_with_f_grade)\n",
    "print(\"Total numbers of boys who recieved an F in mathematics at year 9 is:\", boys_with_f_grade)"
   ]
  },
  {
   "cell_type": "markdown",
   "metadata": {},
   "source": [
    "### c) Rita ett stapeldiagram på totala poängen för de olika ämnena"
   ]
  },
  {
   "cell_type": "code",
   "execution_count": 102,
   "metadata": {},
   "outputs": [
    {
     "data": {
      "text/plain": [
       "{0:    Riket Typ av huvudman  Totalt  Flickor  Pojkar  Totalt   Flickor   Pojkar   \\\n",
       " 0  Riket        Samtliga  106941    51864   55077     97.0      97.1     97.0   \n",
       " 1  Riket        Kommunal   84310    40675   43635     96.6      96.6     96.6   \n",
       " 2  Riket         Enskild   22582    11165   11417     98.7      98.8     98.7   \n",
       " 3  Riket      Skolverket      49       24      25    100.0     100.0    100.0   \n",
       " \n",
       "    Totalt    Flickor    Pojkar    \n",
       " 0      15.7       15.8      15.7  \n",
       " 1      15.4       15.5      15.4  \n",
       " 2      16.9       17.0      16.8  \n",
       " 3      18.5       18.9      18.2  ,\n",
       " 1:    Riket Typ av huvudman  Totalt  Flickor  Pojkar Totalt  Flickor  Pojkar   \\\n",
       " 0  Riket        Samtliga  106766    51548   55218    89.1     88.7    89.5   \n",
       " 1  Riket        Kommunal   84163    40386   43777    88.1     87.7    88.5   \n",
       " 2  Riket         Enskild   22553    11137   11416    92.9     92.2    93.5   \n",
       " 3  Riket      Skolverket      50       25      25    ~100     ~100    ~100   \n",
       " \n",
       "    Totalt    Flickor    Pojkar    \n",
       " 0      11.9       11.8      12.0  \n",
       " 1      11.6       11.5      11.7  \n",
       " 2      13.0       12.8      13.1  \n",
       " 3      14.1       13.5      14.7  ,\n",
       " 2:    Riket Typ av huvudman  Totalt  Flickor  Pojkar  Totalt   Flickor   Pojkar   \\\n",
       " 0  Riket        Samtliga   93225    45800   47425     96.1      97.9     94.4   \n",
       " 1  Riket        Kommunal   72771    35484   37287     95.7      97.6     93.8   \n",
       " 2  Riket         Enskild   20414    10297   10117     97.6      98.7     96.6   \n",
       " 3  Riket      Skolverket      40       19      21    100.0     100.0    100.0   \n",
       " \n",
       "    Totalt    Flickor    Pojkar    \n",
       " 0      13.6       14.5      12.7  \n",
       " 1      13.3       14.3      12.4  \n",
       " 2      14.4       15.2      13.5  \n",
       " 3      15.0       15.9      14.2  ,\n",
       " 3:    Riket Typ av huvudman Totalt Flickor Pojkar Totalt  Flickor  Pojkar   \\\n",
       " 0  Riket        Samtliga  14092    6447   7645    77.7     81.6    74.3   \n",
       " 1  Riket        Kommunal  11963    5495   6468    75.9       80    72.4   \n",
       " 2  Riket         Enskild   2122     949   1173    87.7     90.9    85.2   \n",
       " 3  Riket      Skolverket     ..      ..     ..      ..       ..      ..   \n",
       " \n",
       "   Totalt   Flickor   Pojkar    \n",
       " 0      9.4      10.2      8.7  \n",
       " 1        9       9.9      8.3  \n",
       " 2     11.1        12     10.4  \n",
       " 3       ..        ..       ..  }"
      ]
     },
     "execution_count": 102,
     "metadata": {},
     "output_type": "execute_result"
    }
   ],
   "source": [
    "df_subjects"
   ]
  },
  {
   "cell_type": "code",
   "execution_count": 103,
   "metadata": {},
   "outputs": [
    {
     "data": {
      "text/html": [
       "<div>\n",
       "<style scoped>\n",
       "    .dataframe tbody tr th:only-of-type {\n",
       "        vertical-align: middle;\n",
       "    }\n",
       "\n",
       "    .dataframe tbody tr th {\n",
       "        vertical-align: top;\n",
       "    }\n",
       "\n",
       "    .dataframe thead th {\n",
       "        text-align: right;\n",
       "    }\n",
       "</style>\n",
       "<table border=\"1\" class=\"dataframe\">\n",
       "  <thead>\n",
       "    <tr style=\"text-align: right;\">\n",
       "      <th></th>\n",
       "      <th>Riket</th>\n",
       "      <th>Huvudman</th>\n",
       "      <th>Totalt (A-F)</th>\n",
       "      <th>Flickor (A-F)</th>\n",
       "      <th>Pojkar (A-F)</th>\n",
       "      <th>Totalt (A-E)</th>\n",
       "      <th>Flickor (A-E)</th>\n",
       "      <th>Pojkar (A-E)</th>\n",
       "      <th>Totalt (Poäng)</th>\n",
       "      <th>Flickor (Poäng)</th>\n",
       "      <th>Pojkar (Poäng)</th>\n",
       "    </tr>\n",
       "  </thead>\n",
       "  <tbody>\n",
       "    <tr>\n",
       "      <th>0</th>\n",
       "      <td>Riket</td>\n",
       "      <td>Samtliga</td>\n",
       "      <td>106766</td>\n",
       "      <td>51548</td>\n",
       "      <td>55218</td>\n",
       "      <td>89.1</td>\n",
       "      <td>88.7</td>\n",
       "      <td>89.5</td>\n",
       "      <td>11.9</td>\n",
       "      <td>11.8</td>\n",
       "      <td>12.0</td>\n",
       "    </tr>\n",
       "    <tr>\n",
       "      <th>1</th>\n",
       "      <td>Riket</td>\n",
       "      <td>Kommunal</td>\n",
       "      <td>84163</td>\n",
       "      <td>40386</td>\n",
       "      <td>43777</td>\n",
       "      <td>88.1</td>\n",
       "      <td>87.7</td>\n",
       "      <td>88.5</td>\n",
       "      <td>11.6</td>\n",
       "      <td>11.5</td>\n",
       "      <td>11.7</td>\n",
       "    </tr>\n",
       "    <tr>\n",
       "      <th>2</th>\n",
       "      <td>Riket</td>\n",
       "      <td>Enskild</td>\n",
       "      <td>22553</td>\n",
       "      <td>11137</td>\n",
       "      <td>11416</td>\n",
       "      <td>92.9</td>\n",
       "      <td>92.2</td>\n",
       "      <td>93.5</td>\n",
       "      <td>13.0</td>\n",
       "      <td>12.8</td>\n",
       "      <td>13.1</td>\n",
       "    </tr>\n",
       "    <tr>\n",
       "      <th>3</th>\n",
       "      <td>Riket</td>\n",
       "      <td>Skolverket</td>\n",
       "      <td>50</td>\n",
       "      <td>25</td>\n",
       "      <td>25</td>\n",
       "      <td>~100</td>\n",
       "      <td>~100</td>\n",
       "      <td>~100</td>\n",
       "      <td>14.1</td>\n",
       "      <td>13.5</td>\n",
       "      <td>14.7</td>\n",
       "    </tr>\n",
       "  </tbody>\n",
       "</table>\n",
       "</div>"
      ],
      "text/plain": [
       "   Riket    Huvudman  Totalt (A-F)  Flickor (A-F)  Pojkar (A-F) Totalt (A-E)  \\\n",
       "0  Riket    Samtliga        106766          51548         55218         89.1   \n",
       "1  Riket    Kommunal         84163          40386         43777         88.1   \n",
       "2  Riket     Enskild         22553          11137         11416         92.9   \n",
       "3  Riket  Skolverket            50             25            25         ~100   \n",
       "\n",
       "  Flickor (A-E) Pojkar (A-E)  Totalt (Poäng)  Flickor (Poäng)  Pojkar (Poäng)  \n",
       "0          88.7         89.5            11.9             11.8            12.0  \n",
       "1          87.7         88.5            11.6             11.5            11.7  \n",
       "2          92.2         93.5            13.0             12.8            13.1  \n",
       "3          ~100         ~100            14.1             13.5            14.7  "
      ]
     },
     "execution_count": 103,
     "metadata": {},
     "output_type": "execute_result"
    }
   ],
   "source": [
    "\n",
    "for key in df_subjects:\n",
    "    df_subjects[key].columns = [\n",
    "         \"Riket\",\n",
    "         \"Huvudman\",\n",
    "         \"Totalt (A-F)\",\n",
    "         \"Flickor (A-F)\",\n",
    "         \"Pojkar (A-F)\",\n",
    "         \"Totalt (A-E)\",\n",
    "         \"Flickor (A-E)\",\n",
    "         \"Pojkar (A-E)\",\n",
    "         \"Totalt (Poäng)\",\n",
    "         \"Flickor (Poäng)\",\n",
    "         \"Pojkar (Poäng)\",\n",
    "    ]\n",
    "   \n",
    "\n",
    "df_subjects[1].head()\n",
    "\n",
    "\n"
   ]
  },
  {
   "cell_type": "code",
   "execution_count": 104,
   "metadata": {},
   "outputs": [
    {
     "data": {
      "text/plain": [
       "11.9"
      ]
     },
     "execution_count": 104,
     "metadata": {},
     "output_type": "execute_result"
    }
   ],
   "source": [
    "df_subjects[1][\"Totalt (Poäng)\"][0] # samtliga. gör detta för alla. lägg i lista.. plota listan "
   ]
  },
  {
   "cell_type": "code",
   "execution_count": 105,
   "metadata": {},
   "outputs": [
    {
     "data": {
      "text/plain": [
       "{0:    Riket    Huvudman  Totalt (A-F)  Flickor (A-F)  Pojkar (A-F)  Totalt (A-E)  \\\n",
       " 0  Riket    Samtliga        106941          51864         55077          97.0   \n",
       " 1  Riket    Kommunal         84310          40675         43635          96.6   \n",
       " 2  Riket     Enskild         22582          11165         11417          98.7   \n",
       " 3  Riket  Skolverket            49             24            25         100.0   \n",
       " \n",
       "    Flickor (A-E)  Pojkar (A-E)  Totalt (Poäng)  Flickor (Poäng)  \\\n",
       " 0           97.1          97.0            15.7             15.8   \n",
       " 1           96.6          96.6            15.4             15.5   \n",
       " 2           98.8          98.7            16.9             17.0   \n",
       " 3          100.0         100.0            18.5             18.9   \n",
       " \n",
       "    Pojkar (Poäng)  \n",
       " 0            15.7  \n",
       " 1            15.4  \n",
       " 2            16.8  \n",
       " 3            18.2  ,\n",
       " 1:    Riket    Huvudman  Totalt (A-F)  Flickor (A-F)  Pojkar (A-F) Totalt (A-E)  \\\n",
       " 0  Riket    Samtliga        106766          51548         55218         89.1   \n",
       " 1  Riket    Kommunal         84163          40386         43777         88.1   \n",
       " 2  Riket     Enskild         22553          11137         11416         92.9   \n",
       " 3  Riket  Skolverket            50             25            25         ~100   \n",
       " \n",
       "   Flickor (A-E) Pojkar (A-E)  Totalt (Poäng)  Flickor (Poäng)  Pojkar (Poäng)  \n",
       " 0          88.7         89.5            11.9             11.8            12.0  \n",
       " 1          87.7         88.5            11.6             11.5            11.7  \n",
       " 2          92.2         93.5            13.0             12.8            13.1  \n",
       " 3          ~100         ~100            14.1             13.5            14.7  ,\n",
       " 2:    Riket    Huvudman  Totalt (A-F)  Flickor (A-F)  Pojkar (A-F)  Totalt (A-E)  \\\n",
       " 0  Riket    Samtliga         93225          45800         47425          96.1   \n",
       " 1  Riket    Kommunal         72771          35484         37287          95.7   \n",
       " 2  Riket     Enskild         20414          10297         10117          97.6   \n",
       " 3  Riket  Skolverket            40             19            21         100.0   \n",
       " \n",
       "    Flickor (A-E)  Pojkar (A-E)  Totalt (Poäng)  Flickor (Poäng)  \\\n",
       " 0           97.9          94.4            13.6             14.5   \n",
       " 1           97.6          93.8            13.3             14.3   \n",
       " 2           98.7          96.6            14.4             15.2   \n",
       " 3          100.0         100.0            15.0             15.9   \n",
       " \n",
       "    Pojkar (Poäng)  \n",
       " 0            12.7  \n",
       " 1            12.4  \n",
       " 2            13.5  \n",
       " 3            14.2  ,\n",
       " 3:    Riket    Huvudman Totalt (A-F) Flickor (A-F) Pojkar (A-F) Totalt (A-E)  \\\n",
       " 0  Riket    Samtliga        14092          6447         7645         77.7   \n",
       " 1  Riket    Kommunal        11963          5495         6468         75.9   \n",
       " 2  Riket     Enskild         2122           949         1173         87.7   \n",
       " 3  Riket  Skolverket           ..            ..           ..           ..   \n",
       " \n",
       "   Flickor (A-E) Pojkar (A-E) Totalt (Poäng) Flickor (Poäng) Pojkar (Poäng)  \n",
       " 0          81.6         74.3            9.4            10.2            8.7  \n",
       " 1            80         72.4              9             9.9            8.3  \n",
       " 2          90.9         85.2           11.1              12           10.4  \n",
       " 3            ..           ..             ..              ..             ..  }"
      ]
     },
     "execution_count": 105,
     "metadata": {},
     "output_type": "execute_result"
    }
   ],
   "source": [
    "df_subjects"
   ]
  },
  {
   "cell_type": "code",
   "execution_count": 106,
   "metadata": {},
   "outputs": [
    {
     "data": {
      "text/plain": [
       "3"
      ]
     },
     "execution_count": 106,
     "metadata": {},
     "output_type": "execute_result"
    }
   ],
   "source": [
    "key"
   ]
  },
  {
   "cell_type": "code",
   "execution_count": 107,
   "metadata": {},
   "outputs": [
    {
     "name": "stdout",
     "output_type": "stream",
     "text": [
      "15.7\n",
      "11.9\n",
      "13.6\n",
      "9.4\n"
     ]
    }
   ],
   "source": [
    "for key in df_subjects:\n",
    "    print(df_subjects[key][\"Totalt (Poäng)\"][0]) \n"
   ]
  },
  {
   "cell_type": "code",
   "execution_count": 108,
   "metadata": {},
   "outputs": [
    {
     "data": {
      "text/plain": [
       "[15.7, 11.9, 13.6, 9.4]"
      ]
     },
     "execution_count": 108,
     "metadata": {},
     "output_type": "execute_result"
    }
   ],
   "source": [
    "total_point= [df_subjects[key][\"Totalt (Poäng)\"][0] for key in df_subjects] #list comprehenssion\n",
    "total_point"
   ]
  },
  {
   "cell_type": "code",
   "execution_count": 112,
   "metadata": {},
   "outputs": [
    {
     "data": {
      "text/plain": [
       "<Axes: xlabel='subject', ylabel='Points'>"
      ]
     },
     "execution_count": 112,
     "metadata": {},
     "output_type": "execute_result"
    },
    {
     "data": {
      "image/png": "[encoded data removed]",
      "text/plain": [
       "<Figure size 640x480 with 1 Axes>"
      ]
     },
     "metadata": {},
     "output_type": "display_data"
    }
   ],
   "source": [
    "pd.Series(total_point).plot(kind=\"bar\", x=\"\", y=\"\", xlabel= \"subject\", ylabel=\"Points\")"
   ]
  },
  {
   "cell_type": "code",
   "execution_count": null,
   "metadata": {},
   "outputs": [],
   "source": []
  }
 ],
 "metadata": {
  "kernelspec": {
   "display_name": "venv",
   "language": "python",
   "name": "python3"
  },
  "language_info": {
   "codemirror_mode": {
    "name": "ipython",
    "version": 3
   },
   "file_extension": ".py",
   "mimetype": "text/x-python",
   "name": "python",
   "nbconvert_exporter": "python",
   "pygments_lexer": "ipython3",
   "version": "3.11.7"
  }
 },
 "nbformat": 4,
 "nbformat_minor": 2
}
