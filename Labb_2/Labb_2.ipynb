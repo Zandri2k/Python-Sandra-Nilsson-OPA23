{
 "cells": [
  {
   "cell_type": "code",
   "execution_count": 351,
   "metadata": {},
   "outputs": [],
   "source": [
    "import numpy as np\n",
    "import seaborn as sns\n",
    "import pandas as pd\n",
    "import matplotlib.pyplot as plt \n"
   ]
  },
  {
   "cell_type": "markdown",
   "metadata": {},
   "source": [
    "# Uppgift 0 - uppvärmning med riket\n",
    "### I den här uppgiften ska du visualisera med hjälp av matplotlib och/eller seaborn\n",
    "- a) Börja med att läsa in filen riket2023_åk9_np.xlsx och sheets för de olika ämnena. Ändra kolumnnamnen på\n",
    "respektive dataframe så du får något liknande som nedan"
   ]
  },
  {
   "cell_type": "code",
   "execution_count": 352,
   "metadata": {},
   "outputs": [
    {
     "data": {
      "text/html": [
       "<div>\n",
       "<style scoped>\n",
       "    .dataframe tbody tr th:only-of-type {\n",
       "        vertical-align: middle;\n",
       "    }\n",
       "\n",
       "    .dataframe tbody tr th {\n",
       "        vertical-align: top;\n",
       "    }\n",
       "\n",
       "    .dataframe thead th {\n",
       "        text-align: right;\n",
       "    }\n",
       "</style>\n",
       "<table border=\"1\" class=\"dataframe\">\n",
       "  <thead>\n",
       "    <tr style=\"text-align: right;\">\n",
       "      <th></th>\n",
       "      <th>Riket</th>\n",
       "      <th>Typ av huvudman</th>\n",
       "      <th>Totalt</th>\n",
       "      <th>Flickor</th>\n",
       "      <th>Pojkar</th>\n",
       "      <th>Totalt</th>\n",
       "      <th>Flickor</th>\n",
       "      <th>Pojkar</th>\n",
       "      <th>Totalt</th>\n",
       "      <th>Flickor</th>\n",
       "      <th>Pojkar</th>\n",
       "    </tr>\n",
       "  </thead>\n",
       "  <tbody>\n",
       "    <tr>\n",
       "      <th>0</th>\n",
       "      <td>Riket</td>\n",
       "      <td>Samtliga</td>\n",
       "      <td>106766</td>\n",
       "      <td>51548</td>\n",
       "      <td>55218</td>\n",
       "      <td>89.1</td>\n",
       "      <td>88.7</td>\n",
       "      <td>89.5</td>\n",
       "      <td>11.9</td>\n",
       "      <td>11.8</td>\n",
       "      <td>12.0</td>\n",
       "    </tr>\n",
       "    <tr>\n",
       "      <th>1</th>\n",
       "      <td>Riket</td>\n",
       "      <td>Kommunal</td>\n",
       "      <td>84163</td>\n",
       "      <td>40386</td>\n",
       "      <td>43777</td>\n",
       "      <td>88.1</td>\n",
       "      <td>87.7</td>\n",
       "      <td>88.5</td>\n",
       "      <td>11.6</td>\n",
       "      <td>11.5</td>\n",
       "      <td>11.7</td>\n",
       "    </tr>\n",
       "    <tr>\n",
       "      <th>2</th>\n",
       "      <td>Riket</td>\n",
       "      <td>Enskild</td>\n",
       "      <td>22553</td>\n",
       "      <td>11137</td>\n",
       "      <td>11416</td>\n",
       "      <td>92.9</td>\n",
       "      <td>92.2</td>\n",
       "      <td>93.5</td>\n",
       "      <td>13.0</td>\n",
       "      <td>12.8</td>\n",
       "      <td>13.1</td>\n",
       "    </tr>\n",
       "    <tr>\n",
       "      <th>3</th>\n",
       "      <td>Riket</td>\n",
       "      <td>Skolverket</td>\n",
       "      <td>50</td>\n",
       "      <td>25</td>\n",
       "      <td>25</td>\n",
       "      <td>~100</td>\n",
       "      <td>~100</td>\n",
       "      <td>~100</td>\n",
       "      <td>14.1</td>\n",
       "      <td>13.5</td>\n",
       "      <td>14.7</td>\n",
       "    </tr>\n",
       "  </tbody>\n",
       "</table>\n",
       "</div>"
      ],
      "text/plain": [
       "   Riket Typ av huvudman  Totalt  Flickor  Pojkar Totalt  Flickor  Pojkar   \\\n",
       "0  Riket        Samtliga  106766    51548   55218    89.1     88.7    89.5   \n",
       "1  Riket        Kommunal   84163    40386   43777    88.1     87.7    88.5   \n",
       "2  Riket         Enskild   22553    11137   11416    92.9     92.2    93.5   \n",
       "3  Riket      Skolverket      50       25      25    ~100     ~100    ~100   \n",
       "\n",
       "   Totalt    Flickor    Pojkar    \n",
       "0      11.9       11.8      12.0  \n",
       "1      11.6       11.5      11.7  \n",
       "2      13.0       12.8      13.1  \n",
       "3      14.1       13.5      14.7  "
      ]
     },
     "execution_count": 352,
     "metadata": {},
     "output_type": "execute_result"
    }
   ],
   "source": [
    "df_subjects = pd.read_excel(\"../data/labb_2/riket2023_åk9_np.xlsx\", skiprows=8, sheet_name= [0,1,2,3])\n",
    "\n",
    "df_svenska_andraspråk = pd.read_excel(\"../data/labb_2/riket2023_åk9_np.xlsx\", skiprows=8, sheet_name= 3) # Imports the math sheet excel file  and skips 8 rows\n",
    "\n",
    "\n",
    "df_svenska = pd.read_excel(\"../data/labb_2/riket2023_åk9_np.xlsx\", skiprows=8, sheet_name= 2) # Imports the math sheet excel file  and skips 8 rows\n",
    "\n",
    "\n",
    "df_engelska = pd.read_excel(\"../data/labb_2/riket2023_åk9_np.xlsx\", skiprows=8, sheet_name= 0) # Imports the math sheet excel file  and skips 8 rows\n",
    "\n",
    "\n",
    "df_matematik = pd.read_excel(\"../data/labb_2/riket2023_åk9_np.xlsx\", skiprows=8, sheet_name= 1) # Imports the math sheet excel file  and skips 8 rows\n",
    "df_matematik"
   ]
  },
  {
   "cell_type": "code",
   "execution_count": 353,
   "metadata": {},
   "outputs": [
    {
     "name": "stdout",
     "output_type": "stream",
     "text": [
      "<class 'pandas.core.frame.DataFrame'>\n",
      "RangeIndex: 4 entries, 0 to 3\n",
      "Data columns (total 11 columns):\n",
      " #   Column           Non-Null Count  Dtype  \n",
      "---  ------           --------------  -----  \n",
      " 0   Riket            4 non-null      object \n",
      " 1   Typ av huvudman  4 non-null      object \n",
      " 2   Totalt           4 non-null      int64  \n",
      " 3   Flickor          4 non-null      int64  \n",
      " 4   Pojkar           4 non-null      int64  \n",
      " 5   Totalt           4 non-null      object \n",
      " 6   Flickor          4 non-null      object \n",
      " 7   Pojkar           4 non-null      object \n",
      " 8   Totalt           4 non-null      float64\n",
      " 9   Flickor          4 non-null      float64\n",
      " 10  Pojkar           4 non-null      float64\n",
      "dtypes: float64(3), int64(3), object(5)\n",
      "memory usage: 484.0+ bytes\n"
     ]
    }
   ],
   "source": [
    "df_matematik.info()"
   ]
  },
  {
   "cell_type": "code",
   "execution_count": 354,
   "metadata": {},
   "outputs": [
    {
     "data": {
      "text/html": [
       "<div>\n",
       "<style scoped>\n",
       "    .dataframe tbody tr th:only-of-type {\n",
       "        vertical-align: middle;\n",
       "    }\n",
       "\n",
       "    .dataframe tbody tr th {\n",
       "        vertical-align: top;\n",
       "    }\n",
       "\n",
       "    .dataframe thead th {\n",
       "        text-align: right;\n",
       "    }\n",
       "</style>\n",
       "<table border=\"1\" class=\"dataframe\">\n",
       "  <thead>\n",
       "    <tr style=\"text-align: right;\">\n",
       "      <th></th>\n",
       "      <th>1</th>\n",
       "      <th>2</th>\n",
       "      <th>3</th>\n",
       "      <th>4</th>\n",
       "      <th>5</th>\n",
       "      <th>6</th>\n",
       "      <th>7</th>\n",
       "      <th>8</th>\n",
       "      <th>9</th>\n",
       "      <th>10</th>\n",
       "      <th>11</th>\n",
       "    </tr>\n",
       "  </thead>\n",
       "  <tbody>\n",
       "    <tr>\n",
       "      <th>0</th>\n",
       "      <td>Riket</td>\n",
       "      <td>Samtliga</td>\n",
       "      <td>106766</td>\n",
       "      <td>51548</td>\n",
       "      <td>55218</td>\n",
       "      <td>89.1</td>\n",
       "      <td>88.7</td>\n",
       "      <td>89.5</td>\n",
       "      <td>11.9</td>\n",
       "      <td>11.8</td>\n",
       "      <td>12.0</td>\n",
       "    </tr>\n",
       "    <tr>\n",
       "      <th>1</th>\n",
       "      <td>Riket</td>\n",
       "      <td>Kommunal</td>\n",
       "      <td>84163</td>\n",
       "      <td>40386</td>\n",
       "      <td>43777</td>\n",
       "      <td>88.1</td>\n",
       "      <td>87.7</td>\n",
       "      <td>88.5</td>\n",
       "      <td>11.6</td>\n",
       "      <td>11.5</td>\n",
       "      <td>11.7</td>\n",
       "    </tr>\n",
       "    <tr>\n",
       "      <th>2</th>\n",
       "      <td>Riket</td>\n",
       "      <td>Enskild</td>\n",
       "      <td>22553</td>\n",
       "      <td>11137</td>\n",
       "      <td>11416</td>\n",
       "      <td>92.9</td>\n",
       "      <td>92.2</td>\n",
       "      <td>93.5</td>\n",
       "      <td>13.0</td>\n",
       "      <td>12.8</td>\n",
       "      <td>13.1</td>\n",
       "    </tr>\n",
       "    <tr>\n",
       "      <th>3</th>\n",
       "      <td>Riket</td>\n",
       "      <td>Skolverket</td>\n",
       "      <td>50</td>\n",
       "      <td>25</td>\n",
       "      <td>25</td>\n",
       "      <td>~100</td>\n",
       "      <td>~100</td>\n",
       "      <td>~100</td>\n",
       "      <td>14.1</td>\n",
       "      <td>13.5</td>\n",
       "      <td>14.7</td>\n",
       "    </tr>\n",
       "  </tbody>\n",
       "</table>\n",
       "</div>"
      ],
      "text/plain": [
       "      1           2       3      4      5     6     7     8     9     10    11\n",
       "0  Riket    Samtliga  106766  51548  55218  89.1  88.7  89.5  11.9  11.8  12.0\n",
       "1  Riket    Kommunal   84163  40386  43777  88.1  87.7  88.5  11.6  11.5  11.7\n",
       "2  Riket     Enskild   22553  11137  11416  92.9  92.2  93.5  13.0  12.8  13.1\n",
       "3  Riket  Skolverket      50     25     25  ~100  ~100  ~100  14.1  13.5  14.7"
      ]
     },
     "execution_count": 354,
     "metadata": {},
     "output_type": "execute_result"
    }
   ],
   "source": [
    "df_matematik.columns = [1,2,3,4,5,6,7,8,9,10,11]  # Ändrar kolumnerna till siffror pga multiple titles\n",
    "df_matematik.head()"
   ]
  },
  {
   "cell_type": "code",
   "execution_count": 355,
   "metadata": {},
   "outputs": [
    {
     "data": {
      "text/html": [
       "<div>\n",
       "<style scoped>\n",
       "    .dataframe tbody tr th:only-of-type {\n",
       "        vertical-align: middle;\n",
       "    }\n",
       "\n",
       "    .dataframe tbody tr th {\n",
       "        vertical-align: top;\n",
       "    }\n",
       "\n",
       "    .dataframe thead th {\n",
       "        text-align: right;\n",
       "    }\n",
       "</style>\n",
       "<table border=\"1\" class=\"dataframe\">\n",
       "  <thead>\n",
       "    <tr style=\"text-align: right;\">\n",
       "      <th></th>\n",
       "      <th>Riket</th>\n",
       "      <th>Huvudman</th>\n",
       "      <th>Totalt (A-F)</th>\n",
       "      <th>Flickor (A-F)</th>\n",
       "      <th>Pojkar (A-F)</th>\n",
       "      <th>Totalt (A-E)</th>\n",
       "      <th>Flickor (A-E)</th>\n",
       "      <th>Pojkar (A-E)</th>\n",
       "      <th>Totalt (Poäng)</th>\n",
       "      <th>Flickor (Poäng)</th>\n",
       "      <th>Pojkar (Poäng)</th>\n",
       "    </tr>\n",
       "  </thead>\n",
       "  <tbody>\n",
       "    <tr>\n",
       "      <th>0</th>\n",
       "      <td>Riket</td>\n",
       "      <td>Samtliga</td>\n",
       "      <td>106766</td>\n",
       "      <td>51548</td>\n",
       "      <td>55218</td>\n",
       "      <td>89.1</td>\n",
       "      <td>88.7</td>\n",
       "      <td>89.5</td>\n",
       "      <td>11.9</td>\n",
       "      <td>11.8</td>\n",
       "      <td>12.0</td>\n",
       "    </tr>\n",
       "    <tr>\n",
       "      <th>1</th>\n",
       "      <td>Riket</td>\n",
       "      <td>Kommunal</td>\n",
       "      <td>84163</td>\n",
       "      <td>40386</td>\n",
       "      <td>43777</td>\n",
       "      <td>88.1</td>\n",
       "      <td>87.7</td>\n",
       "      <td>88.5</td>\n",
       "      <td>11.6</td>\n",
       "      <td>11.5</td>\n",
       "      <td>11.7</td>\n",
       "    </tr>\n",
       "    <tr>\n",
       "      <th>2</th>\n",
       "      <td>Riket</td>\n",
       "      <td>Enskild</td>\n",
       "      <td>22553</td>\n",
       "      <td>11137</td>\n",
       "      <td>11416</td>\n",
       "      <td>92.9</td>\n",
       "      <td>92.2</td>\n",
       "      <td>93.5</td>\n",
       "      <td>13.0</td>\n",
       "      <td>12.8</td>\n",
       "      <td>13.1</td>\n",
       "    </tr>\n",
       "    <tr>\n",
       "      <th>3</th>\n",
       "      <td>Riket</td>\n",
       "      <td>Skolverket</td>\n",
       "      <td>50</td>\n",
       "      <td>25</td>\n",
       "      <td>25</td>\n",
       "      <td>~100</td>\n",
       "      <td>~100</td>\n",
       "      <td>~100</td>\n",
       "      <td>14.1</td>\n",
       "      <td>13.5</td>\n",
       "      <td>14.7</td>\n",
       "    </tr>\n",
       "  </tbody>\n",
       "</table>\n",
       "</div>"
      ],
      "text/plain": [
       "   Riket    Huvudman  Totalt (A-F)  Flickor (A-F)  Pojkar (A-F) Totalt (A-E)  \\\n",
       "0  Riket    Samtliga        106766          51548         55218         89.1   \n",
       "1  Riket    Kommunal         84163          40386         43777         88.1   \n",
       "2  Riket     Enskild         22553          11137         11416         92.9   \n",
       "3  Riket  Skolverket            50             25            25         ~100   \n",
       "\n",
       "  Flickor (A-E) Pojkar (A-E)  Totalt (Poäng)  Flickor (Poäng)  Pojkar (Poäng)  \n",
       "0          88.7         89.5            11.9             11.8            12.0  \n",
       "1          87.7         88.5            11.6             11.5            11.7  \n",
       "2          92.2         93.5            13.0             12.8            13.1  \n",
       "3          ~100         ~100            14.1             13.5            14.7  "
      ]
     },
     "execution_count": 355,
     "metadata": {},
     "output_type": "execute_result"
    }
   ],
   "source": [
    "df_matematik.columns = [\"Riket\", \"Huvudman\", \"Totalt (A-F)\", \"Flickor (A-F)\", \"Pojkar (A-F)\", \"Totalt (A-E)\", \"Flickor (A-E)\", \"Pojkar (A-E)\", \"Totalt (Poäng)\", \"Flickor (Poäng)\", \"Pojkar (Poäng)\"]\n",
    "df_matematik"
   ]
  },
  {
   "cell_type": "code",
   "execution_count": 356,
   "metadata": {},
   "outputs": [
    {
     "name": "stdout",
     "output_type": "stream",
     "text": [
      "<class 'pandas.core.frame.DataFrame'>\n",
      "RangeIndex: 4 entries, 0 to 3\n",
      "Data columns (total 11 columns):\n",
      " #   Column           Non-Null Count  Dtype  \n",
      "---  ------           --------------  -----  \n",
      " 0   Riket            4 non-null      object \n",
      " 1   Huvudman         4 non-null      object \n",
      " 2   Totalt (A-F)     4 non-null      int64  \n",
      " 3   Flickor (A-F)    4 non-null      int64  \n",
      " 4   Pojkar (A-F)     4 non-null      int64  \n",
      " 5   Totalt (A-E)     4 non-null      object \n",
      " 6   Flickor (A-E)    4 non-null      object \n",
      " 7   Pojkar (A-E)     4 non-null      object \n",
      " 8   Totalt (Poäng)   4 non-null      float64\n",
      " 9   Flickor (Poäng)  4 non-null      float64\n",
      " 10  Pojkar (Poäng)   4 non-null      float64\n",
      "dtypes: float64(3), int64(3), object(5)\n",
      "memory usage: 484.0+ bytes\n"
     ]
    }
   ],
   "source": [
    "df_matematik.info()"
   ]
  },
  {
   "cell_type": "markdown",
   "metadata": {},
   "source": [
    "### b) Ta reda på antalet som fått F i matematik totalt, pojkar respektive flickor."
   ]
  },
  {
   "cell_type": "code",
   "execution_count": 357,
   "metadata": {},
   "outputs": [
    {
     "name": "stdout",
     "output_type": "stream",
     "text": [
      "Total numbers of boys who recieved an F in mathematics at year 9 is: 5825\n",
      "Total numbers of boys who recieved an F in mathematics at year 9 is: 6350\n"
     ]
    }
   ],
   "source": [
    "total_number_girls = 51548 \n",
    "total_number_boys = 55218\n",
    "\n",
    "\n",
    "percentage_f_grade = 11.3/100\n",
    "boys_percentage_f_grade = 11.5/100  # gör om till decimal\n",
    "\n",
    "girls_with_f_grade = round(total_number_girls*percentage_f_grade) #beräknar mängden tjejer som fick f\n",
    "boys_with_f_grade = round(total_number_boys*boys_percentage_f_grade) #beräknar mängden killar som fick f\n",
    "\n",
    "print(\"Total numbers of boys who recieved an F in mathematics at year 9 is:\", girls_with_f_grade)\n",
    "print(\"Total numbers of boys who recieved an F in mathematics at year 9 is:\", boys_with_f_grade)"
   ]
  },
  {
   "cell_type": "markdown",
   "metadata": {},
   "source": [
    "### c) Rita ett stapeldiagram på totala poängen för de olika ämnena"
   ]
  },
  {
   "cell_type": "code",
   "execution_count": 358,
   "metadata": {},
   "outputs": [
    {
     "data": {
      "text/plain": [
       "{0:    Riket Typ av huvudman  Totalt  Flickor  Pojkar  Totalt   Flickor   Pojkar   \\\n",
       " 0  Riket        Samtliga  106941    51864   55077     97.0      97.1     97.0   \n",
       " 1  Riket        Kommunal   84310    40675   43635     96.6      96.6     96.6   \n",
       " 2  Riket         Enskild   22582    11165   11417     98.7      98.8     98.7   \n",
       " 3  Riket      Skolverket      49       24      25    100.0     100.0    100.0   \n",
       " \n",
       "    Totalt    Flickor    Pojkar    \n",
       " 0      15.7       15.8      15.7  \n",
       " 1      15.4       15.5      15.4  \n",
       " 2      16.9       17.0      16.8  \n",
       " 3      18.5       18.9      18.2  ,\n",
       " 1:    Riket Typ av huvudman  Totalt  Flickor  Pojkar Totalt  Flickor  Pojkar   \\\n",
       " 0  Riket        Samtliga  106766    51548   55218    89.1     88.7    89.5   \n",
       " 1  Riket        Kommunal   84163    40386   43777    88.1     87.7    88.5   \n",
       " 2  Riket         Enskild   22553    11137   11416    92.9     92.2    93.5   \n",
       " 3  Riket      Skolverket      50       25      25    ~100     ~100    ~100   \n",
       " \n",
       "    Totalt    Flickor    Pojkar    \n",
       " 0      11.9       11.8      12.0  \n",
       " 1      11.6       11.5      11.7  \n",
       " 2      13.0       12.8      13.1  \n",
       " 3      14.1       13.5      14.7  ,\n",
       " 2:    Riket Typ av huvudman  Totalt  Flickor  Pojkar  Totalt   Flickor   Pojkar   \\\n",
       " 0  Riket        Samtliga   93225    45800   47425     96.1      97.9     94.4   \n",
       " 1  Riket        Kommunal   72771    35484   37287     95.7      97.6     93.8   \n",
       " 2  Riket         Enskild   20414    10297   10117     97.6      98.7     96.6   \n",
       " 3  Riket      Skolverket      40       19      21    100.0     100.0    100.0   \n",
       " \n",
       "    Totalt    Flickor    Pojkar    \n",
       " 0      13.6       14.5      12.7  \n",
       " 1      13.3       14.3      12.4  \n",
       " 2      14.4       15.2      13.5  \n",
       " 3      15.0       15.9      14.2  ,\n",
       " 3:    Riket Typ av huvudman Totalt Flickor Pojkar Totalt  Flickor  Pojkar   \\\n",
       " 0  Riket        Samtliga  14092    6447   7645    77.7     81.6    74.3   \n",
       " 1  Riket        Kommunal  11963    5495   6468    75.9       80    72.4   \n",
       " 2  Riket         Enskild   2122     949   1173    87.7     90.9    85.2   \n",
       " 3  Riket      Skolverket     ..      ..     ..      ..       ..      ..   \n",
       " \n",
       "   Totalt   Flickor   Pojkar    \n",
       " 0      9.4      10.2      8.7  \n",
       " 1        9       9.9      8.3  \n",
       " 2     11.1        12     10.4  \n",
       " 3       ..        ..       ..  }"
      ]
     },
     "execution_count": 358,
     "metadata": {},
     "output_type": "execute_result"
    }
   ],
   "source": [
    "df_subjects"
   ]
  },
  {
   "cell_type": "code",
   "execution_count": 359,
   "metadata": {},
   "outputs": [
    {
     "data": {
      "text/html": [
       "<div>\n",
       "<style scoped>\n",
       "    .dataframe tbody tr th:only-of-type {\n",
       "        vertical-align: middle;\n",
       "    }\n",
       "\n",
       "    .dataframe tbody tr th {\n",
       "        vertical-align: top;\n",
       "    }\n",
       "\n",
       "    .dataframe thead th {\n",
       "        text-align: right;\n",
       "    }\n",
       "</style>\n",
       "<table border=\"1\" class=\"dataframe\">\n",
       "  <thead>\n",
       "    <tr style=\"text-align: right;\">\n",
       "      <th></th>\n",
       "      <th>Riket</th>\n",
       "      <th>Huvudman</th>\n",
       "      <th>Totalt (A-F)</th>\n",
       "      <th>Flickor (A-F)</th>\n",
       "      <th>Pojkar (A-F)</th>\n",
       "      <th>Totalt (A-E)</th>\n",
       "      <th>Flickor (A-E)</th>\n",
       "      <th>Pojkar (A-E)</th>\n",
       "      <th>Totalt (Poäng)</th>\n",
       "      <th>Flickor (Poäng)</th>\n",
       "      <th>Pojkar (Poäng)</th>\n",
       "    </tr>\n",
       "  </thead>\n",
       "  <tbody>\n",
       "    <tr>\n",
       "      <th>0</th>\n",
       "      <td>Riket</td>\n",
       "      <td>Samtliga</td>\n",
       "      <td>106766</td>\n",
       "      <td>51548</td>\n",
       "      <td>55218</td>\n",
       "      <td>89.1</td>\n",
       "      <td>88.7</td>\n",
       "      <td>89.5</td>\n",
       "      <td>11.9</td>\n",
       "      <td>11.8</td>\n",
       "      <td>12.0</td>\n",
       "    </tr>\n",
       "    <tr>\n",
       "      <th>1</th>\n",
       "      <td>Riket</td>\n",
       "      <td>Kommunal</td>\n",
       "      <td>84163</td>\n",
       "      <td>40386</td>\n",
       "      <td>43777</td>\n",
       "      <td>88.1</td>\n",
       "      <td>87.7</td>\n",
       "      <td>88.5</td>\n",
       "      <td>11.6</td>\n",
       "      <td>11.5</td>\n",
       "      <td>11.7</td>\n",
       "    </tr>\n",
       "    <tr>\n",
       "      <th>2</th>\n",
       "      <td>Riket</td>\n",
       "      <td>Enskild</td>\n",
       "      <td>22553</td>\n",
       "      <td>11137</td>\n",
       "      <td>11416</td>\n",
       "      <td>92.9</td>\n",
       "      <td>92.2</td>\n",
       "      <td>93.5</td>\n",
       "      <td>13.0</td>\n",
       "      <td>12.8</td>\n",
       "      <td>13.1</td>\n",
       "    </tr>\n",
       "    <tr>\n",
       "      <th>3</th>\n",
       "      <td>Riket</td>\n",
       "      <td>Skolverket</td>\n",
       "      <td>50</td>\n",
       "      <td>25</td>\n",
       "      <td>25</td>\n",
       "      <td>~100</td>\n",
       "      <td>~100</td>\n",
       "      <td>~100</td>\n",
       "      <td>14.1</td>\n",
       "      <td>13.5</td>\n",
       "      <td>14.7</td>\n",
       "    </tr>\n",
       "  </tbody>\n",
       "</table>\n",
       "</div>"
      ],
      "text/plain": [
       "   Riket    Huvudman  Totalt (A-F)  Flickor (A-F)  Pojkar (A-F) Totalt (A-E)  \\\n",
       "0  Riket    Samtliga        106766          51548         55218         89.1   \n",
       "1  Riket    Kommunal         84163          40386         43777         88.1   \n",
       "2  Riket     Enskild         22553          11137         11416         92.9   \n",
       "3  Riket  Skolverket            50             25            25         ~100   \n",
       "\n",
       "  Flickor (A-E) Pojkar (A-E)  Totalt (Poäng)  Flickor (Poäng)  Pojkar (Poäng)  \n",
       "0          88.7         89.5            11.9             11.8            12.0  \n",
       "1          87.7         88.5            11.6             11.5            11.7  \n",
       "2          92.2         93.5            13.0             12.8            13.1  \n",
       "3          ~100         ~100            14.1             13.5            14.7  "
      ]
     },
     "execution_count": 359,
     "metadata": {},
     "output_type": "execute_result"
    }
   ],
   "source": [
    "\n",
    "for key in df_subjects:\n",
    "    df_subjects[key].columns = [\n",
    "         \"Riket\",\n",
    "         \"Huvudman\",\n",
    "         \"Totalt (A-F)\",\n",
    "         \"Flickor (A-F)\",\n",
    "         \"Pojkar (A-F)\",\n",
    "         \"Totalt (A-E)\",\n",
    "         \"Flickor (A-E)\",\n",
    "         \"Pojkar (A-E)\",\n",
    "         \"Totalt (Poäng)\",\n",
    "         \"Flickor (Poäng)\",\n",
    "         \"Pojkar (Poäng)\",\n",
    "    ]\n",
    "   \n",
    "\n",
    "df_subjects[1].head()\n",
    "\n",
    "\n"
   ]
  },
  {
   "cell_type": "code",
   "execution_count": 360,
   "metadata": {},
   "outputs": [
    {
     "data": {
      "text/plain": [
       "11.9"
      ]
     },
     "execution_count": 360,
     "metadata": {},
     "output_type": "execute_result"
    }
   ],
   "source": [
    "df_subjects[1][\"Totalt (Poäng)\"][0] # samtliga. gör detta för alla. lägg i lista.. plota listan "
   ]
  },
  {
   "cell_type": "code",
   "execution_count": 361,
   "metadata": {},
   "outputs": [
    {
     "data": {
      "text/plain": [
       "{0:    Riket    Huvudman  Totalt (A-F)  Flickor (A-F)  Pojkar (A-F)  Totalt (A-E)  \\\n",
       " 0  Riket    Samtliga        106941          51864         55077          97.0   \n",
       " 1  Riket    Kommunal         84310          40675         43635          96.6   \n",
       " 2  Riket     Enskild         22582          11165         11417          98.7   \n",
       " 3  Riket  Skolverket            49             24            25         100.0   \n",
       " \n",
       "    Flickor (A-E)  Pojkar (A-E)  Totalt (Poäng)  Flickor (Poäng)  \\\n",
       " 0           97.1          97.0            15.7             15.8   \n",
       " 1           96.6          96.6            15.4             15.5   \n",
       " 2           98.8          98.7            16.9             17.0   \n",
       " 3          100.0         100.0            18.5             18.9   \n",
       " \n",
       "    Pojkar (Poäng)  \n",
       " 0            15.7  \n",
       " 1            15.4  \n",
       " 2            16.8  \n",
       " 3            18.2  ,\n",
       " 1:    Riket    Huvudman  Totalt (A-F)  Flickor (A-F)  Pojkar (A-F) Totalt (A-E)  \\\n",
       " 0  Riket    Samtliga        106766          51548         55218         89.1   \n",
       " 1  Riket    Kommunal         84163          40386         43777         88.1   \n",
       " 2  Riket     Enskild         22553          11137         11416         92.9   \n",
       " 3  Riket  Skolverket            50             25            25         ~100   \n",
       " \n",
       "   Flickor (A-E) Pojkar (A-E)  Totalt (Poäng)  Flickor (Poäng)  Pojkar (Poäng)  \n",
       " 0          88.7         89.5            11.9             11.8            12.0  \n",
       " 1          87.7         88.5            11.6             11.5            11.7  \n",
       " 2          92.2         93.5            13.0             12.8            13.1  \n",
       " 3          ~100         ~100            14.1             13.5            14.7  ,\n",
       " 2:    Riket    Huvudman  Totalt (A-F)  Flickor (A-F)  Pojkar (A-F)  Totalt (A-E)  \\\n",
       " 0  Riket    Samtliga         93225          45800         47425          96.1   \n",
       " 1  Riket    Kommunal         72771          35484         37287          95.7   \n",
       " 2  Riket     Enskild         20414          10297         10117          97.6   \n",
       " 3  Riket  Skolverket            40             19            21         100.0   \n",
       " \n",
       "    Flickor (A-E)  Pojkar (A-E)  Totalt (Poäng)  Flickor (Poäng)  \\\n",
       " 0           97.9          94.4            13.6             14.5   \n",
       " 1           97.6          93.8            13.3             14.3   \n",
       " 2           98.7          96.6            14.4             15.2   \n",
       " 3          100.0         100.0            15.0             15.9   \n",
       " \n",
       "    Pojkar (Poäng)  \n",
       " 0            12.7  \n",
       " 1            12.4  \n",
       " 2            13.5  \n",
       " 3            14.2  ,\n",
       " 3:    Riket    Huvudman Totalt (A-F) Flickor (A-F) Pojkar (A-F) Totalt (A-E)  \\\n",
       " 0  Riket    Samtliga        14092          6447         7645         77.7   \n",
       " 1  Riket    Kommunal        11963          5495         6468         75.9   \n",
       " 2  Riket     Enskild         2122           949         1173         87.7   \n",
       " 3  Riket  Skolverket           ..            ..           ..           ..   \n",
       " \n",
       "   Flickor (A-E) Pojkar (A-E) Totalt (Poäng) Flickor (Poäng) Pojkar (Poäng)  \n",
       " 0          81.6         74.3            9.4            10.2            8.7  \n",
       " 1            80         72.4              9             9.9            8.3  \n",
       " 2          90.9         85.2           11.1              12           10.4  \n",
       " 3            ..           ..             ..              ..             ..  }"
      ]
     },
     "execution_count": 361,
     "metadata": {},
     "output_type": "execute_result"
    }
   ],
   "source": [
    "df_subjects"
   ]
  },
  {
   "cell_type": "code",
   "execution_count": 362,
   "metadata": {},
   "outputs": [
    {
     "data": {
      "text/plain": [
       "3"
      ]
     },
     "execution_count": 362,
     "metadata": {},
     "output_type": "execute_result"
    }
   ],
   "source": [
    "key"
   ]
  },
  {
   "cell_type": "code",
   "execution_count": 363,
   "metadata": {},
   "outputs": [
    {
     "name": "stdout",
     "output_type": "stream",
     "text": [
      "15.7\n",
      "11.9\n",
      "13.6\n",
      "9.4\n"
     ]
    }
   ],
   "source": [
    "for key in df_subjects:\n",
    "    print(df_subjects[key][\"Totalt (Poäng)\"][0]) \n"
   ]
  },
  {
   "cell_type": "code",
   "execution_count": 364,
   "metadata": {},
   "outputs": [
    {
     "data": {
      "text/plain": [
       "[15.7, 11.9, 13.6, 9.4]"
      ]
     },
     "execution_count": 364,
     "metadata": {},
     "output_type": "execute_result"
    }
   ],
   "source": [
    "total_point= [df_subjects[key][\"Totalt (Poäng)\"][0] for key in df_subjects] #list comprehenssion\n",
    "total_point"
   ]
  },
  {
   "cell_type": "code",
   "execution_count": 365,
   "metadata": {},
   "outputs": [
    {
     "data": {
      "image/png": "[encoded data removed]",
      "text/plain": [
       "<Figure size 640x480 with 1 Axes>"
      ]
     },
     "metadata": {},
     "output_type": "display_data"
    }
   ],
   "source": [
    "colors = [\"red\", \"green\", \"orange\", \"blue\"] # sätterfärger på pelarna\n",
    "subject_names = [\"engelska\", \"matematik\", \"svenska\", \"svenska som andra språk \"] #försök till att sätta rätt ämne till pelaren \n",
    "# pd.Series(total_point).plot(kind=\"bar\", x=\"\", y=\"\", xlabel= \"subject\", ylabel=\"Points\", color=colors)\n",
    "plt.bar(subject_names, total_point, color=colors,)\n",
    "plt.xlabel(\"Subject\")\n",
    "plt.ylabel(\"Points\")\n",
    "plt.title(\"Total Points for Each Subject\")\n",
    "plt.show()"
   ]
  },
  {
   "cell_type": "code",
   "execution_count": 366,
   "metadata": {},
   "outputs": [
    {
     "data": {
      "text/html": [
       "<div>\n",
       "<style scoped>\n",
       "    .dataframe tbody tr th:only-of-type {\n",
       "        vertical-align: middle;\n",
       "    }\n",
       "\n",
       "    .dataframe tbody tr th {\n",
       "        vertical-align: top;\n",
       "    }\n",
       "\n",
       "    .dataframe thead th {\n",
       "        text-align: right;\n",
       "    }\n",
       "</style>\n",
       "<table border=\"1\" class=\"dataframe\">\n",
       "  <thead>\n",
       "    <tr style=\"text-align: right;\">\n",
       "      <th></th>\n",
       "      <th>Riket</th>\n",
       "      <th>Huvudman</th>\n",
       "      <th>Totalt (A-F)</th>\n",
       "      <th>Flickor (A-F)</th>\n",
       "      <th>Pojkar (A-F)</th>\n",
       "      <th>Totalt (A-E)</th>\n",
       "      <th>Flickor (A-E)</th>\n",
       "      <th>Pojkar (A-E)</th>\n",
       "      <th>Totalt (Poäng)</th>\n",
       "      <th>Flickor (Poäng)</th>\n",
       "      <th>Pojkar (Poäng)</th>\n",
       "    </tr>\n",
       "  </thead>\n",
       "  <tbody>\n",
       "    <tr>\n",
       "      <th>0</th>\n",
       "      <td>Riket</td>\n",
       "      <td>Samtliga</td>\n",
       "      <td>93225</td>\n",
       "      <td>45800</td>\n",
       "      <td>47425</td>\n",
       "      <td>96.1</td>\n",
       "      <td>97.9</td>\n",
       "      <td>94.4</td>\n",
       "      <td>13.6</td>\n",
       "      <td>14.5</td>\n",
       "      <td>12.7</td>\n",
       "    </tr>\n",
       "    <tr>\n",
       "      <th>1</th>\n",
       "      <td>Riket</td>\n",
       "      <td>Kommunal</td>\n",
       "      <td>72771</td>\n",
       "      <td>35484</td>\n",
       "      <td>37287</td>\n",
       "      <td>95.7</td>\n",
       "      <td>97.6</td>\n",
       "      <td>93.8</td>\n",
       "      <td>13.3</td>\n",
       "      <td>14.3</td>\n",
       "      <td>12.4</td>\n",
       "    </tr>\n",
       "    <tr>\n",
       "      <th>2</th>\n",
       "      <td>Riket</td>\n",
       "      <td>Enskild</td>\n",
       "      <td>20414</td>\n",
       "      <td>10297</td>\n",
       "      <td>10117</td>\n",
       "      <td>97.6</td>\n",
       "      <td>98.7</td>\n",
       "      <td>96.6</td>\n",
       "      <td>14.4</td>\n",
       "      <td>15.2</td>\n",
       "      <td>13.5</td>\n",
       "    </tr>\n",
       "    <tr>\n",
       "      <th>3</th>\n",
       "      <td>Riket</td>\n",
       "      <td>Skolverket</td>\n",
       "      <td>40</td>\n",
       "      <td>19</td>\n",
       "      <td>21</td>\n",
       "      <td>100.0</td>\n",
       "      <td>100.0</td>\n",
       "      <td>100.0</td>\n",
       "      <td>15.0</td>\n",
       "      <td>15.9</td>\n",
       "      <td>14.2</td>\n",
       "    </tr>\n",
       "  </tbody>\n",
       "</table>\n",
       "</div>"
      ],
      "text/plain": [
       "   Riket    Huvudman  Totalt (A-F)  Flickor (A-F)  Pojkar (A-F)  Totalt (A-E)  \\\n",
       "0  Riket    Samtliga         93225          45800         47425          96.1   \n",
       "1  Riket    Kommunal         72771          35484         37287          95.7   \n",
       "2  Riket     Enskild         20414          10297         10117          97.6   \n",
       "3  Riket  Skolverket            40             19            21         100.0   \n",
       "\n",
       "   Flickor (A-E)  Pojkar (A-E)  Totalt (Poäng)  Flickor (Poäng)  \\\n",
       "0           97.9          94.4            13.6             14.5   \n",
       "1           97.6          93.8            13.3             14.3   \n",
       "2           98.7          96.6            14.4             15.2   \n",
       "3          100.0         100.0            15.0             15.9   \n",
       "\n",
       "   Pojkar (Poäng)  \n",
       "0            12.7  \n",
       "1            12.4  \n",
       "2            13.5  \n",
       "3            14.2  "
      ]
     },
     "execution_count": 366,
     "metadata": {},
     "output_type": "execute_result"
    }
   ],
   "source": [
    "df_subjects[2]"
   ]
  },
  {
   "cell_type": "markdown",
   "metadata": {},
   "source": [
    "### Tar ut Df 1 by 1 total poäng för kolumnerna samtliga, kommunal, enskild & skolverket"
   ]
  },
  {
   "cell_type": "markdown",
   "metadata": {},
   "source": [
    "# Samtliga\n"
   ]
  },
  {
   "cell_type": "code",
   "execution_count": 367,
   "metadata": {},
   "outputs": [
    {
     "data": {
      "text/plain": [
       "[9.4]"
      ]
     },
     "execution_count": 367,
     "metadata": {},
     "output_type": "execute_result"
    }
   ],
   "source": [
    "\n",
    "total_poäng = [\n",
    "\n",
    "]\n",
    "total_point = df_subjects[i][df_subjects[i][\"Huvudman\"] == \"Samtliga\"][\"Totalt (Poäng)\"].values[0] #mask \n",
    "total_poäng.append(total_point)\n",
    "total_poäng"
   ]
  },
  {
   "cell_type": "markdown",
   "metadata": {},
   "source": [
    "# samtliga"
   ]
  },
  {
   "cell_type": "code",
   "execution_count": 368,
   "metadata": {},
   "outputs": [
    {
     "name": "stdout",
     "output_type": "stream",
     "text": [
      "[15.7]\n",
      "[15.7, 11.9]\n",
      "[15.7, 11.9, 13.6]\n",
      "[15.7, 11.9, 13.6, 9.4]\n"
     ]
    }
   ],
   "source": [
    "total_poäng_0 = [\n",
    "\n",
    "]\n",
    "for i in range(4):\n",
    "    total_point = df_subjects[i][df_subjects[i][\"Huvudman\"] == \"Samtliga\"][\"Totalt (Poäng)\"].values[0] # boolean mask \n",
    "    total_poäng_0.append(total_point)\n",
    "    print(total_poäng_0)\n",
    "    "
   ]
  },
  {
   "cell_type": "markdown",
   "metadata": {},
   "source": [
    "# kommunal"
   ]
  },
  {
   "cell_type": "code",
   "execution_count": 369,
   "metadata": {},
   "outputs": [
    {
     "name": "stdout",
     "output_type": "stream",
     "text": [
      "[15.4]\n",
      "[15.4, 11.6]\n",
      "[15.4, 11.6, 13.3]\n",
      "[15.4, 11.6, 13.3, 9]\n"
     ]
    }
   ],
   "source": [
    "total_poäng_1 = [\n",
    "    \n",
    "]\n",
    "\n",
    "for i in range (4):\n",
    "    total_point = df_subjects[i][df_subjects[i][\"Huvudman\"]== \"Kommunal\"][\"Totalt (Poäng)\"].values[0]\n",
    "    total_poäng_1.append(total_point)\n",
    "    print(total_poäng_1)"
   ]
  },
  {
   "cell_type": "markdown",
   "metadata": {},
   "source": [
    "# enskild"
   ]
  },
  {
   "cell_type": "code",
   "execution_count": 370,
   "metadata": {},
   "outputs": [
    {
     "name": "stdout",
     "output_type": "stream",
     "text": [
      "[16.9]\n",
      "[16.9, 13.0]\n",
      "[16.9, 13.0, 14.4]\n",
      "[16.9, 13.0, 14.4, 11.1]\n"
     ]
    }
   ],
   "source": [
    "total_poäng_2 = [\n",
    "\n",
    "]\n",
    "\n",
    "for i in range (4):\n",
    "    total_point = df_subjects[i][df_subjects[i][\"Huvudman\"] == \"Enskild\"][\"Totalt (Poäng)\"].values[0]\n",
    "    total_poäng_2.append(total_point)\n",
    "    print(total_poäng_2)"
   ]
  },
  {
   "cell_type": "markdown",
   "metadata": {},
   "source": [
    "# skolverket"
   ]
  },
  {
   "cell_type": "code",
   "execution_count": 371,
   "metadata": {},
   "outputs": [
    {
     "name": "stdout",
     "output_type": "stream",
     "text": [
      "[18.5]\n",
      "[18.5, 14.1]\n",
      "[18.5, 14.1, 15.0]\n",
      "[18.5, 14.1, 15.0, '..']\n"
     ]
    }
   ],
   "source": [
    "total_poäng_3 = [\n",
    "\n",
    "]\n",
    "\n",
    "for i in range(4):\n",
    "    total_point = df_subjects[i][df_subjects[i][\"Huvudman\"] == \"Skolverket\"][\"Totalt (Poäng)\"].values[0]\n",
    "    total_poäng_3.append(total_point)\n",
    "    print(total_poäng_3)"
   ]
  },
  {
   "cell_type": "markdown",
   "metadata": {},
   "source": [
    "d) Rita fyra olika stapeldiagram i subplots på totala poängen för de olika ämnena för de olika huvudmännen."
   ]
  },
  {
   "cell_type": "code",
   "execution_count": 373,
   "metadata": {},
   "outputs": [
    {
     "ename": "UFuncTypeError",
     "evalue": "ufunc 'add' did not contain a loop with signature matching types (dtype('int32'), dtype('<U4')) -> None",
     "output_type": "error",
     "traceback": [
      "\u001b[1;31m---------------------------------------------------------------------------\u001b[0m",
      "\u001b[1;31mUFuncTypeError\u001b[0m                            Traceback (most recent call last)",
      "Cell \u001b[1;32mIn[373], line 15\u001b[0m\n\u001b[0;32m     13\u001b[0m axes[\u001b[38;5;241m0\u001b[39m,\u001b[38;5;241m1\u001b[39m]\u001b[38;5;241m.\u001b[39mbar(x \u001b[38;5;241m=\u001b[39m subject_names, height \u001b[38;5;241m=\u001b[39m total_poäng_1)\n\u001b[0;32m     14\u001b[0m axes[\u001b[38;5;241m1\u001b[39m,\u001b[38;5;241m0\u001b[39m]\u001b[38;5;241m.\u001b[39mbar(x \u001b[38;5;241m=\u001b[39m subject_names, height \u001b[38;5;241m=\u001b[39m total_poäng_2)\n\u001b[1;32m---> 15\u001b[0m \u001b[43maxes\u001b[49m\u001b[43m[\u001b[49m\u001b[38;5;241;43m1\u001b[39;49m\u001b[43m,\u001b[49m\u001b[38;5;241;43m1\u001b[39;49m\u001b[43m]\u001b[49m\u001b[38;5;241;43m.\u001b[39;49m\u001b[43mbar\u001b[49m\u001b[43m(\u001b[49m\u001b[43mx\u001b[49m\u001b[43m \u001b[49m\u001b[38;5;241;43m=\u001b[39;49m\u001b[43m \u001b[49m\u001b[43msubject_names\u001b[49m\u001b[43m,\u001b[49m\u001b[43m \u001b[49m\u001b[43mheight\u001b[49m\u001b[43m \u001b[49m\u001b[38;5;241;43m=\u001b[39;49m\u001b[43m \u001b[49m\u001b[43mtotal_poäng_3\u001b[49m\u001b[43m)\u001b[49m\n\u001b[0;32m     17\u001b[0m axes[\u001b[38;5;241m0\u001b[39m,\u001b[38;5;241m0\u001b[39m]\u001b[38;5;241m.\u001b[39mset_title(\u001b[38;5;124m\"\u001b[39m\u001b[38;5;124msamtliga\u001b[39m\u001b[38;5;124m\"\u001b[39m,fontsize \u001b[38;5;241m=\u001b[39m \u001b[38;5;241m10\u001b[39m)\n\u001b[0;32m     18\u001b[0m axes[\u001b[38;5;241m0\u001b[39m,\u001b[38;5;241m1\u001b[39m]\u001b[38;5;241m.\u001b[39mset_title(\u001b[38;5;124m\"\u001b[39m\u001b[38;5;124mKommunal\u001b[39m\u001b[38;5;124m\"\u001b[39m,fontsize \u001b[38;5;241m=\u001b[39m \u001b[38;5;241m10\u001b[39m)\n",
      "File \u001b[1;32mc:\\CODING\\Github\\Python-Sandra-Nilsson-OPA23\\venv\\Lib\\site-packages\\matplotlib\\__init__.py:1478\u001b[0m, in \u001b[0;36m_preprocess_data.<locals>.inner\u001b[1;34m(ax, data, *args, **kwargs)\u001b[0m\n\u001b[0;32m   1475\u001b[0m \u001b[38;5;129m@functools\u001b[39m\u001b[38;5;241m.\u001b[39mwraps(func)\n\u001b[0;32m   1476\u001b[0m \u001b[38;5;28;01mdef\u001b[39;00m \u001b[38;5;21minner\u001b[39m(ax, \u001b[38;5;241m*\u001b[39margs, data\u001b[38;5;241m=\u001b[39m\u001b[38;5;28;01mNone\u001b[39;00m, \u001b[38;5;241m*\u001b[39m\u001b[38;5;241m*\u001b[39mkwargs):\n\u001b[0;32m   1477\u001b[0m     \u001b[38;5;28;01mif\u001b[39;00m data \u001b[38;5;129;01mis\u001b[39;00m \u001b[38;5;28;01mNone\u001b[39;00m:\n\u001b[1;32m-> 1478\u001b[0m         \u001b[38;5;28;01mreturn\u001b[39;00m \u001b[43mfunc\u001b[49m\u001b[43m(\u001b[49m\u001b[43max\u001b[49m\u001b[43m,\u001b[49m\u001b[43m \u001b[49m\u001b[38;5;241;43m*\u001b[39;49m\u001b[38;5;28;43mmap\u001b[39;49m\u001b[43m(\u001b[49m\u001b[43msanitize_sequence\u001b[49m\u001b[43m,\u001b[49m\u001b[43m \u001b[49m\u001b[43margs\u001b[49m\u001b[43m)\u001b[49m\u001b[43m,\u001b[49m\u001b[43m \u001b[49m\u001b[38;5;241;43m*\u001b[39;49m\u001b[38;5;241;43m*\u001b[39;49m\u001b[43mkwargs\u001b[49m\u001b[43m)\u001b[49m\n\u001b[0;32m   1480\u001b[0m     bound \u001b[38;5;241m=\u001b[39m new_sig\u001b[38;5;241m.\u001b[39mbind(ax, \u001b[38;5;241m*\u001b[39margs, \u001b[38;5;241m*\u001b[39m\u001b[38;5;241m*\u001b[39mkwargs)\n\u001b[0;32m   1481\u001b[0m     auto_label \u001b[38;5;241m=\u001b[39m (bound\u001b[38;5;241m.\u001b[39marguments\u001b[38;5;241m.\u001b[39mget(label_namer)\n\u001b[0;32m   1482\u001b[0m                   \u001b[38;5;129;01mor\u001b[39;00m bound\u001b[38;5;241m.\u001b[39mkwargs\u001b[38;5;241m.\u001b[39mget(label_namer))\n",
      "File \u001b[1;32mc:\\CODING\\Github\\Python-Sandra-Nilsson-OPA23\\venv\\Lib\\site-packages\\matplotlib\\axes\\_axes.py:2520\u001b[0m, in \u001b[0;36mAxes.bar\u001b[1;34m(self, x, height, width, bottom, align, **kwargs)\u001b[0m\n\u001b[0;32m   2517\u001b[0m args \u001b[38;5;241m=\u001b[39m \u001b[38;5;28mzip\u001b[39m(left, bottom, width, height, color, edgecolor, linewidth,\n\u001b[0;32m   2518\u001b[0m            hatch, patch_labels)\n\u001b[0;32m   2519\u001b[0m \u001b[38;5;28;01mfor\u001b[39;00m l, b, w, h, c, e, lw, htch, lbl \u001b[38;5;129;01min\u001b[39;00m args:\n\u001b[1;32m-> 2520\u001b[0m     r \u001b[38;5;241m=\u001b[39m \u001b[43mmpatches\u001b[49m\u001b[38;5;241;43m.\u001b[39;49m\u001b[43mRectangle\u001b[49m\u001b[43m(\u001b[49m\n\u001b[0;32m   2521\u001b[0m \u001b[43m        \u001b[49m\u001b[43mxy\u001b[49m\u001b[38;5;241;43m=\u001b[39;49m\u001b[43m(\u001b[49m\u001b[43ml\u001b[49m\u001b[43m,\u001b[49m\u001b[43m \u001b[49m\u001b[43mb\u001b[49m\u001b[43m)\u001b[49m\u001b[43m,\u001b[49m\u001b[43m \u001b[49m\u001b[43mwidth\u001b[49m\u001b[38;5;241;43m=\u001b[39;49m\u001b[43mw\u001b[49m\u001b[43m,\u001b[49m\u001b[43m \u001b[49m\u001b[43mheight\u001b[49m\u001b[38;5;241;43m=\u001b[39;49m\u001b[43mh\u001b[49m\u001b[43m,\u001b[49m\n\u001b[0;32m   2522\u001b[0m \u001b[43m        \u001b[49m\u001b[43mfacecolor\u001b[49m\u001b[38;5;241;43m=\u001b[39;49m\u001b[43mc\u001b[49m\u001b[43m,\u001b[49m\n\u001b[0;32m   2523\u001b[0m \u001b[43m        \u001b[49m\u001b[43medgecolor\u001b[49m\u001b[38;5;241;43m=\u001b[39;49m\u001b[43me\u001b[49m\u001b[43m,\u001b[49m\n\u001b[0;32m   2524\u001b[0m \u001b[43m        \u001b[49m\u001b[43mlinewidth\u001b[49m\u001b[38;5;241;43m=\u001b[39;49m\u001b[43mlw\u001b[49m\u001b[43m,\u001b[49m\n\u001b[0;32m   2525\u001b[0m \u001b[43m        \u001b[49m\u001b[43mlabel\u001b[49m\u001b[38;5;241;43m=\u001b[39;49m\u001b[43mlbl\u001b[49m\u001b[43m,\u001b[49m\n\u001b[0;32m   2526\u001b[0m \u001b[43m        \u001b[49m\u001b[43mhatch\u001b[49m\u001b[38;5;241;43m=\u001b[39;49m\u001b[43mhtch\u001b[49m\u001b[43m,\u001b[49m\n\u001b[0;32m   2527\u001b[0m \u001b[43m        \u001b[49m\u001b[43m)\u001b[49m\n\u001b[0;32m   2528\u001b[0m     r\u001b[38;5;241m.\u001b[39m_internal_update(kwargs)\n\u001b[0;32m   2529\u001b[0m     r\u001b[38;5;241m.\u001b[39mget_path()\u001b[38;5;241m.\u001b[39m_interpolation_steps \u001b[38;5;241m=\u001b[39m \u001b[38;5;241m100\u001b[39m\n",
      "File \u001b[1;32mc:\\CODING\\Github\\Python-Sandra-Nilsson-OPA23\\venv\\Lib\\site-packages\\matplotlib\\patches.py:732\u001b[0m, in \u001b[0;36mRectangle.__init__\u001b[1;34m(self, xy, width, height, angle, rotation_point, **kwargs)\u001b[0m\n\u001b[0;32m    725\u001b[0m \u001b[38;5;66;03m# Required for RectangleSelector with axes aspect ratio != 1\u001b[39;00m\n\u001b[0;32m    726\u001b[0m \u001b[38;5;66;03m# The patch is defined in data coordinates and when changing the\u001b[39;00m\n\u001b[0;32m    727\u001b[0m \u001b[38;5;66;03m# selector with square modifier and not in data coordinates, we need\u001b[39;00m\n\u001b[0;32m    728\u001b[0m \u001b[38;5;66;03m# to correct for the aspect ratio difference between the data and\u001b[39;00m\n\u001b[0;32m    729\u001b[0m \u001b[38;5;66;03m# display coordinate systems. Its value is typically provide by\u001b[39;00m\n\u001b[0;32m    730\u001b[0m \u001b[38;5;66;03m# Axes._get_aspect_ratio()\u001b[39;00m\n\u001b[0;32m    731\u001b[0m \u001b[38;5;28mself\u001b[39m\u001b[38;5;241m.\u001b[39m_aspect_ratio_correction \u001b[38;5;241m=\u001b[39m \u001b[38;5;241m1.0\u001b[39m\n\u001b[1;32m--> 732\u001b[0m \u001b[38;5;28;43mself\u001b[39;49m\u001b[38;5;241;43m.\u001b[39;49m\u001b[43m_convert_units\u001b[49m\u001b[43m(\u001b[49m\u001b[43m)\u001b[49m\n",
      "File \u001b[1;32mc:\\CODING\\Github\\Python-Sandra-Nilsson-OPA23\\venv\\Lib\\site-packages\\matplotlib\\patches.py:743\u001b[0m, in \u001b[0;36mRectangle._convert_units\u001b[1;34m(self)\u001b[0m\n\u001b[0;32m    741\u001b[0m y0 \u001b[38;5;241m=\u001b[39m \u001b[38;5;28mself\u001b[39m\u001b[38;5;241m.\u001b[39mconvert_yunits(\u001b[38;5;28mself\u001b[39m\u001b[38;5;241m.\u001b[39m_y0)\n\u001b[0;32m    742\u001b[0m x1 \u001b[38;5;241m=\u001b[39m \u001b[38;5;28mself\u001b[39m\u001b[38;5;241m.\u001b[39mconvert_xunits(\u001b[38;5;28mself\u001b[39m\u001b[38;5;241m.\u001b[39m_x0 \u001b[38;5;241m+\u001b[39m \u001b[38;5;28mself\u001b[39m\u001b[38;5;241m.\u001b[39m_width)\n\u001b[1;32m--> 743\u001b[0m y1 \u001b[38;5;241m=\u001b[39m \u001b[38;5;28mself\u001b[39m\u001b[38;5;241m.\u001b[39mconvert_yunits(\u001b[38;5;28;43mself\u001b[39;49m\u001b[38;5;241;43m.\u001b[39;49m\u001b[43m_y0\u001b[49m\u001b[43m \u001b[49m\u001b[38;5;241;43m+\u001b[39;49m\u001b[43m \u001b[49m\u001b[38;5;28;43mself\u001b[39;49m\u001b[38;5;241;43m.\u001b[39;49m\u001b[43m_height\u001b[49m)\n\u001b[0;32m    744\u001b[0m \u001b[38;5;28;01mreturn\u001b[39;00m x0, y0, x1, y1\n",
      "\u001b[1;31mUFuncTypeError\u001b[0m: ufunc 'add' did not contain a loop with signature matching types (dtype('int32'), dtype('<U4')) -> None"
     ]
    },
    {
     "data": {
      "image/png": "[encoded data removed]",
      "text/plain": [
       "<Figure size 1200x700 with 4 Axes>"
      ]
     },
     "metadata": {},
     "output_type": "display_data"
    }
   ],
   "source": [
    "subject_names = [\"Engelska\", \"Matematik\", \"Svenska\", \"Svenska som andra språk\"]\n",
    "huvudman_names = [\"Samtliga\", \"Kommunal\", \"Enskild\", \"Skolverket\"]\n",
    "\n",
    "# sätter färg\n",
    "colors = ['red', 'blue', 'green', 'orange']\n",
    "\n",
    "# Plot stacked bar charts for each huvudman in subplots\n",
    "fig, axes = plt.subplots(nrows=2, ncols=2,  figsize=(12, 7))\n",
    "\n",
    "# axes.set_xticklabels(axes.get_xticklabels(), rotation = 90)\n",
    "\n",
    "axes[0,0].bar(x = subject_names, height = total_poäng_0)\n",
    "axes[0,1].bar(x = subject_names, height = total_poäng_1)\n",
    "axes[1,0].bar(x = subject_names, height = total_poäng_2)\n",
    "axes[1,1].bar(x = subject_names, height = total_poäng_3)\n",
    "\n",
    "axes[0,0].set_title(\"samtliga\",fontsize = 10)\n",
    "axes[0,1].set_title(\"Kommunal\",fontsize = 10)\n",
    "axes[1,0].set_title(\"Enskild\", fontsize = 10)\n",
    "axes[1,1].set_title(\"Skolverket\", fontsize = 10)\n",
    "\n",
    "\n",
    "\n",
    "\n",
    "\n",
    "\n",
    "# Add labels and title\n",
    "fig.suptitle(\"Total Points for Each Subject and Huvudman\")\n",
    "plt.tight_layout()\n",
    "\n",
    "# Show the plot\n",
    "plt.show()"
   ]
  },
  {
   "cell_type": "markdown",
   "metadata": {},
   "source": [
    "# Uppgift 1 - uppvärmning betyg och prov\n",
    "### \n",
    "I uppgifterna nedan ska du använda dig av datasetet betyg_o_prov_riksnivå.xlsx. Använd Plotly för att rita diagrammen\n",
    "nedan för de uppgifter som kräver diagram. Använd Pandas för att svara på frågor om datasetet.\n",
    "  \n",
    "a) Rita ett linjediagram för andel elever som saknar godkänt betyg i ett eller fler ämnen för läsår 18-23. Ta med totalt,\n",
    "flickor och pojkar i samma graf.\n"
   ]
  }
 ],
 "metadata": {
  "kernelspec": {
   "display_name": "venv",
   "language": "python",
   "name": "python3"
  },
  "language_info": {
   "codemirror_mode": {
    "name": "ipython",
    "version": 3
   },
   "file_extension": ".py",
   "mimetype": "text/x-python",
   "name": "python",
   "nbconvert_exporter": "python",
   "pygments_lexer": "ipython3",
   "version": "3.11.7"
  }
 },
 "nbformat": 4,
 "nbformat_minor": 2
}
