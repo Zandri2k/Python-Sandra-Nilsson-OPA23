{
 "cells": [
  {
   "cell_type": "code",
   "execution_count": 793,
   "metadata": {},
   "outputs": [],
   "source": [
    "import numpy as np\n",
    "import seaborn as sns\n",
    "import pandas as pd\n",
    "import matplotlib.pyplot as plt \n"
   ]
  },
  {
   "cell_type": "markdown",
   "metadata": {},
   "source": [
    "# Uppgift 0 - uppvärmning med riket\n",
    "### I den här uppgiften ska du visualisera med hjälp av matplotlib och/eller seaborn\n",
    "- a) Börja med att läsa in filen riket2023_åk9_np.xlsx och sheets för de olika ämnena. Ändra kolumnnamnen på\n",
    "respektive dataframe så du får något liknande som nedan"
   ]
  },
  {
   "cell_type": "code",
   "execution_count": 794,
   "metadata": {},
   "outputs": [
    {
     "data": {
      "text/html": [
       "<div>\n",
       "<style scoped>\n",
       "    .dataframe tbody tr th:only-of-type {\n",
       "        vertical-align: middle;\n",
       "    }\n",
       "\n",
       "    .dataframe tbody tr th {\n",
       "        vertical-align: top;\n",
       "    }\n",
       "\n",
       "    .dataframe thead th {\n",
       "        text-align: right;\n",
       "    }\n",
       "</style>\n",
       "<table border=\"1\" class=\"dataframe\">\n",
       "  <thead>\n",
       "    <tr style=\"text-align: right;\">\n",
       "      <th></th>\n",
       "      <th>Riket</th>\n",
       "      <th>Typ av huvudman</th>\n",
       "      <th>Totalt</th>\n",
       "      <th>Flickor</th>\n",
       "      <th>Pojkar</th>\n",
       "      <th>Totalt</th>\n",
       "      <th>Flickor</th>\n",
       "      <th>Pojkar</th>\n",
       "      <th>Totalt</th>\n",
       "      <th>Flickor</th>\n",
       "      <th>Pojkar</th>\n",
       "    </tr>\n",
       "  </thead>\n",
       "  <tbody>\n",
       "    <tr>\n",
       "      <th>0</th>\n",
       "      <td>Riket</td>\n",
       "      <td>Samtliga</td>\n",
       "      <td>106766</td>\n",
       "      <td>51548</td>\n",
       "      <td>55218</td>\n",
       "      <td>89.1</td>\n",
       "      <td>88.7</td>\n",
       "      <td>89.5</td>\n",
       "      <td>11.9</td>\n",
       "      <td>11.8</td>\n",
       "      <td>12.0</td>\n",
       "    </tr>\n",
       "    <tr>\n",
       "      <th>1</th>\n",
       "      <td>Riket</td>\n",
       "      <td>Kommunal</td>\n",
       "      <td>84163</td>\n",
       "      <td>40386</td>\n",
       "      <td>43777</td>\n",
       "      <td>88.1</td>\n",
       "      <td>87.7</td>\n",
       "      <td>88.5</td>\n",
       "      <td>11.6</td>\n",
       "      <td>11.5</td>\n",
       "      <td>11.7</td>\n",
       "    </tr>\n",
       "    <tr>\n",
       "      <th>2</th>\n",
       "      <td>Riket</td>\n",
       "      <td>Enskild</td>\n",
       "      <td>22553</td>\n",
       "      <td>11137</td>\n",
       "      <td>11416</td>\n",
       "      <td>92.9</td>\n",
       "      <td>92.2</td>\n",
       "      <td>93.5</td>\n",
       "      <td>13.0</td>\n",
       "      <td>12.8</td>\n",
       "      <td>13.1</td>\n",
       "    </tr>\n",
       "    <tr>\n",
       "      <th>3</th>\n",
       "      <td>Riket</td>\n",
       "      <td>Skolverket</td>\n",
       "      <td>50</td>\n",
       "      <td>25</td>\n",
       "      <td>25</td>\n",
       "      <td>~100</td>\n",
       "      <td>~100</td>\n",
       "      <td>~100</td>\n",
       "      <td>14.1</td>\n",
       "      <td>13.5</td>\n",
       "      <td>14.7</td>\n",
       "    </tr>\n",
       "  </tbody>\n",
       "</table>\n",
       "</div>"
      ],
      "text/plain": [
       "   Riket Typ av huvudman  Totalt  Flickor  Pojkar Totalt  Flickor  Pojkar   \\\n",
       "0  Riket        Samtliga  106766    51548   55218    89.1     88.7    89.5   \n",
       "1  Riket        Kommunal   84163    40386   43777    88.1     87.7    88.5   \n",
       "2  Riket         Enskild   22553    11137   11416    92.9     92.2    93.5   \n",
       "3  Riket      Skolverket      50       25      25    ~100     ~100    ~100   \n",
       "\n",
       "   Totalt    Flickor    Pojkar    \n",
       "0      11.9       11.8      12.0  \n",
       "1      11.6       11.5      11.7  \n",
       "2      13.0       12.8      13.1  \n",
       "3      14.1       13.5      14.7  "
      ]
     },
     "execution_count": 794,
     "metadata": {},
     "output_type": "execute_result"
    }
   ],
   "source": [
    "df_subjects = pd.read_excel(\"../data/labb_2/riket2023_åk9_np.xlsx\", skiprows=8, sheet_name= [0,1,2,3])\n",
    "\n",
    "df_svenska_andraspråk = pd.read_excel(\"../data/labb_2/riket2023_åk9_np.xlsx\", skiprows=8, sheet_name= 3) # Imports the math sheet excel file  and skips 8 rows\n",
    "\n",
    "\n",
    "df_svenska = pd.read_excel(\"../data/labb_2/riket2023_åk9_np.xlsx\", skiprows=8, sheet_name= 2) # Imports the math sheet excel file  and skips 8 rows\n",
    "\n",
    "\n",
    "df_engelska = pd.read_excel(\"../data/labb_2/riket2023_åk9_np.xlsx\", skiprows=8, sheet_name= 0) # Imports the math sheet excel file  and skips 8 rows\n",
    "\n",
    "\n",
    "df_matematik = pd.read_excel(\"../data/labb_2/riket2023_åk9_np.xlsx\", skiprows=8, sheet_name= 1) # Imports the math sheet excel file  and skips 8 rows\n",
    "df_matematik"
   ]
  },
  {
   "cell_type": "code",
   "execution_count": 795,
   "metadata": {},
   "outputs": [
    {
     "name": "stdout",
     "output_type": "stream",
     "text": [
      "<class 'pandas.core.frame.DataFrame'>\n",
      "RangeIndex: 4 entries, 0 to 3\n",
      "Data columns (total 11 columns):\n",
      " #   Column           Non-Null Count  Dtype  \n",
      "---  ------           --------------  -----  \n",
      " 0   Riket            4 non-null      object \n",
      " 1   Typ av huvudman  4 non-null      object \n",
      " 2   Totalt           4 non-null      int64  \n",
      " 3   Flickor          4 non-null      int64  \n",
      " 4   Pojkar           4 non-null      int64  \n",
      " 5   Totalt           4 non-null      object \n",
      " 6   Flickor          4 non-null      object \n",
      " 7   Pojkar           4 non-null      object \n",
      " 8   Totalt           4 non-null      float64\n",
      " 9   Flickor          4 non-null      float64\n",
      " 10  Pojkar           4 non-null      float64\n",
      "dtypes: float64(3), int64(3), object(5)\n",
      "memory usage: 484.0+ bytes\n"
     ]
    }
   ],
   "source": [
    "df_matematik.info()"
   ]
  },
  {
   "cell_type": "code",
   "execution_count": 796,
   "metadata": {},
   "outputs": [
    {
     "data": {
      "text/html": [
       "<div>\n",
       "<style scoped>\n",
       "    .dataframe tbody tr th:only-of-type {\n",
       "        vertical-align: middle;\n",
       "    }\n",
       "\n",
       "    .dataframe tbody tr th {\n",
       "        vertical-align: top;\n",
       "    }\n",
       "\n",
       "    .dataframe thead th {\n",
       "        text-align: right;\n",
       "    }\n",
       "</style>\n",
       "<table border=\"1\" class=\"dataframe\">\n",
       "  <thead>\n",
       "    <tr style=\"text-align: right;\">\n",
       "      <th></th>\n",
       "      <th>1</th>\n",
       "      <th>2</th>\n",
       "      <th>3</th>\n",
       "      <th>4</th>\n",
       "      <th>5</th>\n",
       "      <th>6</th>\n",
       "      <th>7</th>\n",
       "      <th>8</th>\n",
       "      <th>9</th>\n",
       "      <th>10</th>\n",
       "      <th>11</th>\n",
       "    </tr>\n",
       "  </thead>\n",
       "  <tbody>\n",
       "    <tr>\n",
       "      <th>0</th>\n",
       "      <td>Riket</td>\n",
       "      <td>Samtliga</td>\n",
       "      <td>106766</td>\n",
       "      <td>51548</td>\n",
       "      <td>55218</td>\n",
       "      <td>89.1</td>\n",
       "      <td>88.7</td>\n",
       "      <td>89.5</td>\n",
       "      <td>11.9</td>\n",
       "      <td>11.8</td>\n",
       "      <td>12.0</td>\n",
       "    </tr>\n",
       "    <tr>\n",
       "      <th>1</th>\n",
       "      <td>Riket</td>\n",
       "      <td>Kommunal</td>\n",
       "      <td>84163</td>\n",
       "      <td>40386</td>\n",
       "      <td>43777</td>\n",
       "      <td>88.1</td>\n",
       "      <td>87.7</td>\n",
       "      <td>88.5</td>\n",
       "      <td>11.6</td>\n",
       "      <td>11.5</td>\n",
       "      <td>11.7</td>\n",
       "    </tr>\n",
       "    <tr>\n",
       "      <th>2</th>\n",
       "      <td>Riket</td>\n",
       "      <td>Enskild</td>\n",
       "      <td>22553</td>\n",
       "      <td>11137</td>\n",
       "      <td>11416</td>\n",
       "      <td>92.9</td>\n",
       "      <td>92.2</td>\n",
       "      <td>93.5</td>\n",
       "      <td>13.0</td>\n",
       "      <td>12.8</td>\n",
       "      <td>13.1</td>\n",
       "    </tr>\n",
       "    <tr>\n",
       "      <th>3</th>\n",
       "      <td>Riket</td>\n",
       "      <td>Skolverket</td>\n",
       "      <td>50</td>\n",
       "      <td>25</td>\n",
       "      <td>25</td>\n",
       "      <td>~100</td>\n",
       "      <td>~100</td>\n",
       "      <td>~100</td>\n",
       "      <td>14.1</td>\n",
       "      <td>13.5</td>\n",
       "      <td>14.7</td>\n",
       "    </tr>\n",
       "  </tbody>\n",
       "</table>\n",
       "</div>"
      ],
      "text/plain": [
       "      1           2       3      4      5     6     7     8     9     10    11\n",
       "0  Riket    Samtliga  106766  51548  55218  89.1  88.7  89.5  11.9  11.8  12.0\n",
       "1  Riket    Kommunal   84163  40386  43777  88.1  87.7  88.5  11.6  11.5  11.7\n",
       "2  Riket     Enskild   22553  11137  11416  92.9  92.2  93.5  13.0  12.8  13.1\n",
       "3  Riket  Skolverket      50     25     25  ~100  ~100  ~100  14.1  13.5  14.7"
      ]
     },
     "execution_count": 796,
     "metadata": {},
     "output_type": "execute_result"
    }
   ],
   "source": [
    "df_matematik.columns = [1,2,3,4,5,6,7,8,9,10,11]  # Ändrar kolumnerna till siffror pga multiple titles\n",
    "df_matematik.head()"
   ]
  },
  {
   "cell_type": "code",
   "execution_count": 797,
   "metadata": {},
   "outputs": [
    {
     "data": {
      "text/html": [
       "<div>\n",
       "<style scoped>\n",
       "    .dataframe tbody tr th:only-of-type {\n",
       "        vertical-align: middle;\n",
       "    }\n",
       "\n",
       "    .dataframe tbody tr th {\n",
       "        vertical-align: top;\n",
       "    }\n",
       "\n",
       "    .dataframe thead th {\n",
       "        text-align: right;\n",
       "    }\n",
       "</style>\n",
       "<table border=\"1\" class=\"dataframe\">\n",
       "  <thead>\n",
       "    <tr style=\"text-align: right;\">\n",
       "      <th></th>\n",
       "      <th>Riket</th>\n",
       "      <th>Huvudman</th>\n",
       "      <th>Totalt (A-F)</th>\n",
       "      <th>Flickor (A-F)</th>\n",
       "      <th>Pojkar (A-F)</th>\n",
       "      <th>Totalt (A-E)</th>\n",
       "      <th>Flickor (A-E)</th>\n",
       "      <th>Pojkar (A-E)</th>\n",
       "      <th>Totalt (Poäng)</th>\n",
       "      <th>Flickor (Poäng)</th>\n",
       "      <th>Pojkar (Poäng)</th>\n",
       "    </tr>\n",
       "  </thead>\n",
       "  <tbody>\n",
       "    <tr>\n",
       "      <th>0</th>\n",
       "      <td>Riket</td>\n",
       "      <td>Samtliga</td>\n",
       "      <td>106766</td>\n",
       "      <td>51548</td>\n",
       "      <td>55218</td>\n",
       "      <td>89.1</td>\n",
       "      <td>88.7</td>\n",
       "      <td>89.5</td>\n",
       "      <td>11.9</td>\n",
       "      <td>11.8</td>\n",
       "      <td>12.0</td>\n",
       "    </tr>\n",
       "    <tr>\n",
       "      <th>1</th>\n",
       "      <td>Riket</td>\n",
       "      <td>Kommunal</td>\n",
       "      <td>84163</td>\n",
       "      <td>40386</td>\n",
       "      <td>43777</td>\n",
       "      <td>88.1</td>\n",
       "      <td>87.7</td>\n",
       "      <td>88.5</td>\n",
       "      <td>11.6</td>\n",
       "      <td>11.5</td>\n",
       "      <td>11.7</td>\n",
       "    </tr>\n",
       "    <tr>\n",
       "      <th>2</th>\n",
       "      <td>Riket</td>\n",
       "      <td>Enskild</td>\n",
       "      <td>22553</td>\n",
       "      <td>11137</td>\n",
       "      <td>11416</td>\n",
       "      <td>92.9</td>\n",
       "      <td>92.2</td>\n",
       "      <td>93.5</td>\n",
       "      <td>13.0</td>\n",
       "      <td>12.8</td>\n",
       "      <td>13.1</td>\n",
       "    </tr>\n",
       "    <tr>\n",
       "      <th>3</th>\n",
       "      <td>Riket</td>\n",
       "      <td>Skolverket</td>\n",
       "      <td>50</td>\n",
       "      <td>25</td>\n",
       "      <td>25</td>\n",
       "      <td>~100</td>\n",
       "      <td>~100</td>\n",
       "      <td>~100</td>\n",
       "      <td>14.1</td>\n",
       "      <td>13.5</td>\n",
       "      <td>14.7</td>\n",
       "    </tr>\n",
       "  </tbody>\n",
       "</table>\n",
       "</div>"
      ],
      "text/plain": [
       "   Riket    Huvudman  Totalt (A-F)  Flickor (A-F)  Pojkar (A-F) Totalt (A-E)  \\\n",
       "0  Riket    Samtliga        106766          51548         55218         89.1   \n",
       "1  Riket    Kommunal         84163          40386         43777         88.1   \n",
       "2  Riket     Enskild         22553          11137         11416         92.9   \n",
       "3  Riket  Skolverket            50             25            25         ~100   \n",
       "\n",
       "  Flickor (A-E) Pojkar (A-E)  Totalt (Poäng)  Flickor (Poäng)  Pojkar (Poäng)  \n",
       "0          88.7         89.5            11.9             11.8            12.0  \n",
       "1          87.7         88.5            11.6             11.5            11.7  \n",
       "2          92.2         93.5            13.0             12.8            13.1  \n",
       "3          ~100         ~100            14.1             13.5            14.7  "
      ]
     },
     "execution_count": 797,
     "metadata": {},
     "output_type": "execute_result"
    }
   ],
   "source": [
    "df_matematik.columns = [\"Riket\", \"Huvudman\", \"Totalt (A-F)\", \"Flickor (A-F)\", \"Pojkar (A-F)\", \"Totalt (A-E)\", \"Flickor (A-E)\", \"Pojkar (A-E)\", \"Totalt (Poäng)\", \"Flickor (Poäng)\", \"Pojkar (Poäng)\"]\n",
    "df_matematik"
   ]
  },
  {
   "cell_type": "code",
   "execution_count": 798,
   "metadata": {},
   "outputs": [
    {
     "name": "stdout",
     "output_type": "stream",
     "text": [
      "<class 'pandas.core.frame.DataFrame'>\n",
      "RangeIndex: 4 entries, 0 to 3\n",
      "Data columns (total 11 columns):\n",
      " #   Column           Non-Null Count  Dtype  \n",
      "---  ------           --------------  -----  \n",
      " 0   Riket            4 non-null      object \n",
      " 1   Huvudman         4 non-null      object \n",
      " 2   Totalt (A-F)     4 non-null      int64  \n",
      " 3   Flickor (A-F)    4 non-null      int64  \n",
      " 4   Pojkar (A-F)     4 non-null      int64  \n",
      " 5   Totalt (A-E)     4 non-null      object \n",
      " 6   Flickor (A-E)    4 non-null      object \n",
      " 7   Pojkar (A-E)     4 non-null      object \n",
      " 8   Totalt (Poäng)   4 non-null      float64\n",
      " 9   Flickor (Poäng)  4 non-null      float64\n",
      " 10  Pojkar (Poäng)   4 non-null      float64\n",
      "dtypes: float64(3), int64(3), object(5)\n",
      "memory usage: 484.0+ bytes\n"
     ]
    }
   ],
   "source": [
    "df_matematik.info()"
   ]
  },
  {
   "cell_type": "markdown",
   "metadata": {},
   "source": [
    "### b) Ta reda på antalet som fått F i matematik totalt, pojkar respektive flickor."
   ]
  },
  {
   "cell_type": "code",
   "execution_count": 799,
   "metadata": {},
   "outputs": [
    {
     "name": "stdout",
     "output_type": "stream",
     "text": [
      "Total numbers of boys who recieved an F in mathematics at year 9 is: 5825\n",
      "Total numbers of boys who recieved an F in mathematics at year 9 is: 6350\n"
     ]
    }
   ],
   "source": [
    "total_number_girls = 51548 \n",
    "total_number_boys = 55218\n",
    "\n",
    "\n",
    "percentage_f_grade = 11.3/100\n",
    "boys_percentage_f_grade = 11.5/100  # gör om till decimal\n",
    "\n",
    "girls_with_f_grade = round(total_number_girls*percentage_f_grade) #beräknar mängden tjejer som fick f\n",
    "boys_with_f_grade = round(total_number_boys*boys_percentage_f_grade) #beräknar mängden killar som fick f\n",
    "\n",
    "print(\"Total numbers of boys who recieved an F in mathematics at year 9 is:\", girls_with_f_grade)\n",
    "print(\"Total numbers of boys who recieved an F in mathematics at year 9 is:\", boys_with_f_grade)"
   ]
  },
  {
   "cell_type": "markdown",
   "metadata": {},
   "source": [
    "### c) Rita ett stapeldiagram på totala poängen för de olika ämnena"
   ]
  },
  {
   "cell_type": "code",
   "execution_count": 800,
   "metadata": {},
   "outputs": [
    {
     "data": {
      "text/html": [
       "<div>\n",
       "<style scoped>\n",
       "    .dataframe tbody tr th:only-of-type {\n",
       "        vertical-align: middle;\n",
       "    }\n",
       "\n",
       "    .dataframe tbody tr th {\n",
       "        vertical-align: top;\n",
       "    }\n",
       "\n",
       "    .dataframe thead th {\n",
       "        text-align: right;\n",
       "    }\n",
       "</style>\n",
       "<table border=\"1\" class=\"dataframe\">\n",
       "  <thead>\n",
       "    <tr style=\"text-align: right;\">\n",
       "      <th></th>\n",
       "      <th>Riket</th>\n",
       "      <th>Typ av huvudman</th>\n",
       "      <th>Totalt</th>\n",
       "      <th>Flickor</th>\n",
       "      <th>Pojkar</th>\n",
       "      <th>Totalt</th>\n",
       "      <th>Flickor</th>\n",
       "      <th>Pojkar</th>\n",
       "      <th>Totalt</th>\n",
       "      <th>Flickor</th>\n",
       "      <th>Pojkar</th>\n",
       "    </tr>\n",
       "  </thead>\n",
       "  <tbody>\n",
       "    <tr>\n",
       "      <th>0</th>\n",
       "      <td>Riket</td>\n",
       "      <td>Samtliga</td>\n",
       "      <td>14092</td>\n",
       "      <td>6447</td>\n",
       "      <td>7645</td>\n",
       "      <td>77.7</td>\n",
       "      <td>81.6</td>\n",
       "      <td>74.3</td>\n",
       "      <td>9.4</td>\n",
       "      <td>10.2</td>\n",
       "      <td>8.7</td>\n",
       "    </tr>\n",
       "    <tr>\n",
       "      <th>1</th>\n",
       "      <td>Riket</td>\n",
       "      <td>Kommunal</td>\n",
       "      <td>11963</td>\n",
       "      <td>5495</td>\n",
       "      <td>6468</td>\n",
       "      <td>75.9</td>\n",
       "      <td>80</td>\n",
       "      <td>72.4</td>\n",
       "      <td>9</td>\n",
       "      <td>9.9</td>\n",
       "      <td>8.3</td>\n",
       "    </tr>\n",
       "    <tr>\n",
       "      <th>2</th>\n",
       "      <td>Riket</td>\n",
       "      <td>Enskild</td>\n",
       "      <td>2122</td>\n",
       "      <td>949</td>\n",
       "      <td>1173</td>\n",
       "      <td>87.7</td>\n",
       "      <td>90.9</td>\n",
       "      <td>85.2</td>\n",
       "      <td>11.1</td>\n",
       "      <td>12</td>\n",
       "      <td>10.4</td>\n",
       "    </tr>\n",
       "  </tbody>\n",
       "</table>\n",
       "</div>"
      ],
      "text/plain": [
       "   Riket Typ av huvudman Totalt Flickor Pojkar Totalt  Flickor  Pojkar   \\\n",
       "0  Riket        Samtliga  14092    6447   7645    77.7     81.6    74.3   \n",
       "1  Riket        Kommunal  11963    5495   6468    75.9       80    72.4   \n",
       "2  Riket         Enskild   2122     949   1173    87.7     90.9    85.2   \n",
       "\n",
       "  Totalt   Flickor   Pojkar    \n",
       "0      9.4      10.2      8.7  \n",
       "1        9       9.9      8.3  \n",
       "2     11.1        12     10.4  "
      ]
     },
     "execution_count": 800,
     "metadata": {},
     "output_type": "execute_result"
    }
   ],
   "source": [
    "df_subjects[3] = df_subjects[3].drop(labels=3)\n",
    "df_subjects[3]"
   ]
  },
  {
   "cell_type": "code",
   "execution_count": 801,
   "metadata": {},
   "outputs": [
    {
     "data": {
      "text/html": [
       "<div>\n",
       "<style scoped>\n",
       "    .dataframe tbody tr th:only-of-type {\n",
       "        vertical-align: middle;\n",
       "    }\n",
       "\n",
       "    .dataframe tbody tr th {\n",
       "        vertical-align: top;\n",
       "    }\n",
       "\n",
       "    .dataframe thead th {\n",
       "        text-align: right;\n",
       "    }\n",
       "</style>\n",
       "<table border=\"1\" class=\"dataframe\">\n",
       "  <thead>\n",
       "    <tr style=\"text-align: right;\">\n",
       "      <th></th>\n",
       "      <th>Riket</th>\n",
       "      <th>Huvudman</th>\n",
       "      <th>Totalt (A-F)</th>\n",
       "      <th>Flickor (A-F)</th>\n",
       "      <th>Pojkar (A-F)</th>\n",
       "      <th>Totalt (A-E)</th>\n",
       "      <th>Flickor (A-E)</th>\n",
       "      <th>Pojkar (A-E)</th>\n",
       "      <th>Totalt (Poäng)</th>\n",
       "      <th>Flickor (Poäng)</th>\n",
       "      <th>Pojkar (Poäng)</th>\n",
       "    </tr>\n",
       "  </thead>\n",
       "  <tbody>\n",
       "    <tr>\n",
       "      <th>0</th>\n",
       "      <td>Riket</td>\n",
       "      <td>Samtliga</td>\n",
       "      <td>106766</td>\n",
       "      <td>51548</td>\n",
       "      <td>55218</td>\n",
       "      <td>89.1</td>\n",
       "      <td>88.7</td>\n",
       "      <td>89.5</td>\n",
       "      <td>11.9</td>\n",
       "      <td>11.8</td>\n",
       "      <td>12.0</td>\n",
       "    </tr>\n",
       "    <tr>\n",
       "      <th>1</th>\n",
       "      <td>Riket</td>\n",
       "      <td>Kommunal</td>\n",
       "      <td>84163</td>\n",
       "      <td>40386</td>\n",
       "      <td>43777</td>\n",
       "      <td>88.1</td>\n",
       "      <td>87.7</td>\n",
       "      <td>88.5</td>\n",
       "      <td>11.6</td>\n",
       "      <td>11.5</td>\n",
       "      <td>11.7</td>\n",
       "    </tr>\n",
       "    <tr>\n",
       "      <th>2</th>\n",
       "      <td>Riket</td>\n",
       "      <td>Enskild</td>\n",
       "      <td>22553</td>\n",
       "      <td>11137</td>\n",
       "      <td>11416</td>\n",
       "      <td>92.9</td>\n",
       "      <td>92.2</td>\n",
       "      <td>93.5</td>\n",
       "      <td>13.0</td>\n",
       "      <td>12.8</td>\n",
       "      <td>13.1</td>\n",
       "    </tr>\n",
       "    <tr>\n",
       "      <th>3</th>\n",
       "      <td>Riket</td>\n",
       "      <td>Skolverket</td>\n",
       "      <td>50</td>\n",
       "      <td>25</td>\n",
       "      <td>25</td>\n",
       "      <td>~100</td>\n",
       "      <td>~100</td>\n",
       "      <td>~100</td>\n",
       "      <td>14.1</td>\n",
       "      <td>13.5</td>\n",
       "      <td>14.7</td>\n",
       "    </tr>\n",
       "  </tbody>\n",
       "</table>\n",
       "</div>"
      ],
      "text/plain": [
       "   Riket    Huvudman  Totalt (A-F)  Flickor (A-F)  Pojkar (A-F) Totalt (A-E)  \\\n",
       "0  Riket    Samtliga        106766          51548         55218         89.1   \n",
       "1  Riket    Kommunal         84163          40386         43777         88.1   \n",
       "2  Riket     Enskild         22553          11137         11416         92.9   \n",
       "3  Riket  Skolverket            50             25            25         ~100   \n",
       "\n",
       "  Flickor (A-E) Pojkar (A-E)  Totalt (Poäng)  Flickor (Poäng)  Pojkar (Poäng)  \n",
       "0          88.7         89.5            11.9             11.8            12.0  \n",
       "1          87.7         88.5            11.6             11.5            11.7  \n",
       "2          92.2         93.5            13.0             12.8            13.1  \n",
       "3          ~100         ~100            14.1             13.5            14.7  "
      ]
     },
     "execution_count": 801,
     "metadata": {},
     "output_type": "execute_result"
    }
   ],
   "source": [
    "\n",
    "for key in df_subjects:\n",
    "    df_subjects[key].columns = [\n",
    "         \"Riket\",\n",
    "         \"Huvudman\",\n",
    "         \"Totalt (A-F)\",\n",
    "         \"Flickor (A-F)\",\n",
    "         \"Pojkar (A-F)\",\n",
    "         \"Totalt (A-E)\",\n",
    "         \"Flickor (A-E)\",\n",
    "         \"Pojkar (A-E)\",\n",
    "         \"Totalt (Poäng)\",\n",
    "         \"Flickor (Poäng)\",\n",
    "         \"Pojkar (Poäng)\",\n",
    "    ]\n",
    "   \n",
    "\n",
    "df_subjects[1].head()\n",
    "\n",
    "\n"
   ]
  },
  {
   "cell_type": "code",
   "execution_count": 802,
   "metadata": {},
   "outputs": [
    {
     "data": {
      "text/plain": [
       "11.9"
      ]
     },
     "execution_count": 802,
     "metadata": {},
     "output_type": "execute_result"
    }
   ],
   "source": [
    "df_subjects[1][\"Totalt (Poäng)\"][0] # samtliga. gör detta för alla. lägg i lista.. plota listan "
   ]
  },
  {
   "cell_type": "code",
   "execution_count": 803,
   "metadata": {},
   "outputs": [
    {
     "data": {
      "text/plain": [
       "{0:    Riket    Huvudman  Totalt (A-F)  Flickor (A-F)  Pojkar (A-F)  Totalt (A-E)  \\\n",
       " 0  Riket    Samtliga        106941          51864         55077          97.0   \n",
       " 1  Riket    Kommunal         84310          40675         43635          96.6   \n",
       " 2  Riket     Enskild         22582          11165         11417          98.7   \n",
       " 3  Riket  Skolverket            49             24            25         100.0   \n",
       " \n",
       "    Flickor (A-E)  Pojkar (A-E)  Totalt (Poäng)  Flickor (Poäng)  \\\n",
       " 0           97.1          97.0            15.7             15.8   \n",
       " 1           96.6          96.6            15.4             15.5   \n",
       " 2           98.8          98.7            16.9             17.0   \n",
       " 3          100.0         100.0            18.5             18.9   \n",
       " \n",
       "    Pojkar (Poäng)  \n",
       " 0            15.7  \n",
       " 1            15.4  \n",
       " 2            16.8  \n",
       " 3            18.2  ,\n",
       " 1:    Riket    Huvudman  Totalt (A-F)  Flickor (A-F)  Pojkar (A-F) Totalt (A-E)  \\\n",
       " 0  Riket    Samtliga        106766          51548         55218         89.1   \n",
       " 1  Riket    Kommunal         84163          40386         43777         88.1   \n",
       " 2  Riket     Enskild         22553          11137         11416         92.9   \n",
       " 3  Riket  Skolverket            50             25            25         ~100   \n",
       " \n",
       "   Flickor (A-E) Pojkar (A-E)  Totalt (Poäng)  Flickor (Poäng)  Pojkar (Poäng)  \n",
       " 0          88.7         89.5            11.9             11.8            12.0  \n",
       " 1          87.7         88.5            11.6             11.5            11.7  \n",
       " 2          92.2         93.5            13.0             12.8            13.1  \n",
       " 3          ~100         ~100            14.1             13.5            14.7  ,\n",
       " 2:    Riket    Huvudman  Totalt (A-F)  Flickor (A-F)  Pojkar (A-F)  Totalt (A-E)  \\\n",
       " 0  Riket    Samtliga         93225          45800         47425          96.1   \n",
       " 1  Riket    Kommunal         72771          35484         37287          95.7   \n",
       " 2  Riket     Enskild         20414          10297         10117          97.6   \n",
       " 3  Riket  Skolverket            40             19            21         100.0   \n",
       " \n",
       "    Flickor (A-E)  Pojkar (A-E)  Totalt (Poäng)  Flickor (Poäng)  \\\n",
       " 0           97.9          94.4            13.6             14.5   \n",
       " 1           97.6          93.8            13.3             14.3   \n",
       " 2           98.7          96.6            14.4             15.2   \n",
       " 3          100.0         100.0            15.0             15.9   \n",
       " \n",
       "    Pojkar (Poäng)  \n",
       " 0            12.7  \n",
       " 1            12.4  \n",
       " 2            13.5  \n",
       " 3            14.2  ,\n",
       " 3:    Riket  Huvudman Totalt (A-F) Flickor (A-F) Pojkar (A-F) Totalt (A-E)  \\\n",
       " 0  Riket  Samtliga        14092          6447         7645         77.7   \n",
       " 1  Riket  Kommunal        11963          5495         6468         75.9   \n",
       " 2  Riket   Enskild         2122           949         1173         87.7   \n",
       " \n",
       "   Flickor (A-E) Pojkar (A-E) Totalt (Poäng) Flickor (Poäng) Pojkar (Poäng)  \n",
       " 0          81.6         74.3            9.4            10.2            8.7  \n",
       " 1            80         72.4              9             9.9            8.3  \n",
       " 2          90.9         85.2           11.1              12           10.4  }"
      ]
     },
     "execution_count": 803,
     "metadata": {},
     "output_type": "execute_result"
    }
   ],
   "source": [
    "df_subjects"
   ]
  },
  {
   "cell_type": "code",
   "execution_count": 804,
   "metadata": {},
   "outputs": [
    {
     "data": {
      "text/plain": [
       "3"
      ]
     },
     "execution_count": 804,
     "metadata": {},
     "output_type": "execute_result"
    }
   ],
   "source": [
    "key"
   ]
  },
  {
   "cell_type": "code",
   "execution_count": 805,
   "metadata": {},
   "outputs": [
    {
     "name": "stdout",
     "output_type": "stream",
     "text": [
      "15.7\n",
      "11.9\n",
      "13.6\n",
      "9.4\n"
     ]
    }
   ],
   "source": [
    "for key in df_subjects:\n",
    "    print(df_subjects[key][\"Totalt (Poäng)\"][0]) \n"
   ]
  },
  {
   "cell_type": "code",
   "execution_count": 806,
   "metadata": {},
   "outputs": [
    {
     "data": {
      "text/plain": [
       "[15.7, 11.9, 13.6, 9.4]"
      ]
     },
     "execution_count": 806,
     "metadata": {},
     "output_type": "execute_result"
    }
   ],
   "source": [
    "total_point= [df_subjects[key][\"Totalt (Poäng)\"][0] for key in df_subjects] #list comprehenssion\n",
    "total_point"
   ]
  },
  {
   "cell_type": "code",
   "execution_count": 807,
   "metadata": {},
   "outputs": [
    {
     "data": {
      "image/png": "[encoded data removed]",
      "text/plain": [
       "<Figure size 640x480 with 1 Axes>"
      ]
     },
     "metadata": {},
     "output_type": "display_data"
    }
   ],
   "source": [
    "colors = [\"red\", \"green\", \"orange\", \"blue\"] # sätterfärger på pelarna\n",
    "subject_names = [\"engelska\", \"matematik\", \"svenska\", \"svenska som andra språk \"] #försök till att sätta rätt ämne till pelaren \n",
    "# pd.Series(total_point).plot(kind=\"bar\", x=\"\", y=\"\", xlabel= \"subject\", ylabel=\"Points\", color=colors)\n",
    "plt.bar(subject_names, total_point, color=colors,)\n",
    "plt.xlabel(\"Subject\")\n",
    "plt.ylabel(\"Points\")\n",
    "plt.title(\"Total Points for Each Subject\")\n",
    "plt.show()"
   ]
  },
  {
   "cell_type": "code",
   "execution_count": 808,
   "metadata": {},
   "outputs": [
    {
     "data": {
      "text/html": [
       "<div>\n",
       "<style scoped>\n",
       "    .dataframe tbody tr th:only-of-type {\n",
       "        vertical-align: middle;\n",
       "    }\n",
       "\n",
       "    .dataframe tbody tr th {\n",
       "        vertical-align: top;\n",
       "    }\n",
       "\n",
       "    .dataframe thead th {\n",
       "        text-align: right;\n",
       "    }\n",
       "</style>\n",
       "<table border=\"1\" class=\"dataframe\">\n",
       "  <thead>\n",
       "    <tr style=\"text-align: right;\">\n",
       "      <th></th>\n",
       "      <th>Riket</th>\n",
       "      <th>Huvudman</th>\n",
       "      <th>Totalt (A-F)</th>\n",
       "      <th>Flickor (A-F)</th>\n",
       "      <th>Pojkar (A-F)</th>\n",
       "      <th>Totalt (A-E)</th>\n",
       "      <th>Flickor (A-E)</th>\n",
       "      <th>Pojkar (A-E)</th>\n",
       "      <th>Totalt (Poäng)</th>\n",
       "      <th>Flickor (Poäng)</th>\n",
       "      <th>Pojkar (Poäng)</th>\n",
       "    </tr>\n",
       "  </thead>\n",
       "  <tbody>\n",
       "    <tr>\n",
       "      <th>0</th>\n",
       "      <td>Riket</td>\n",
       "      <td>Samtliga</td>\n",
       "      <td>93225</td>\n",
       "      <td>45800</td>\n",
       "      <td>47425</td>\n",
       "      <td>96.1</td>\n",
       "      <td>97.9</td>\n",
       "      <td>94.4</td>\n",
       "      <td>13.6</td>\n",
       "      <td>14.5</td>\n",
       "      <td>12.7</td>\n",
       "    </tr>\n",
       "    <tr>\n",
       "      <th>1</th>\n",
       "      <td>Riket</td>\n",
       "      <td>Kommunal</td>\n",
       "      <td>72771</td>\n",
       "      <td>35484</td>\n",
       "      <td>37287</td>\n",
       "      <td>95.7</td>\n",
       "      <td>97.6</td>\n",
       "      <td>93.8</td>\n",
       "      <td>13.3</td>\n",
       "      <td>14.3</td>\n",
       "      <td>12.4</td>\n",
       "    </tr>\n",
       "    <tr>\n",
       "      <th>2</th>\n",
       "      <td>Riket</td>\n",
       "      <td>Enskild</td>\n",
       "      <td>20414</td>\n",
       "      <td>10297</td>\n",
       "      <td>10117</td>\n",
       "      <td>97.6</td>\n",
       "      <td>98.7</td>\n",
       "      <td>96.6</td>\n",
       "      <td>14.4</td>\n",
       "      <td>15.2</td>\n",
       "      <td>13.5</td>\n",
       "    </tr>\n",
       "    <tr>\n",
       "      <th>3</th>\n",
       "      <td>Riket</td>\n",
       "      <td>Skolverket</td>\n",
       "      <td>40</td>\n",
       "      <td>19</td>\n",
       "      <td>21</td>\n",
       "      <td>100.0</td>\n",
       "      <td>100.0</td>\n",
       "      <td>100.0</td>\n",
       "      <td>15.0</td>\n",
       "      <td>15.9</td>\n",
       "      <td>14.2</td>\n",
       "    </tr>\n",
       "  </tbody>\n",
       "</table>\n",
       "</div>"
      ],
      "text/plain": [
       "   Riket    Huvudman  Totalt (A-F)  Flickor (A-F)  Pojkar (A-F)  Totalt (A-E)  \\\n",
       "0  Riket    Samtliga         93225          45800         47425          96.1   \n",
       "1  Riket    Kommunal         72771          35484         37287          95.7   \n",
       "2  Riket     Enskild         20414          10297         10117          97.6   \n",
       "3  Riket  Skolverket            40             19            21         100.0   \n",
       "\n",
       "   Flickor (A-E)  Pojkar (A-E)  Totalt (Poäng)  Flickor (Poäng)  \\\n",
       "0           97.9          94.4            13.6             14.5   \n",
       "1           97.6          93.8            13.3             14.3   \n",
       "2           98.7          96.6            14.4             15.2   \n",
       "3          100.0         100.0            15.0             15.9   \n",
       "\n",
       "   Pojkar (Poäng)  \n",
       "0            12.7  \n",
       "1            12.4  \n",
       "2            13.5  \n",
       "3            14.2  "
      ]
     },
     "execution_count": 808,
     "metadata": {},
     "output_type": "execute_result"
    }
   ],
   "source": [
    "df_subjects[2]"
   ]
  },
  {
   "cell_type": "markdown",
   "metadata": {},
   "source": [
    "# Tar ut Df 1 by 1 total poäng för kolumnerna samtliga, kommunal, enskild & skolverket"
   ]
  },
  {
   "cell_type": "markdown",
   "metadata": {},
   "source": [
    "# samtliga"
   ]
  },
  {
   "cell_type": "code",
   "execution_count": 809,
   "metadata": {},
   "outputs": [
    {
     "name": "stdout",
     "output_type": "stream",
     "text": [
      "[15.7]\n",
      "[15.7, 11.9]\n",
      "[15.7, 11.9, 13.6]\n",
      "[15.7, 11.9, 13.6, 9.4]\n"
     ]
    }
   ],
   "source": [
    "total_poäng_samtliga = [\n",
    "\n",
    "]\n",
    "for i in range(4):\n",
    "    total_point = df_subjects[i][df_subjects[i][\"Huvudman\"] == \"Samtliga\"][\"Totalt (Poäng)\"].values[0] # boolean mask \n",
    "    total_poäng_samtliga.append(total_point)\n",
    "    print(total_poäng_samtliga)\n",
    "    "
   ]
  },
  {
   "cell_type": "markdown",
   "metadata": {},
   "source": [
    "# kommunal"
   ]
  },
  {
   "cell_type": "code",
   "execution_count": 810,
   "metadata": {},
   "outputs": [
    {
     "name": "stdout",
     "output_type": "stream",
     "text": [
      "[15.4]\n",
      "[15.4, 11.6]\n",
      "[15.4, 11.6, 13.3]\n",
      "[15.4, 11.6, 13.3, 9]\n"
     ]
    }
   ],
   "source": [
    "total_poäng_kommunal = [\n",
    "    \n",
    "]\n",
    "\n",
    "for i in range (4):\n",
    "    total_point = df_subjects[i][df_subjects[i][\"Huvudman\"]== \"Kommunal\"][\"Totalt (Poäng)\"].values[0]\n",
    "    total_poäng_kommunal.append(total_point)\n",
    "    print(total_poäng_kommunal)"
   ]
  },
  {
   "cell_type": "markdown",
   "metadata": {},
   "source": [
    "# enskild"
   ]
  },
  {
   "cell_type": "code",
   "execution_count": 811,
   "metadata": {},
   "outputs": [
    {
     "name": "stdout",
     "output_type": "stream",
     "text": [
      "[16.9]\n",
      "[16.9, 13.0]\n",
      "[16.9, 13.0, 14.4]\n",
      "[16.9, 13.0, 14.4, 11.1]\n"
     ]
    }
   ],
   "source": [
    "total_poäng_enskild = [\n",
    "\n",
    "]\n",
    "\n",
    "for i in range (4):\n",
    "    total_point = df_subjects[i][df_subjects[i][\"Huvudman\"] == \"Enskild\"][\"Totalt (Poäng)\"].values[0]\n",
    "    total_poäng_enskild.append(total_point)\n",
    "    print(total_poäng_enskild)"
   ]
  },
  {
   "cell_type": "markdown",
   "metadata": {},
   "source": [
    "# skolverket"
   ]
  },
  {
   "cell_type": "code",
   "execution_count": 812,
   "metadata": {},
   "outputs": [
    {
     "name": "stdout",
     "output_type": "stream",
     "text": [
      "[18.5]\n",
      "[18.5, 14.1]\n",
      "[18.5, 14.1, 15.0]\n"
     ]
    }
   ],
   "source": [
    "total_poäng_skolverk = [\n",
    "\n",
    "]\n",
    "\n",
    "for i in range(3):\n",
    "    total_point = df_subjects[i][df_subjects[i][\"Huvudman\"] == \"Skolverket\"][\"Totalt (Poäng)\"].values[0]\n",
    "    total_poäng_skolverk.append(total_point)\n",
    "    print(total_poäng_skolverk)"
   ]
  },
  {
   "cell_type": "code",
   "execution_count": 813,
   "metadata": {},
   "outputs": [
    {
     "data": {
      "text/html": [
       "<div>\n",
       "<style scoped>\n",
       "    .dataframe tbody tr th:only-of-type {\n",
       "        vertical-align: middle;\n",
       "    }\n",
       "\n",
       "    .dataframe tbody tr th {\n",
       "        vertical-align: top;\n",
       "    }\n",
       "\n",
       "    .dataframe thead th {\n",
       "        text-align: right;\n",
       "    }\n",
       "</style>\n",
       "<table border=\"1\" class=\"dataframe\">\n",
       "  <thead>\n",
       "    <tr style=\"text-align: right;\">\n",
       "      <th></th>\n",
       "      <th>Riket</th>\n",
       "      <th>Huvudman</th>\n",
       "      <th>Totalt (A-F)</th>\n",
       "      <th>Flickor (A-F)</th>\n",
       "      <th>Pojkar (A-F)</th>\n",
       "      <th>Totalt (A-E)</th>\n",
       "      <th>Flickor (A-E)</th>\n",
       "      <th>Pojkar (A-E)</th>\n",
       "      <th>Totalt (Poäng)</th>\n",
       "      <th>Flickor (Poäng)</th>\n",
       "      <th>Pojkar (Poäng)</th>\n",
       "    </tr>\n",
       "  </thead>\n",
       "  <tbody>\n",
       "    <tr>\n",
       "      <th>0</th>\n",
       "      <td>Riket</td>\n",
       "      <td>Samtliga</td>\n",
       "      <td>14092</td>\n",
       "      <td>6447</td>\n",
       "      <td>7645</td>\n",
       "      <td>77.7</td>\n",
       "      <td>81.6</td>\n",
       "      <td>74.3</td>\n",
       "      <td>9.4</td>\n",
       "      <td>10.2</td>\n",
       "      <td>8.7</td>\n",
       "    </tr>\n",
       "    <tr>\n",
       "      <th>1</th>\n",
       "      <td>Riket</td>\n",
       "      <td>Kommunal</td>\n",
       "      <td>11963</td>\n",
       "      <td>5495</td>\n",
       "      <td>6468</td>\n",
       "      <td>75.9</td>\n",
       "      <td>80</td>\n",
       "      <td>72.4</td>\n",
       "      <td>9</td>\n",
       "      <td>9.9</td>\n",
       "      <td>8.3</td>\n",
       "    </tr>\n",
       "    <tr>\n",
       "      <th>2</th>\n",
       "      <td>Riket</td>\n",
       "      <td>Enskild</td>\n",
       "      <td>2122</td>\n",
       "      <td>949</td>\n",
       "      <td>1173</td>\n",
       "      <td>87.7</td>\n",
       "      <td>90.9</td>\n",
       "      <td>85.2</td>\n",
       "      <td>11.1</td>\n",
       "      <td>12</td>\n",
       "      <td>10.4</td>\n",
       "    </tr>\n",
       "  </tbody>\n",
       "</table>\n",
       "</div>"
      ],
      "text/plain": [
       "   Riket  Huvudman Totalt (A-F) Flickor (A-F) Pojkar (A-F) Totalt (A-E)  \\\n",
       "0  Riket  Samtliga        14092          6447         7645         77.7   \n",
       "1  Riket  Kommunal        11963          5495         6468         75.9   \n",
       "2  Riket   Enskild         2122           949         1173         87.7   \n",
       "\n",
       "  Flickor (A-E) Pojkar (A-E) Totalt (Poäng) Flickor (Poäng) Pojkar (Poäng)  \n",
       "0          81.6         74.3            9.4            10.2            8.7  \n",
       "1            80         72.4              9             9.9            8.3  \n",
       "2          90.9         85.2           11.1              12           10.4  "
      ]
     },
     "execution_count": 813,
     "metadata": {},
     "output_type": "execute_result"
    }
   ],
   "source": [
    "df_subjects[3]"
   ]
  },
  {
   "cell_type": "code",
   "execution_count": 814,
   "metadata": {},
   "outputs": [
    {
     "data": {
      "text/plain": [
       "[18.5, 14.1, 15.0]"
      ]
     },
     "execution_count": 814,
     "metadata": {},
     "output_type": "execute_result"
    }
   ],
   "source": [
    "total_poäng_skolverk"
   ]
  },
  {
   "cell_type": "code",
   "execution_count": 815,
   "metadata": {},
   "outputs": [
    {
     "data": {
      "text/plain": [
       "['engelska', 'matematik', 'svenska']"
      ]
     },
     "execution_count": 815,
     "metadata": {},
     "output_type": "execute_result"
    }
   ],
   "source": [
    "subject_names[:3]"
   ]
  },
  {
   "cell_type": "markdown",
   "metadata": {},
   "source": [
    "d) Rita fyra olika stapeldiagram i subplots på totala poängen för de olika ämnena för de olika huvudmännen."
   ]
  },
  {
   "cell_type": "code",
   "execution_count": 841,
   "metadata": {},
   "outputs": [
    {
     "data": {
      "image/png": "[encoded data removed]",
      "text/plain": [
       "<Figure size 1200x700 with 4 Axes>"
      ]
     },
     "metadata": {},
     "output_type": "display_data"
    }
   ],
   "source": [
    "subject_names = [\"Engelska\", \"Matematik\", \"Svenska\", \"SAS\"]\n",
    "huvudman_names = [\"Samtliga\", \"Kommunal\", \"Enskild\", \"Skolverket\"]\n",
    "\n",
    "# sätter färg\n",
    "colors = [\"#e3a5fa\", \"#e3a5fa\", \"#e3a5fa\", \"#e3a5fa\"]\n",
    "GRAY = \"#a291a8\"\n",
    "\n",
    "total_poäng_huvudman =[total_poäng_samtliga, total_poäng_enskild, total_poäng_kommunal,total_poäng_skolverk ]\n",
    "\n",
    "\n",
    "\n",
    "# Plot stacked bar charts for each huvudman in subplots\n",
    "fig, axes = plt.subplots(nrows=2, ncols=2, figsize=(12, 7))\n",
    "\n",
    "# axes.set_xticklabels(axes.get_xticklabels(), rotation = 90)\n",
    "\n",
    "total_poäng_huvudman = [\n",
    "    total_poäng_samtliga,\n",
    "    total_poäng_enskild,\n",
    "    total_poäng_kommunal,\n",
    "    total_poäng_skolverk,\n",
    "]\n",
    "\n",
    "\n",
    "for ax, poäng, huvudman_name in zip(\n",
    "    axes.flatten(), total_poäng_huvudman, huvudman_names\n",
    "):\n",
    "    ax.bar(subject_names[: len(poäng)], poäng, color = colors, width= 0.7)\n",
    "    ax.set_title(huvudman_name, fontsize=10)\n",
    "    ax.spines[\"left\"].set_color(GRAY)\n",
    "\n",
    "\n",
    "\n",
    "# for axes, huvudman_name in zip(axes.flatten(), huvudman_names): # får ut huvudnamn på vare graf\n",
    "#    axes.set_title(huvudman_name, fontsize = 10)"
   ]
  },
  {
   "cell_type": "code",
   "execution_count": 817,
   "metadata": {},
   "outputs": [],
   "source": [
    "##subject_names = [\"Engelska\", \"Matematik\", \"Svenska\", \"SAS\"]\n",
    "##huvudman_names = [\"Samtliga\", \"Kommunal\", \"Enskild\", \"Skolverket\"]\n",
    "##\n",
    "### sätter färg\n",
    "##colors = ['red', 'blue', 'green', 'orange']\n",
    "##\n",
    "### Plot stacked bar charts for each huvudman in subplots\n",
    "##fig, axes = plt.subplots(nrows=2, ncols=2,  figsize=(12, 7))\n",
    "##\n",
    "### axes.set_xticklabels(axes.get_xticklabels(), rotation = 90)\n",
    "##\n",
    "##total_poäng_huvudman =[total_poäng_samtliga, total_poäng_enskild, total_poäng_kommunal,total_poäng_skolverk ]\n",
    "##\n",
    "##\n",
    "##\n",
    "###axes[0,0].bar(x = subject_names, height = total_poäng_samtliga )\n",
    "###axes[0,1].bar(x = subject_names, height = total_poäng_kommunal)\n",
    "###axes[1,0].bar(x = subject_names, height = total_poäng_enskild)\n",
    "###axes[1,1].bar(x = subject_names[:3], height = total_poäng_skolverk)\n",
    "##\n",
    "##for ax_row, total_poäng_data, title in zip(axes, total_poäng_huvudman, huvudman_names):\n",
    " #   for ax, poäng in zip(ax_row, total_poäng_huvudman):\n",
    " #       \n",
    " #       if title == \"skolverk\":\n",
    " #           ax.bar(x=subject_names[:3], height=poäng, color = colors)\n",
    " #       else:\n",
    " #           ax.bar(x=subject_names, height=poäng, color = colors)\n",
    " #       ax.set_title(title)\n",
    " #       \n",
    "\n",
    "\n",
    "\n",
    "\n",
    "#axes[0,0].set_title(\"samtliga\",fontsize = 10)\n",
    "#axes[0,1].set_title(\"Kommunal\",fontsize = 10)\n",
    "#axes[1,0].set_title(\"Enskild\", fontsize = 10)\n",
    "#axes[1,1].set_title(\"Skolverket\", fontsize = 10)\n",
    "\n",
    "\n",
    "\n",
    "\n",
    "\n",
    "\n",
    "# Add labels and title\n",
    "#fig.suptitle(\"Totala poängen för varje ämne samt huvudman\")\n",
    "#plt.tight_layout()\n",
    "#\n",
    "## Show the plot\n",
    "#plt.show()"
   ]
  },
  {
   "cell_type": "markdown",
   "metadata": {},
   "source": [
    "# Uppgift 1 - uppvärmning betyg och prov\n",
    "### \n",
    "I uppgifterna nedan ska du använda dig av datasetet betyg_o_prov_riksnivå.xlsx. Använd Plotly för att rita diagrammen\n",
    "nedan för de uppgifter som kräver diagram. Använd Pandas för att svara på frågor om datasetet.\n",
    "  \n",
    "a) Rita ett linjediagram för andel elever som saknar godkänt betyg i ett eller fler ämnen för läsår 18-23. Ta med totalt,\n",
    "flickor och pojkar i samma graf.\n"
   ]
  },
  {
   "cell_type": "code",
   "execution_count": 818,
   "metadata": {},
   "outputs": [
    {
     "data": {
      "text/html": [
       "<div>\n",
       "<style scoped>\n",
       "    .dataframe tbody tr th:only-of-type {\n",
       "        vertical-align: middle;\n",
       "    }\n",
       "\n",
       "    .dataframe tbody tr th {\n",
       "        vertical-align: top;\n",
       "    }\n",
       "\n",
       "    .dataframe thead th {\n",
       "        text-align: right;\n",
       "    }\n",
       "</style>\n",
       "<table border=\"1\" class=\"dataframe\">\n",
       "  <thead>\n",
       "    <tr style=\"text-align: right;\">\n",
       "      <th></th>\n",
       "      <th>Unnamed: 0</th>\n",
       "      <th>Totalt</th>\n",
       "      <th>Flickor</th>\n",
       "      <th>Pojkar</th>\n",
       "      <th>Totalt.1</th>\n",
       "      <th>Flickor.1</th>\n",
       "      <th>Pojkar.1</th>\n",
       "      <th>Totalt.2</th>\n",
       "      <th>Flickor.2</th>\n",
       "      <th>Pojkar.2</th>\n",
       "    </tr>\n",
       "  </thead>\n",
       "  <tbody>\n",
       "    <tr>\n",
       "      <th>0</th>\n",
       "      <td>2018/19</td>\n",
       "      <td>221.7</td>\n",
       "      <td>234.3</td>\n",
       "      <td>209.8</td>\n",
       "      <td>229.8</td>\n",
       "      <td>243.3</td>\n",
       "      <td>217.0</td>\n",
       "      <td>24.5</td>\n",
       "      <td>21.7</td>\n",
       "      <td>27.2</td>\n",
       "    </tr>\n",
       "    <tr>\n",
       "      <th>1</th>\n",
       "      <td>2019/20</td>\n",
       "      <td>222.9</td>\n",
       "      <td>235.7</td>\n",
       "      <td>210.9</td>\n",
       "      <td>231.1</td>\n",
       "      <td>244.9</td>\n",
       "      <td>218.2</td>\n",
       "      <td>23.9</td>\n",
       "      <td>21.4</td>\n",
       "      <td>26.3</td>\n",
       "    </tr>\n",
       "    <tr>\n",
       "      <th>2</th>\n",
       "      <td>2020/21</td>\n",
       "      <td>223.9</td>\n",
       "      <td>235.4</td>\n",
       "      <td>212.9</td>\n",
       "      <td>232.1</td>\n",
       "      <td>244.4</td>\n",
       "      <td>220.3</td>\n",
       "      <td>23.9</td>\n",
       "      <td>21.9</td>\n",
       "      <td>25.9</td>\n",
       "    </tr>\n",
       "    <tr>\n",
       "      <th>3</th>\n",
       "      <td>2021/22</td>\n",
       "      <td>221.2</td>\n",
       "      <td>231.6</td>\n",
       "      <td>211.4</td>\n",
       "      <td>229.2</td>\n",
       "      <td>240.3</td>\n",
       "      <td>218.8</td>\n",
       "      <td>25.9</td>\n",
       "      <td>24.2</td>\n",
       "      <td>27.5</td>\n",
       "    </tr>\n",
       "    <tr>\n",
       "      <th>4</th>\n",
       "      <td>2022/23</td>\n",
       "      <td>220.6</td>\n",
       "      <td>229.7</td>\n",
       "      <td>211.9</td>\n",
       "      <td>228.5</td>\n",
       "      <td>238.2</td>\n",
       "      <td>219.3</td>\n",
       "      <td>26.8</td>\n",
       "      <td>25.5</td>\n",
       "      <td>28.0</td>\n",
       "    </tr>\n",
       "  </tbody>\n",
       "</table>\n",
       "</div>"
      ],
      "text/plain": [
       "  Unnamed: 0  Totalt  Flickor  Pojkar  Totalt.1  Flickor.1  Pojkar.1  \\\n",
       "0    2018/19   221.7    234.3   209.8     229.8      243.3     217.0   \n",
       "1    2019/20   222.9    235.7   210.9     231.1      244.9     218.2   \n",
       "2    2020/21   223.9    235.4   212.9     232.1      244.4     220.3   \n",
       "3    2021/22   221.2    231.6   211.4     229.2      240.3     218.8   \n",
       "4    2022/23   220.6    229.7   211.9     228.5      238.2     219.3   \n",
       "\n",
       "   Totalt.2  Flickor.2  Pojkar.2  \n",
       "0      24.5       21.7      27.2  \n",
       "1      23.9       21.4      26.3  \n",
       "2      23.9       21.9      25.9  \n",
       "3      25.9       24.2      27.5  \n",
       "4      26.8       25.5      28.0  "
      ]
     },
     "execution_count": 818,
     "metadata": {},
     "output_type": "execute_result"
    }
   ],
   "source": [
    "import plotly.express as px\n",
    "df_No_Grades = pd.read_excel(\"../data/labb_2/betyg_o_prov_riksnivå.xlsx\",skiprows=7, sheet_name=1 ).iloc[0:5]\n",
    "df_Grades = pd.read_excel(\"../data/labb_2/betyg_o_prov_riksnivå.xlsx\", skiprows=9, sheet_name=0).iloc[0:5]\n",
    "\n",
    "df_No_Grades\n"
   ]
  },
  {
   "cell_type": "code",
   "execution_count": 819,
   "metadata": {},
   "outputs": [
    {
     "data": {
      "text/html": [
       "<div>\n",
       "<style scoped>\n",
       "    .dataframe tbody tr th:only-of-type {\n",
       "        vertical-align: middle;\n",
       "    }\n",
       "\n",
       "    .dataframe tbody tr th {\n",
       "        vertical-align: top;\n",
       "    }\n",
       "\n",
       "    .dataframe thead th {\n",
       "        text-align: right;\n",
       "    }\n",
       "</style>\n",
       "<table border=\"1\" class=\"dataframe\">\n",
       "  <thead>\n",
       "    <tr style=\"text-align: right;\">\n",
       "      <th></th>\n",
       "      <th>Unnamed: 0</th>\n",
       "      <th>Unnamed: 1</th>\n",
       "      <th>Unnamed: 2</th>\n",
       "      <th>Unnamed: 3</th>\n",
       "      <th>Totalt</th>\n",
       "      <th>Flickor</th>\n",
       "      <th>Pojkar</th>\n",
       "      <th>Totalt.1</th>\n",
       "      <th>Flickor.1</th>\n",
       "      <th>Pojkar.1</th>\n",
       "    </tr>\n",
       "  </thead>\n",
       "  <tbody>\n",
       "    <tr>\n",
       "      <th>0</th>\n",
       "      <td>2018/19</td>\n",
       "      <td>112731.0</td>\n",
       "      <td>54667.0</td>\n",
       "      <td>58064.0</td>\n",
       "      <td>112280</td>\n",
       "      <td>54430</td>\n",
       "      <td>57850</td>\n",
       "      <td>110663</td>\n",
       "      <td>53757</td>\n",
       "      <td>56906</td>\n",
       "    </tr>\n",
       "    <tr>\n",
       "      <th>1</th>\n",
       "      <td>2019/20</td>\n",
       "      <td>115023.0</td>\n",
       "      <td>55670.0</td>\n",
       "      <td>59353.0</td>\n",
       "      <td>114444</td>\n",
       "      <td>55389</td>\n",
       "      <td>59055</td>\n",
       "      <td>112728</td>\n",
       "      <td>54711</td>\n",
       "      <td>58017</td>\n",
       "    </tr>\n",
       "    <tr>\n",
       "      <th>2</th>\n",
       "      <td>2020/21</td>\n",
       "      <td>116359.0</td>\n",
       "      <td>56715.0</td>\n",
       "      <td>59644.0</td>\n",
       "      <td>115710</td>\n",
       "      <td>56394</td>\n",
       "      <td>59316</td>\n",
       "      <td>114136</td>\n",
       "      <td>55721</td>\n",
       "      <td>58415</td>\n",
       "    </tr>\n",
       "    <tr>\n",
       "      <th>3</th>\n",
       "      <td>2021/22</td>\n",
       "      <td>120525.0</td>\n",
       "      <td>58513.0</td>\n",
       "      <td>62012.0</td>\n",
       "      <td>119891</td>\n",
       "      <td>58207</td>\n",
       "      <td>61684</td>\n",
       "      <td>117935</td>\n",
       "      <td>57312</td>\n",
       "      <td>60623</td>\n",
       "    </tr>\n",
       "    <tr>\n",
       "      <th>4</th>\n",
       "      <td>2022/23</td>\n",
       "      <td>121369.0</td>\n",
       "      <td>59043.0</td>\n",
       "      <td>62326.0</td>\n",
       "      <td>120742</td>\n",
       "      <td>58703</td>\n",
       "      <td>62039</td>\n",
       "      <td>118736</td>\n",
       "      <td>57781</td>\n",
       "      <td>60955</td>\n",
       "    </tr>\n",
       "  </tbody>\n",
       "</table>\n",
       "</div>"
      ],
      "text/plain": [
       "  Unnamed: 0  Unnamed: 1  Unnamed: 2  Unnamed: 3  Totalt Flickor Pojkar  \\\n",
       "0    2018/19    112731.0     54667.0     58064.0  112280   54430  57850   \n",
       "1    2019/20    115023.0     55670.0     59353.0  114444   55389  59055   \n",
       "2    2020/21    116359.0     56715.0     59644.0  115710   56394  59316   \n",
       "3    2021/22    120525.0     58513.0     62012.0  119891   58207  61684   \n",
       "4    2022/23    121369.0     59043.0     62326.0  120742   58703  62039   \n",
       "\n",
       "  Totalt.1 Flickor.1 Pojkar.1  \n",
       "0   110663     53757    56906  \n",
       "1   112728     54711    58017  \n",
       "2   114136     55721    58415  \n",
       "3   117935     57312    60623  \n",
       "4   118736     57781    60955  "
      ]
     },
     "execution_count": 819,
     "metadata": {},
     "output_type": "execute_result"
    }
   ],
   "source": [
    "df_Grades"
   ]
  },
  {
   "cell_type": "code",
   "execution_count": 820,
   "metadata": {},
   "outputs": [
    {
     "name": "stdout",
     "output_type": "stream",
     "text": [
      "<class 'pandas.core.frame.DataFrame'>\n",
      "RangeIndex: 5 entries, 0 to 4\n",
      "Data columns (total 10 columns):\n",
      " #   Column      Non-Null Count  Dtype  \n",
      "---  ------      --------------  -----  \n",
      " 0   Unnamed: 0  5 non-null      object \n",
      " 1   Totalt      5 non-null      float64\n",
      " 2   Flickor     5 non-null      float64\n",
      " 3   Pojkar      5 non-null      float64\n",
      " 4   Totalt.1    5 non-null      float64\n",
      " 5   Flickor.1   5 non-null      float64\n",
      " 6   Pojkar.1    5 non-null      float64\n",
      " 7   Totalt.2    5 non-null      float64\n",
      " 8   Flickor.2   5 non-null      float64\n",
      " 9   Pojkar.2    5 non-null      float64\n",
      "dtypes: float64(9), object(1)\n",
      "memory usage: 532.0+ bytes\n"
     ]
    }
   ],
   "source": [
    "df_No_Grades.info()"
   ]
  },
  {
   "cell_type": "code",
   "execution_count": 821,
   "metadata": {},
   "outputs": [
    {
     "data": {
      "text/html": [
       "<div>\n",
       "<style scoped>\n",
       "    .dataframe tbody tr th:only-of-type {\n",
       "        vertical-align: middle;\n",
       "    }\n",
       "\n",
       "    .dataframe tbody tr th {\n",
       "        vertical-align: top;\n",
       "    }\n",
       "\n",
       "    .dataframe thead th {\n",
       "        text-align: right;\n",
       "    }\n",
       "</style>\n",
       "<table border=\"1\" class=\"dataframe\">\n",
       "  <thead>\n",
       "    <tr style=\"text-align: right;\">\n",
       "      <th></th>\n",
       "      <th>1</th>\n",
       "      <th>2</th>\n",
       "      <th>3</th>\n",
       "      <th>4</th>\n",
       "      <th>5</th>\n",
       "      <th>6</th>\n",
       "      <th>7</th>\n",
       "      <th>8</th>\n",
       "      <th>9</th>\n",
       "      <th>10</th>\n",
       "    </tr>\n",
       "  </thead>\n",
       "  <tbody>\n",
       "    <tr>\n",
       "      <th>0</th>\n",
       "      <td>2018/19</td>\n",
       "      <td>221.7</td>\n",
       "      <td>234.3</td>\n",
       "      <td>209.8</td>\n",
       "      <td>229.8</td>\n",
       "      <td>243.3</td>\n",
       "      <td>217.0</td>\n",
       "      <td>24.5</td>\n",
       "      <td>21.7</td>\n",
       "      <td>27.2</td>\n",
       "    </tr>\n",
       "    <tr>\n",
       "      <th>1</th>\n",
       "      <td>2019/20</td>\n",
       "      <td>222.9</td>\n",
       "      <td>235.7</td>\n",
       "      <td>210.9</td>\n",
       "      <td>231.1</td>\n",
       "      <td>244.9</td>\n",
       "      <td>218.2</td>\n",
       "      <td>23.9</td>\n",
       "      <td>21.4</td>\n",
       "      <td>26.3</td>\n",
       "    </tr>\n",
       "    <tr>\n",
       "      <th>2</th>\n",
       "      <td>2020/21</td>\n",
       "      <td>223.9</td>\n",
       "      <td>235.4</td>\n",
       "      <td>212.9</td>\n",
       "      <td>232.1</td>\n",
       "      <td>244.4</td>\n",
       "      <td>220.3</td>\n",
       "      <td>23.9</td>\n",
       "      <td>21.9</td>\n",
       "      <td>25.9</td>\n",
       "    </tr>\n",
       "    <tr>\n",
       "      <th>3</th>\n",
       "      <td>2021/22</td>\n",
       "      <td>221.2</td>\n",
       "      <td>231.6</td>\n",
       "      <td>211.4</td>\n",
       "      <td>229.2</td>\n",
       "      <td>240.3</td>\n",
       "      <td>218.8</td>\n",
       "      <td>25.9</td>\n",
       "      <td>24.2</td>\n",
       "      <td>27.5</td>\n",
       "    </tr>\n",
       "    <tr>\n",
       "      <th>4</th>\n",
       "      <td>2022/23</td>\n",
       "      <td>220.6</td>\n",
       "      <td>229.7</td>\n",
       "      <td>211.9</td>\n",
       "      <td>228.5</td>\n",
       "      <td>238.2</td>\n",
       "      <td>219.3</td>\n",
       "      <td>26.8</td>\n",
       "      <td>25.5</td>\n",
       "      <td>28.0</td>\n",
       "    </tr>\n",
       "  </tbody>\n",
       "</table>\n",
       "</div>"
      ],
      "text/plain": [
       "        1      2      3      4      5      6      7     8     9     10\n",
       "0  2018/19  221.7  234.3  209.8  229.8  243.3  217.0  24.5  21.7  27.2\n",
       "1  2019/20  222.9  235.7  210.9  231.1  244.9  218.2  23.9  21.4  26.3\n",
       "2  2020/21  223.9  235.4  212.9  232.1  244.4  220.3  23.9  21.9  25.9\n",
       "3  2021/22  221.2  231.6  211.4  229.2  240.3  218.8  25.9  24.2  27.5\n",
       "4  2022/23  220.6  229.7  211.9  228.5  238.2  219.3  26.8  25.5  28.0"
      ]
     },
     "execution_count": 821,
     "metadata": {},
     "output_type": "execute_result"
    }
   ],
   "source": [
    "df_No_Grades.columns = [1,2,3,4,5,6,7,8,9,10]\n",
    "df_No_Grades.head()"
   ]
  },
  {
   "cell_type": "code",
   "execution_count": 822,
   "metadata": {},
   "outputs": [
    {
     "data": {
      "text/html": [
       "<div>\n",
       "<style scoped>\n",
       "    .dataframe tbody tr th:only-of-type {\n",
       "        vertical-align: middle;\n",
       "    }\n",
       "\n",
       "    .dataframe tbody tr th {\n",
       "        vertical-align: top;\n",
       "    }\n",
       "\n",
       "    .dataframe thead th {\n",
       "        text-align: right;\n",
       "    }\n",
       "</style>\n",
       "<table border=\"1\" class=\"dataframe\">\n",
       "  <thead>\n",
       "    <tr style=\"text-align: right;\">\n",
       "      <th></th>\n",
       "      <th>1</th>\n",
       "      <th>2</th>\n",
       "      <th>3</th>\n",
       "      <th>4</th>\n",
       "      <th>5</th>\n",
       "      <th>6</th>\n",
       "      <th>7</th>\n",
       "      <th>8</th>\n",
       "      <th>9</th>\n",
       "      <th>10</th>\n",
       "    </tr>\n",
       "  </thead>\n",
       "  <tbody>\n",
       "    <tr>\n",
       "      <th>0</th>\n",
       "      <td>2018/19</td>\n",
       "      <td>112731.0</td>\n",
       "      <td>54667.0</td>\n",
       "      <td>58064.0</td>\n",
       "      <td>112280</td>\n",
       "      <td>54430</td>\n",
       "      <td>57850</td>\n",
       "      <td>110663</td>\n",
       "      <td>53757</td>\n",
       "      <td>56906</td>\n",
       "    </tr>\n",
       "    <tr>\n",
       "      <th>1</th>\n",
       "      <td>2019/20</td>\n",
       "      <td>115023.0</td>\n",
       "      <td>55670.0</td>\n",
       "      <td>59353.0</td>\n",
       "      <td>114444</td>\n",
       "      <td>55389</td>\n",
       "      <td>59055</td>\n",
       "      <td>112728</td>\n",
       "      <td>54711</td>\n",
       "      <td>58017</td>\n",
       "    </tr>\n",
       "    <tr>\n",
       "      <th>2</th>\n",
       "      <td>2020/21</td>\n",
       "      <td>116359.0</td>\n",
       "      <td>56715.0</td>\n",
       "      <td>59644.0</td>\n",
       "      <td>115710</td>\n",
       "      <td>56394</td>\n",
       "      <td>59316</td>\n",
       "      <td>114136</td>\n",
       "      <td>55721</td>\n",
       "      <td>58415</td>\n",
       "    </tr>\n",
       "    <tr>\n",
       "      <th>3</th>\n",
       "      <td>2021/22</td>\n",
       "      <td>120525.0</td>\n",
       "      <td>58513.0</td>\n",
       "      <td>62012.0</td>\n",
       "      <td>119891</td>\n",
       "      <td>58207</td>\n",
       "      <td>61684</td>\n",
       "      <td>117935</td>\n",
       "      <td>57312</td>\n",
       "      <td>60623</td>\n",
       "    </tr>\n",
       "    <tr>\n",
       "      <th>4</th>\n",
       "      <td>2022/23</td>\n",
       "      <td>121369.0</td>\n",
       "      <td>59043.0</td>\n",
       "      <td>62326.0</td>\n",
       "      <td>120742</td>\n",
       "      <td>58703</td>\n",
       "      <td>62039</td>\n",
       "      <td>118736</td>\n",
       "      <td>57781</td>\n",
       "      <td>60955</td>\n",
       "    </tr>\n",
       "  </tbody>\n",
       "</table>\n",
       "</div>"
      ],
      "text/plain": [
       "        1         2        3        4       5      6      7       8      9   \\\n",
       "0  2018/19  112731.0  54667.0  58064.0  112280  54430  57850  110663  53757   \n",
       "1  2019/20  115023.0  55670.0  59353.0  114444  55389  59055  112728  54711   \n",
       "2  2020/21  116359.0  56715.0  59644.0  115710  56394  59316  114136  55721   \n",
       "3  2021/22  120525.0  58513.0  62012.0  119891  58207  61684  117935  57312   \n",
       "4  2022/23  121369.0  59043.0  62326.0  120742  58703  62039  118736  57781   \n",
       "\n",
       "      10  \n",
       "0  56906  \n",
       "1  58017  \n",
       "2  58415  \n",
       "3  60623  \n",
       "4  60955  "
      ]
     },
     "execution_count": 822,
     "metadata": {},
     "output_type": "execute_result"
    }
   ],
   "source": [
    "df_Grades.columns = [1,2,3,4,5,6,7,8,9,10]\n",
    "df_Grades.head()"
   ]
  },
  {
   "cell_type": "code",
   "execution_count": 823,
   "metadata": {},
   "outputs": [
    {
     "data": {
      "text/html": [
       "<div>\n",
       "<style scoped>\n",
       "    .dataframe tbody tr th:only-of-type {\n",
       "        vertical-align: middle;\n",
       "    }\n",
       "\n",
       "    .dataframe tbody tr th {\n",
       "        vertical-align: top;\n",
       "    }\n",
       "\n",
       "    .dataframe thead th {\n",
       "        text-align: right;\n",
       "    }\n",
       "</style>\n",
       "<table border=\"1\" class=\"dataframe\">\n",
       "  <thead>\n",
       "    <tr style=\"text-align: right;\">\n",
       "      <th></th>\n",
       "      <th>Läsår</th>\n",
       "      <th>Totalt_Merit_16</th>\n",
       "      <th>Flickor_Merit_16</th>\n",
       "      <th>Pojkar_Merit_16</th>\n",
       "      <th>Totalt_Merit_17</th>\n",
       "      <th>Flickor_Merit_17</th>\n",
       "      <th>Pojkar_Merit_17</th>\n",
       "      <th>Totalt_%</th>\n",
       "      <th>Flickor_%</th>\n",
       "      <th>Pojkar_%</th>\n",
       "    </tr>\n",
       "  </thead>\n",
       "  <tbody>\n",
       "    <tr>\n",
       "      <th>0</th>\n",
       "      <td>2018/19</td>\n",
       "      <td>221.7</td>\n",
       "      <td>234.3</td>\n",
       "      <td>209.8</td>\n",
       "      <td>229.8</td>\n",
       "      <td>243.3</td>\n",
       "      <td>217.0</td>\n",
       "      <td>24.5</td>\n",
       "      <td>21.7</td>\n",
       "      <td>27.2</td>\n",
       "    </tr>\n",
       "    <tr>\n",
       "      <th>1</th>\n",
       "      <td>2019/20</td>\n",
       "      <td>222.9</td>\n",
       "      <td>235.7</td>\n",
       "      <td>210.9</td>\n",
       "      <td>231.1</td>\n",
       "      <td>244.9</td>\n",
       "      <td>218.2</td>\n",
       "      <td>23.9</td>\n",
       "      <td>21.4</td>\n",
       "      <td>26.3</td>\n",
       "    </tr>\n",
       "    <tr>\n",
       "      <th>2</th>\n",
       "      <td>2020/21</td>\n",
       "      <td>223.9</td>\n",
       "      <td>235.4</td>\n",
       "      <td>212.9</td>\n",
       "      <td>232.1</td>\n",
       "      <td>244.4</td>\n",
       "      <td>220.3</td>\n",
       "      <td>23.9</td>\n",
       "      <td>21.9</td>\n",
       "      <td>25.9</td>\n",
       "    </tr>\n",
       "    <tr>\n",
       "      <th>3</th>\n",
       "      <td>2021/22</td>\n",
       "      <td>221.2</td>\n",
       "      <td>231.6</td>\n",
       "      <td>211.4</td>\n",
       "      <td>229.2</td>\n",
       "      <td>240.3</td>\n",
       "      <td>218.8</td>\n",
       "      <td>25.9</td>\n",
       "      <td>24.2</td>\n",
       "      <td>27.5</td>\n",
       "    </tr>\n",
       "    <tr>\n",
       "      <th>4</th>\n",
       "      <td>2022/23</td>\n",
       "      <td>220.6</td>\n",
       "      <td>229.7</td>\n",
       "      <td>211.9</td>\n",
       "      <td>228.5</td>\n",
       "      <td>238.2</td>\n",
       "      <td>219.3</td>\n",
       "      <td>26.8</td>\n",
       "      <td>25.5</td>\n",
       "      <td>28.0</td>\n",
       "    </tr>\n",
       "  </tbody>\n",
       "</table>\n",
       "</div>"
      ],
      "text/plain": [
       "     Läsår  Totalt_Merit_16  Flickor_Merit_16  Pojkar_Merit_16  \\\n",
       "0  2018/19            221.7             234.3            209.8   \n",
       "1  2019/20            222.9             235.7            210.9   \n",
       "2  2020/21            223.9             235.4            212.9   \n",
       "3  2021/22            221.2             231.6            211.4   \n",
       "4  2022/23            220.6             229.7            211.9   \n",
       "\n",
       "   Totalt_Merit_17  Flickor_Merit_17  Pojkar_Merit_17  Totalt_%  Flickor_%  \\\n",
       "0            229.8             243.3            217.0      24.5       21.7   \n",
       "1            231.1             244.9            218.2      23.9       21.4   \n",
       "2            232.1             244.4            220.3      23.9       21.9   \n",
       "3            229.2             240.3            218.8      25.9       24.2   \n",
       "4            228.5             238.2            219.3      26.8       25.5   \n",
       "\n",
       "   Pojkar_%  \n",
       "0      27.2  \n",
       "1      26.3  \n",
       "2      25.9  \n",
       "3      27.5  \n",
       "4      28.0  "
      ]
     },
     "execution_count": 823,
     "metadata": {},
     "output_type": "execute_result"
    }
   ],
   "source": [
    "df_No_Grades.columns = [\n",
    "    \"Läsår\",\n",
    "    \"Totalt_Merit_16\",\n",
    "    \"Flickor_Merit_16\",\n",
    "    \"Pojkar_Merit_16\",\n",
    "    \"Totalt_Merit_17\",\n",
    "    \"Flickor_Merit_17\",\n",
    "    \"Pojkar_Merit_17\",\n",
    "    \"Totalt_%\",\n",
    "    \"Flickor_%\",\n",
    "    \"Pojkar_%\",\n",
    "]\n",
    "df_No_Grades.head()"
   ]
  },
  {
   "cell_type": "code",
   "execution_count": 824,
   "metadata": {},
   "outputs": [
    {
     "data": {
      "text/html": [
       "<div>\n",
       "<style scoped>\n",
       "    .dataframe tbody tr th:only-of-type {\n",
       "        vertical-align: middle;\n",
       "    }\n",
       "\n",
       "    .dataframe tbody tr th {\n",
       "        vertical-align: top;\n",
       "    }\n",
       "\n",
       "    .dataframe thead th {\n",
       "        text-align: right;\n",
       "    }\n",
       "</style>\n",
       "<table border=\"1\" class=\"dataframe\">\n",
       "  <thead>\n",
       "    <tr style=\"text-align: right;\">\n",
       "      <th></th>\n",
       "      <th>Läsår</th>\n",
       "      <th>Totalt_Åk_9_Avslut</th>\n",
       "      <th>Flickor_Åk_9_Avslut</th>\n",
       "      <th>Pojkar_Åk_9_Avslut</th>\n",
       "      <th>Totalt_Slutbetyg</th>\n",
       "      <th>Flickor_slutbetyg</th>\n",
       "      <th>Pojkar_Slutbetyg</th>\n",
       "      <th>Totalt_G_slutbetyg</th>\n",
       "      <th>Flickor_G_slutbetyg</th>\n",
       "      <th>Pojkar_G_slutbetyg</th>\n",
       "    </tr>\n",
       "  </thead>\n",
       "  <tbody>\n",
       "    <tr>\n",
       "      <th>0</th>\n",
       "      <td>2018/19</td>\n",
       "      <td>112731.0</td>\n",
       "      <td>54667.0</td>\n",
       "      <td>58064.0</td>\n",
       "      <td>112280</td>\n",
       "      <td>54430</td>\n",
       "      <td>57850</td>\n",
       "      <td>110663</td>\n",
       "      <td>53757</td>\n",
       "      <td>56906</td>\n",
       "    </tr>\n",
       "    <tr>\n",
       "      <th>1</th>\n",
       "      <td>2019/20</td>\n",
       "      <td>115023.0</td>\n",
       "      <td>55670.0</td>\n",
       "      <td>59353.0</td>\n",
       "      <td>114444</td>\n",
       "      <td>55389</td>\n",
       "      <td>59055</td>\n",
       "      <td>112728</td>\n",
       "      <td>54711</td>\n",
       "      <td>58017</td>\n",
       "    </tr>\n",
       "    <tr>\n",
       "      <th>2</th>\n",
       "      <td>2020/21</td>\n",
       "      <td>116359.0</td>\n",
       "      <td>56715.0</td>\n",
       "      <td>59644.0</td>\n",
       "      <td>115710</td>\n",
       "      <td>56394</td>\n",
       "      <td>59316</td>\n",
       "      <td>114136</td>\n",
       "      <td>55721</td>\n",
       "      <td>58415</td>\n",
       "    </tr>\n",
       "    <tr>\n",
       "      <th>3</th>\n",
       "      <td>2021/22</td>\n",
       "      <td>120525.0</td>\n",
       "      <td>58513.0</td>\n",
       "      <td>62012.0</td>\n",
       "      <td>119891</td>\n",
       "      <td>58207</td>\n",
       "      <td>61684</td>\n",
       "      <td>117935</td>\n",
       "      <td>57312</td>\n",
       "      <td>60623</td>\n",
       "    </tr>\n",
       "    <tr>\n",
       "      <th>4</th>\n",
       "      <td>2022/23</td>\n",
       "      <td>121369.0</td>\n",
       "      <td>59043.0</td>\n",
       "      <td>62326.0</td>\n",
       "      <td>120742</td>\n",
       "      <td>58703</td>\n",
       "      <td>62039</td>\n",
       "      <td>118736</td>\n",
       "      <td>57781</td>\n",
       "      <td>60955</td>\n",
       "    </tr>\n",
       "  </tbody>\n",
       "</table>\n",
       "</div>"
      ],
      "text/plain": [
       "     Läsår  Totalt_Åk_9_Avslut  Flickor_Åk_9_Avslut  Pojkar_Åk_9_Avslut  \\\n",
       "0  2018/19            112731.0              54667.0             58064.0   \n",
       "1  2019/20            115023.0              55670.0             59353.0   \n",
       "2  2020/21            116359.0              56715.0             59644.0   \n",
       "3  2021/22            120525.0              58513.0             62012.0   \n",
       "4  2022/23            121369.0              59043.0             62326.0   \n",
       "\n",
       "  Totalt_Slutbetyg Flickor_slutbetyg Pojkar_Slutbetyg Totalt_G_slutbetyg  \\\n",
       "0           112280             54430            57850             110663   \n",
       "1           114444             55389            59055             112728   \n",
       "2           115710             56394            59316             114136   \n",
       "3           119891             58207            61684             117935   \n",
       "4           120742             58703            62039             118736   \n",
       "\n",
       "  Flickor_G_slutbetyg Pojkar_G_slutbetyg  \n",
       "0               53757              56906  \n",
       "1               54711              58017  \n",
       "2               55721              58415  \n",
       "3               57312              60623  \n",
       "4               57781              60955  "
      ]
     },
     "execution_count": 824,
     "metadata": {},
     "output_type": "execute_result"
    }
   ],
   "source": [
    "df_Grades.columns = [\n",
    "   \"Läsår\",\n",
    "    \"Totalt_Åk_9_Avslut\",\n",
    "    \"Flickor_Åk_9_Avslut\",\n",
    "    \"Pojkar_Åk_9_Avslut\",\n",
    "    \"Totalt_Slutbetyg\",\n",
    "    \"Flickor_slutbetyg\",\n",
    "    \"Pojkar_Slutbetyg\",\n",
    "    \"Totalt_G_slutbetyg\",\n",
    "    \"Flickor_G_slutbetyg\",\n",
    "    \"Pojkar_G_slutbetyg\",\n",
    "]\n",
    "df_Grades.head()"
   ]
  },
  {
   "cell_type": "code",
   "execution_count": 825,
   "metadata": {},
   "outputs": [
    {
     "data": {
      "text/html": [
       "<div>\n",
       "<style scoped>\n",
       "    .dataframe tbody tr th:only-of-type {\n",
       "        vertical-align: middle;\n",
       "    }\n",
       "\n",
       "    .dataframe tbody tr th {\n",
       "        vertical-align: top;\n",
       "    }\n",
       "\n",
       "    .dataframe thead th {\n",
       "        text-align: right;\n",
       "    }\n",
       "</style>\n",
       "<table border=\"1\" class=\"dataframe\">\n",
       "  <thead>\n",
       "    <tr style=\"text-align: right;\">\n",
       "      <th></th>\n",
       "      <th>Läsår</th>\n",
       "      <th>Flickor_%</th>\n",
       "      <th>Pojkar_%</th>\n",
       "    </tr>\n",
       "  </thead>\n",
       "  <tbody>\n",
       "    <tr>\n",
       "      <th>0</th>\n",
       "      <td>2018/19</td>\n",
       "      <td>21.7</td>\n",
       "      <td>27.2</td>\n",
       "    </tr>\n",
       "    <tr>\n",
       "      <th>1</th>\n",
       "      <td>2019/20</td>\n",
       "      <td>21.4</td>\n",
       "      <td>26.3</td>\n",
       "    </tr>\n",
       "    <tr>\n",
       "      <th>2</th>\n",
       "      <td>2020/21</td>\n",
       "      <td>21.9</td>\n",
       "      <td>25.9</td>\n",
       "    </tr>\n",
       "    <tr>\n",
       "      <th>3</th>\n",
       "      <td>2021/22</td>\n",
       "      <td>24.2</td>\n",
       "      <td>27.5</td>\n",
       "    </tr>\n",
       "    <tr>\n",
       "      <th>4</th>\n",
       "      <td>2022/23</td>\n",
       "      <td>25.5</td>\n",
       "      <td>28.0</td>\n",
       "    </tr>\n",
       "  </tbody>\n",
       "</table>\n",
       "</div>"
      ],
      "text/plain": [
       "     Läsår  Flickor_%  Pojkar_%\n",
       "0  2018/19       21.7      27.2\n",
       "1  2019/20       21.4      26.3\n",
       "2  2020/21       21.9      25.9\n",
       "3  2021/22       24.2      27.5\n",
       "4  2022/23       25.5      28.0"
      ]
     },
     "execution_count": 825,
     "metadata": {},
     "output_type": "execute_result"
    }
   ],
   "source": [
    "df_No_Grades[[\"Läsår\", \"Flickor_%\", \"Pojkar_%\"]] #tar ut kolumnerna som visar andelen (%) av elever som inte fått godkänt"
   ]
  },
  {
   "cell_type": "code",
   "execution_count": 826,
   "metadata": {},
   "outputs": [
    {
     "data": {
      "application/vnd.plotly.v1+json": {
       "config": {
        "plotlyServerURL": "https://plot.ly"
       },
       "data": [
        {
         "hovertemplate": "variable=Totalt_%<br>Läsår=%{x}<br>value=%{y}<extra></extra>",
         "legendgroup": "Totalt_%",
         "line": {
          "color": "#636efa",
          "dash": "solid"
         },
         "marker": {
          "symbol": "circle"
         },
         "mode": "lines",
         "name": "Totalt_%",
         "orientation": "v",
         "showlegend": true,
         "type": "scatter",
         "x": [
          "2018/19",
          "2019/20",
          "2020/21",
          "2021/22",
          "2022/23"
         ],
         "xaxis": "x",
         "y": [
          24.5,
          23.9,
          23.9,
          25.9,
          26.8
         ],
         "yaxis": "y"
        },
        {
         "hovertemplate": "variable=Flickor_%<br>Läsår=%{x}<br>value=%{y}<extra></extra>",
         "legendgroup": "Flickor_%",
         "line": {
          "color": "#EF553B",
          "dash": "solid"
         },
         "marker": {
          "symbol": "circle"
         },
         "mode": "lines",
         "name": "Flickor_%",
         "orientation": "v",
         "showlegend": true,
         "type": "scatter",
         "x": [
          "2018/19",
          "2019/20",
          "2020/21",
          "2021/22",
          "2022/23"
         ],
         "xaxis": "x",
         "y": [
          21.7,
          21.4,
          21.9,
          24.2,
          25.5
         ],
         "yaxis": "y"
        },
        {
         "hovertemplate": "variable=Pojkar_%<br>Läsår=%{x}<br>value=%{y}<extra></extra>",
         "legendgroup": "Pojkar_%",
         "line": {
          "color": "#00cc96",
          "dash": "solid"
         },
         "marker": {
          "symbol": "circle"
         },
         "mode": "lines",
         "name": "Pojkar_%",
         "orientation": "v",
         "showlegend": true,
         "type": "scatter",
         "x": [
          "2018/19",
          "2019/20",
          "2020/21",
          "2021/22",
          "2022/23"
         ],
         "xaxis": "x",
         "y": [
          27.2,
          26.3,
          25.9,
          27.5,
          28
         ],
         "yaxis": "y"
        }
       ],
       "layout": {
        "legend": {
         "title": {
          "text": "variable"
         },
         "tracegroupgap": 0
        },
        "template": {
         "data": {
          "bar": [
           {
            "error_x": {
             "color": "#2a3f5f"
            },
            "error_y": {
             "color": "#2a3f5f"
            },
            "marker": {
             "line": {
              "color": "#E5ECF6",
              "width": 0.5
             },
             "pattern": {
              "fillmode": "overlay",
              "size": 10,
              "solidity": 0.2
             }
            },
            "type": "bar"
           }
          ],
          "barpolar": [
           {
            "marker": {
             "line": {
              "color": "#E5ECF6",
              "width": 0.5
             },
             "pattern": {
              "fillmode": "overlay",
              "size": 10,
              "solidity": 0.2
             }
            },
            "type": "barpolar"
           }
          ],
          "carpet": [
           {
            "aaxis": {
             "endlinecolor": "#2a3f5f",
             "gridcolor": "white",
             "linecolor": "white",
             "minorgridcolor": "white",
             "startlinecolor": "#2a3f5f"
            },
            "baxis": {
             "endlinecolor": "#2a3f5f",
             "gridcolor": "white",
             "linecolor": "white",
             "minorgridcolor": "white",
             "startlinecolor": "#2a3f5f"
            },
            "type": "carpet"
           }
          ],
          "choropleth": [
           {
            "colorbar": {
             "outlinewidth": 0,
             "ticks": ""
            },
            "type": "choropleth"
           }
          ],
          "contour": [
           {
            "colorbar": {
             "outlinewidth": 0,
             "ticks": ""
            },
            "colorscale": [
             [
              0,
              "#0d0887"
             ],
             [
              0.1111111111111111,
              "#46039f"
             ],
             [
              0.2222222222222222,
              "#7201a8"
             ],
             [
              0.3333333333333333,
              "#9c179e"
             ],
             [
              0.4444444444444444,
              "#bd3786"
             ],
             [
              0.5555555555555556,
              "#d8576b"
             ],
             [
              0.6666666666666666,
              "#ed7953"
             ],
             [
              0.7777777777777778,
              "#fb9f3a"
             ],
             [
              0.8888888888888888,
              "#fdca26"
             ],
             [
              1,
              "#f0f921"
             ]
            ],
            "type": "contour"
           }
          ],
          "contourcarpet": [
           {
            "colorbar": {
             "outlinewidth": 0,
             "ticks": ""
            },
            "type": "contourcarpet"
           }
          ],
          "heatmap": [
           {
            "colorbar": {
             "outlinewidth": 0,
             "ticks": ""
            },
            "colorscale": [
             [
              0,
              "#0d0887"
             ],
             [
              0.1111111111111111,
              "#46039f"
             ],
             [
              0.2222222222222222,
              "#7201a8"
             ],
             [
              0.3333333333333333,
              "#9c179e"
             ],
             [
              0.4444444444444444,
              "#bd3786"
             ],
             [
              0.5555555555555556,
              "#d8576b"
             ],
             [
              0.6666666666666666,
              "#ed7953"
             ],
             [
              0.7777777777777778,
              "#fb9f3a"
             ],
             [
              0.8888888888888888,
              "#fdca26"
             ],
             [
              1,
              "#f0f921"
             ]
            ],
            "type": "heatmap"
           }
          ],
          "heatmapgl": [
           {
            "colorbar": {
             "outlinewidth": 0,
             "ticks": ""
            },
            "colorscale": [
             [
              0,
              "#0d0887"
             ],
             [
              0.1111111111111111,
              "#46039f"
             ],
             [
              0.2222222222222222,
              "#7201a8"
             ],
             [
              0.3333333333333333,
              "#9c179e"
             ],
             [
              0.4444444444444444,
              "#bd3786"
             ],
             [
              0.5555555555555556,
              "#d8576b"
             ],
             [
              0.6666666666666666,
              "#ed7953"
             ],
             [
              0.7777777777777778,
              "#fb9f3a"
             ],
             [
              0.8888888888888888,
              "#fdca26"
             ],
             [
              1,
              "#f0f921"
             ]
            ],
            "type": "heatmapgl"
           }
          ],
          "histogram": [
           {
            "marker": {
             "pattern": {
              "fillmode": "overlay",
              "size": 10,
              "solidity": 0.2
             }
            },
            "type": "histogram"
           }
          ],
          "histogram2d": [
           {
            "colorbar": {
             "outlinewidth": 0,
             "ticks": ""
            },
            "colorscale": [
             [
              0,
              "#0d0887"
             ],
             [
              0.1111111111111111,
              "#46039f"
             ],
             [
              0.2222222222222222,
              "#7201a8"
             ],
             [
              0.3333333333333333,
              "#9c179e"
             ],
             [
              0.4444444444444444,
              "#bd3786"
             ],
             [
              0.5555555555555556,
              "#d8576b"
             ],
             [
              0.6666666666666666,
              "#ed7953"
             ],
             [
              0.7777777777777778,
              "#fb9f3a"
             ],
             [
              0.8888888888888888,
              "#fdca26"
             ],
             [
              1,
              "#f0f921"
             ]
            ],
            "type": "histogram2d"
           }
          ],
          "histogram2dcontour": [
           {
            "colorbar": {
             "outlinewidth": 0,
             "ticks": ""
            },
            "colorscale": [
             [
              0,
              "#0d0887"
             ],
             [
              0.1111111111111111,
              "#46039f"
             ],
             [
              0.2222222222222222,
              "#7201a8"
             ],
             [
              0.3333333333333333,
              "#9c179e"
             ],
             [
              0.4444444444444444,
              "#bd3786"
             ],
             [
              0.5555555555555556,
              "#d8576b"
             ],
             [
              0.6666666666666666,
              "#ed7953"
             ],
             [
              0.7777777777777778,
              "#fb9f3a"
             ],
             [
              0.8888888888888888,
              "#fdca26"
             ],
             [
              1,
              "#f0f921"
             ]
            ],
            "type": "histogram2dcontour"
           }
          ],
          "mesh3d": [
           {
            "colorbar": {
             "outlinewidth": 0,
             "ticks": ""
            },
            "type": "mesh3d"
           }
          ],
          "parcoords": [
           {
            "line": {
             "colorbar": {
              "outlinewidth": 0,
              "ticks": ""
             }
            },
            "type": "parcoords"
           }
          ],
          "pie": [
           {
            "automargin": true,
            "type": "pie"
           }
          ],
          "scatter": [
           {
            "fillpattern": {
             "fillmode": "overlay",
             "size": 10,
             "solidity": 0.2
            },
            "type": "scatter"
           }
          ],
          "scatter3d": [
           {
            "line": {
             "colorbar": {
              "outlinewidth": 0,
              "ticks": ""
             }
            },
            "marker": {
             "colorbar": {
              "outlinewidth": 0,
              "ticks": ""
             }
            },
            "type": "scatter3d"
           }
          ],
          "scattercarpet": [
           {
            "marker": {
             "colorbar": {
              "outlinewidth": 0,
              "ticks": ""
             }
            },
            "type": "scattercarpet"
           }
          ],
          "scattergeo": [
           {
            "marker": {
             "colorbar": {
              "outlinewidth": 0,
              "ticks": ""
             }
            },
            "type": "scattergeo"
           }
          ],
          "scattergl": [
           {
            "marker": {
             "colorbar": {
              "outlinewidth": 0,
              "ticks": ""
             }
            },
            "type": "scattergl"
           }
          ],
          "scattermapbox": [
           {
            "marker": {
             "colorbar": {
              "outlinewidth": 0,
              "ticks": ""
             }
            },
            "type": "scattermapbox"
           }
          ],
          "scatterpolar": [
           {
            "marker": {
             "colorbar": {
              "outlinewidth": 0,
              "ticks": ""
             }
            },
            "type": "scatterpolar"
           }
          ],
          "scatterpolargl": [
           {
            "marker": {
             "colorbar": {
              "outlinewidth": 0,
              "ticks": ""
             }
            },
            "type": "scatterpolargl"
           }
          ],
          "scatterternary": [
           {
            "marker": {
             "colorbar": {
              "outlinewidth": 0,
              "ticks": ""
             }
            },
            "type": "scatterternary"
           }
          ],
          "surface": [
           {
            "colorbar": {
             "outlinewidth": 0,
             "ticks": ""
            },
            "colorscale": [
             [
              0,
              "#0d0887"
             ],
             [
              0.1111111111111111,
              "#46039f"
             ],
             [
              0.2222222222222222,
              "#7201a8"
             ],
             [
              0.3333333333333333,
              "#9c179e"
             ],
             [
              0.4444444444444444,
              "#bd3786"
             ],
             [
              0.5555555555555556,
              "#d8576b"
             ],
             [
              0.6666666666666666,
              "#ed7953"
             ],
             [
              0.7777777777777778,
              "#fb9f3a"
             ],
             [
              0.8888888888888888,
              "#fdca26"
             ],
             [
              1,
              "#f0f921"
             ]
            ],
            "type": "surface"
           }
          ],
          "table": [
           {
            "cells": {
             "fill": {
              "color": "#EBF0F8"
             },
             "line": {
              "color": "white"
             }
            },
            "header": {
             "fill": {
              "color": "#C8D4E3"
             },
             "line": {
              "color": "white"
             }
            },
            "type": "table"
           }
          ]
         },
         "layout": {
          "annotationdefaults": {
           "arrowcolor": "#2a3f5f",
           "arrowhead": 0,
           "arrowwidth": 1
          },
          "autotypenumbers": "strict",
          "coloraxis": {
           "colorbar": {
            "outlinewidth": 0,
            "ticks": ""
           }
          },
          "colorscale": {
           "diverging": [
            [
             0,
             "#8e0152"
            ],
            [
             0.1,
             "#c51b7d"
            ],
            [
             0.2,
             "#de77ae"
            ],
            [
             0.3,
             "#f1b6da"
            ],
            [
             0.4,
             "#fde0ef"
            ],
            [
             0.5,
             "#f7f7f7"
            ],
            [
             0.6,
             "#e6f5d0"
            ],
            [
             0.7,
             "#b8e186"
            ],
            [
             0.8,
             "#7fbc41"
            ],
            [
             0.9,
             "#4d9221"
            ],
            [
             1,
             "#276419"
            ]
           ],
           "sequential": [
            [
             0,
             "#0d0887"
            ],
            [
             0.1111111111111111,
             "#46039f"
            ],
            [
             0.2222222222222222,
             "#7201a8"
            ],
            [
             0.3333333333333333,
             "#9c179e"
            ],
            [
             0.4444444444444444,
             "#bd3786"
            ],
            [
             0.5555555555555556,
             "#d8576b"
            ],
            [
             0.6666666666666666,
             "#ed7953"
            ],
            [
             0.7777777777777778,
             "#fb9f3a"
            ],
            [
             0.8888888888888888,
             "#fdca26"
            ],
            [
             1,
             "#f0f921"
            ]
           ],
           "sequentialminus": [
            [
             0,
             "#0d0887"
            ],
            [
             0.1111111111111111,
             "#46039f"
            ],
            [
             0.2222222222222222,
             "#7201a8"
            ],
            [
             0.3333333333333333,
             "#9c179e"
            ],
            [
             0.4444444444444444,
             "#bd3786"
            ],
            [
             0.5555555555555556,
             "#d8576b"
            ],
            [
             0.6666666666666666,
             "#ed7953"
            ],
            [
             0.7777777777777778,
             "#fb9f3a"
            ],
            [
             0.8888888888888888,
             "#fdca26"
            ],
            [
             1,
             "#f0f921"
            ]
           ]
          },
          "colorway": [
           "#636efa",
           "#EF553B",
           "#00cc96",
           "#ab63fa",
           "#FFA15A",
           "#19d3f3",
           "#FF6692",
           "#B6E880",
           "#FF97FF",
           "#FECB52"
          ],
          "font": {
           "color": "#2a3f5f"
          },
          "geo": {
           "bgcolor": "white",
           "lakecolor": "white",
           "landcolor": "#E5ECF6",
           "showlakes": true,
           "showland": true,
           "subunitcolor": "white"
          },
          "hoverlabel": {
           "align": "left"
          },
          "hovermode": "closest",
          "mapbox": {
           "style": "light"
          },
          "paper_bgcolor": "white",
          "plot_bgcolor": "#E5ECF6",
          "polar": {
           "angularaxis": {
            "gridcolor": "white",
            "linecolor": "white",
            "ticks": ""
           },
           "bgcolor": "#E5ECF6",
           "radialaxis": {
            "gridcolor": "white",
            "linecolor": "white",
            "ticks": ""
           }
          },
          "scene": {
           "xaxis": {
            "backgroundcolor": "#E5ECF6",
            "gridcolor": "white",
            "gridwidth": 2,
            "linecolor": "white",
            "showbackground": true,
            "ticks": "",
            "zerolinecolor": "white"
           },
           "yaxis": {
            "backgroundcolor": "#E5ECF6",
            "gridcolor": "white",
            "gridwidth": 2,
            "linecolor": "white",
            "showbackground": true,
            "ticks": "",
            "zerolinecolor": "white"
           },
           "zaxis": {
            "backgroundcolor": "#E5ECF6",
            "gridcolor": "white",
            "gridwidth": 2,
            "linecolor": "white",
            "showbackground": true,
            "ticks": "",
            "zerolinecolor": "white"
           }
          },
          "shapedefaults": {
           "line": {
            "color": "#2a3f5f"
           }
          },
          "ternary": {
           "aaxis": {
            "gridcolor": "white",
            "linecolor": "white",
            "ticks": ""
           },
           "baxis": {
            "gridcolor": "white",
            "linecolor": "white",
            "ticks": ""
           },
           "bgcolor": "#E5ECF6",
           "caxis": {
            "gridcolor": "white",
            "linecolor": "white",
            "ticks": ""
           }
          },
          "title": {
           "x": 0.05
          },
          "xaxis": {
           "automargin": true,
           "gridcolor": "white",
           "linecolor": "white",
           "ticks": "",
           "title": {
            "standoff": 15
           },
           "zerolinecolor": "white",
           "zerolinewidth": 2
          },
          "yaxis": {
           "automargin": true,
           "gridcolor": "white",
           "linecolor": "white",
           "ticks": "",
           "title": {
            "standoff": 15
           },
           "zerolinecolor": "white",
           "zerolinewidth": 2
          }
         }
        },
        "title": {
         "text": "Andel elever som saknar godkänt betyg"
        },
        "xaxis": {
         "anchor": "y",
         "domain": [
          0,
          1
         ],
         "title": {
          "text": "Läsår"
         }
        },
        "yaxis": {
         "anchor": "x",
         "domain": [
          0,
          1
         ],
         "title": {
          "text": "value"
         }
        }
       }
      }
     },
     "metadata": {},
     "output_type": "display_data"
    }
   ],
   "source": [
    "fig = px.line(df_No_Grades, x='Läsår', y=['Totalt_%', 'Flickor_%', 'Pojkar_%'], title='Andel elever som saknar godkänt betyg')\n",
    "\n",
    "fig.show()"
   ]
  }
 ],
 "metadata": {
  "kernelspec": {
   "display_name": "venv",
   "language": "python",
   "name": "python3"
  },
  "language_info": {
   "codemirror_mode": {
    "name": "ipython",
    "version": 3
   },
   "file_extension": ".py",
   "mimetype": "text/x-python",
   "name": "python",
   "nbconvert_exporter": "python",
   "pygments_lexer": "ipython3",
   "version": "3.11.7"
  }
 },
 "nbformat": 4,
 "nbformat_minor": 2
}
